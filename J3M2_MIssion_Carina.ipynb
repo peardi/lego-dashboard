{
  "cells": [
    {
      "cell_type": "markdown",
      "metadata": {
        "id": "view-in-github",
        "colab_type": "text"
      },
      "source": [
        "<a href=\"https://colab.research.google.com/github/peardi/lego-dashboard/blob/main/J3M2_MIssion_Carina.ipynb\" target=\"_parent\"><img src=\"https://colab.research.google.com/assets/colab-badge.svg\" alt=\"Open In Colab\"/></a>"
      ]
    },
    {
      "cell_type": "markdown",
      "metadata": {
        "id": "GwtH2swqeVyd"
      },
      "source": [
        "# Context"
      ]
    },
    {
      "cell_type": "markdown",
      "metadata": {
        "id": "SyqGxOzTeVye"
      },
      "source": [
        "This data set contains details of Lego sets, their associated Themes, year of launch, details on number of parts, colors and many other details! It offers a great platform for data exploration and visualizations.\n",
        "\n",
        "This dataset was originally hosted in https://www.kaggle.com/datasets/rtatman/lego-database."
      ]
    },
    {
      "cell_type": "markdown",
      "metadata": {
        "id": "rQ8KynZWeVye"
      },
      "source": [
        "# Content"
      ]
    },
    {
      "cell_type": "markdown",
      "metadata": {
        "id": "UySFCLmCeVye"
      },
      "source": [
        "Attribute information of the DataFrame:\n",
        "\n",
        "\n",
        "\n",
        "*   `theme_id`: An Integer. Represents the ID of the theme under which the Lego set falls;\n",
        "*   `theme_name`: A String. Represents the name of the theme under which the Lego set falls;\n",
        "*   `parent_id`: An Integer. The unique ID for the larger theme, if there is one;\n",
        "*   `parent_theme_name`: A String. Represents the name of the parent theme under which the Lego set falls;\n",
        "*   `parent_theme_id`: An Integer. The unique ID for the parent theme, if there is one;\n",
        "*   `set_num`: A String. The unique Id of a set;\n",
        "*   `set_name`: A String. The name of the set;\n",
        "*   `year`: An Integer. The year a set was launched;\n",
        "*   `num_parts`: An Integer. The number of parts of a Lego sets;\n",
        "*   `inventory_id`: An Integer. The unique ID of the Inventory;\n",
        "*   `inventory_version`: An Integer. The version number;\n",
        "*   `part_num`: An Integer. The unique identifier of a Lego piece of part;\n",
        "*   `color_id`: An Integer. The unique ID of a color;\n",
        "*   `quantity`: An Integer. The number of copies of a part on the set;\n",
        "*   `is_spare`: A String. Whether or not this is a spare part. Spare parts are additional parts not needed to finish the set;\n",
        "*   `color_name`: A String. The name of the color;\n",
        "*   `rgb`: A String. The approximate RGB color;\n",
        "*   `is_trans`: A String. Whether or not the given color is transparent/translucent;\n",
        "*   `part_name`: A String. The name of the part/piece;\n",
        "*   `part_cat_id`: A String. The unique ID of a part category;\n",
        "*   `part_category_name`: A String. The category of stuff the part is in.\n",
        "\n",
        "\n"
      ]
    },
    {
      "cell_type": "markdown",
      "metadata": {
        "id": "1wIFInjNeVye"
      },
      "source": [
        "# Install and Load Packages"
      ]
    },
    {
      "cell_type": "markdown",
      "metadata": {
        "id": "HS3CmgzGeVye"
      },
      "source": [
        "Some packages require previous installation. These cells do just that."
      ]
    },
    {
      "cell_type": "code",
      "execution_count": 1,
      "metadata": {
        "id": "yxq9MqZbeVye",
        "colab": {
          "base_uri": "https://localhost:8080/"
        },
        "outputId": "ea6e6d4e-1876-430f-978a-364bddb95769"
      },
      "outputs": [
        {
          "output_type": "stream",
          "name": "stdout",
          "text": [
            "\u001b[2K     \u001b[90m━━━━━━━━━━━━━━━━━━━━━━━━━━━━━━━━━━━━━━━━\u001b[0m \u001b[32m8.9/8.9 MB\u001b[0m \u001b[31m97.5 MB/s\u001b[0m eta \u001b[36m0:00:00\u001b[0m\n",
            "\u001b[2K     \u001b[90m━━━━━━━━━━━━━━━━━━━━━━━━━━━━━━━━━━━━━━\u001b[0m \u001b[32m164.8/164.8 kB\u001b[0m \u001b[31m16.8 MB/s\u001b[0m eta \u001b[36m0:00:00\u001b[0m\n",
            "\u001b[?25h  Preparing metadata (setup.py) ... \u001b[?25l\u001b[?25hdone\n",
            "\u001b[2K     \u001b[90m━━━━━━━━━━━━━━━━━━━━━━━━━━━━━━━━━━━━━━\u001b[0m \u001b[32m184.3/184.3 kB\u001b[0m \u001b[31m17.6 MB/s\u001b[0m eta \u001b[36m0:00:00\u001b[0m\n",
            "\u001b[2K     \u001b[90m━━━━━━━━━━━━━━━━━━━━━━━━━━━━━━━━━━━━━━━━\u001b[0m \u001b[32m4.8/4.8 MB\u001b[0m \u001b[31m39.0 MB/s\u001b[0m eta \u001b[36m0:00:00\u001b[0m\n",
            "\u001b[2K     \u001b[90m━━━━━━━━━━━━━━━━━━━━━━━━━━━━━━━━━━━━━━━━\u001b[0m \u001b[32m82.1/82.1 kB\u001b[0m \u001b[31m10.5 MB/s\u001b[0m eta \u001b[36m0:00:00\u001b[0m\n",
            "\u001b[2K     \u001b[90m━━━━━━━━━━━━━━━━━━━━━━━━━━━━━━━━━━━━━━━━\u001b[0m \u001b[32m62.7/62.7 kB\u001b[0m \u001b[31m8.2 MB/s\u001b[0m eta \u001b[36m0:00:00\u001b[0m\n",
            "\u001b[?25h  Building wheel for validators (setup.py) ... \u001b[?25l\u001b[?25hdone\n"
          ]
        }
      ],
      "source": [
        "#Install the Streamlit package (will be used to create the Streamlit Dashboard)\n",
        "!pip install -q \"streamlit==1.22.0\""
      ]
    },
    {
      "cell_type": "code",
      "execution_count": 2,
      "metadata": {
        "id": "vQBX6-AUeVye",
        "colab": {
          "base_uri": "https://localhost:8080/"
        },
        "outputId": "834fe86b-4394-410e-b252-dca677bcbc21"
      },
      "outputs": [
        {
          "output_type": "stream",
          "name": "stdout",
          "text": [
            "Looking in indexes: https://pypi.org/simple, https://us-python.pkg.dev/colab-wheels/public/simple/\n",
            "Collecting kaleido==0.2.1\n",
            "  Downloading kaleido-0.2.1-py2.py3-none-manylinux1_x86_64.whl (79.9 MB)\n",
            "\u001b[2K     \u001b[90m━━━━━━━━━━━━━━━━━━━━━━━━━━━━━━━━━━━━━━━━\u001b[0m \u001b[32m79.9/79.9 MB\u001b[0m \u001b[31m11.2 MB/s\u001b[0m eta \u001b[36m0:00:00\u001b[0m\n",
            "\u001b[?25hInstalling collected packages: kaleido\n",
            "Successfully installed kaleido-0.2.1\n"
          ]
        }
      ],
      "source": [
        "#Install the kaleido package (will be used to save a Plotly Graph to an image)\n",
        "!pip install -U \"kaleido==0.2.1\""
      ]
    },
    {
      "cell_type": "code",
      "execution_count": 3,
      "metadata": {
        "id": "NdQqY0TqeVyf",
        "colab": {
          "base_uri": "https://localhost:8080/"
        },
        "outputId": "6247b337-5239-4f15-aa04-a665f154c107"
      },
      "outputs": [
        {
          "output_type": "stream",
          "name": "stdout",
          "text": [
            "Looking in indexes: https://pypi.org/simple, https://us-python.pkg.dev/colab-wheels/public/simple/\n",
            "Collecting discord==2.2.2\n",
            "  Downloading discord-2.2.2-py3-none-any.whl (1.1 kB)\n",
            "Collecting discord.py>=2.2.2 (from discord==2.2.2)\n",
            "  Downloading discord.py-2.2.3-py3-none-any.whl (1.1 MB)\n",
            "\u001b[2K     \u001b[90m━━━━━━━━━━━━━━━━━━━━━━━━━━━━━━━━━━━━━━━━\u001b[0m \u001b[32m1.1/1.1 MB\u001b[0m \u001b[31m57.0 MB/s\u001b[0m eta \u001b[36m0:00:00\u001b[0m\n",
            "\u001b[?25hCollecting aiohttp<4,>=3.7.4 (from discord.py>=2.2.2->discord==2.2.2)\n",
            "  Downloading aiohttp-3.8.4-cp310-cp310-manylinux_2_17_x86_64.manylinux2014_x86_64.whl (1.0 MB)\n",
            "\u001b[2K     \u001b[90m━━━━━━━━━━━━━━━━━━━━━━━━━━━━━━━━━━━━━━━━\u001b[0m \u001b[32m1.0/1.0 MB\u001b[0m \u001b[31m70.1 MB/s\u001b[0m eta \u001b[36m0:00:00\u001b[0m\n",
            "\u001b[?25hRequirement already satisfied: attrs>=17.3.0 in /usr/local/lib/python3.10/dist-packages (from aiohttp<4,>=3.7.4->discord.py>=2.2.2->discord==2.2.2) (23.1.0)\n",
            "Requirement already satisfied: charset-normalizer<4.0,>=2.0 in /usr/local/lib/python3.10/dist-packages (from aiohttp<4,>=3.7.4->discord.py>=2.2.2->discord==2.2.2) (2.0.12)\n",
            "Collecting multidict<7.0,>=4.5 (from aiohttp<4,>=3.7.4->discord.py>=2.2.2->discord==2.2.2)\n",
            "  Downloading multidict-6.0.4-cp310-cp310-manylinux_2_17_x86_64.manylinux2014_x86_64.whl (114 kB)\n",
            "\u001b[2K     \u001b[90m━━━━━━━━━━━━━━━━━━━━━━━━━━━━━━━━━━━━━━\u001b[0m \u001b[32m114.5/114.5 kB\u001b[0m \u001b[31m15.4 MB/s\u001b[0m eta \u001b[36m0:00:00\u001b[0m\n",
            "\u001b[?25hCollecting async-timeout<5.0,>=4.0.0a3 (from aiohttp<4,>=3.7.4->discord.py>=2.2.2->discord==2.2.2)\n",
            "  Downloading async_timeout-4.0.2-py3-none-any.whl (5.8 kB)\n",
            "Collecting yarl<2.0,>=1.0 (from aiohttp<4,>=3.7.4->discord.py>=2.2.2->discord==2.2.2)\n",
            "  Downloading yarl-1.9.2-cp310-cp310-manylinux_2_17_x86_64.manylinux2014_x86_64.whl (268 kB)\n",
            "\u001b[2K     \u001b[90m━━━━━━━━━━━━━━━━━━━━━━━━━━━━━━━━━━━━━━\u001b[0m \u001b[32m268.8/268.8 kB\u001b[0m \u001b[31m31.5 MB/s\u001b[0m eta \u001b[36m0:00:00\u001b[0m\n",
            "\u001b[?25hCollecting frozenlist>=1.1.1 (from aiohttp<4,>=3.7.4->discord.py>=2.2.2->discord==2.2.2)\n",
            "  Downloading frozenlist-1.3.3-cp310-cp310-manylinux_2_5_x86_64.manylinux1_x86_64.manylinux_2_17_x86_64.manylinux2014_x86_64.whl (149 kB)\n",
            "\u001b[2K     \u001b[90m━━━━━━━━━━━━━━━━━━━━━━━━━━━━━━━━━━━━━\u001b[0m \u001b[32m149.6/149.6 kB\u001b[0m \u001b[31m767.3 kB/s\u001b[0m eta \u001b[36m0:00:00\u001b[0m\n",
            "\u001b[?25hCollecting aiosignal>=1.1.2 (from aiohttp<4,>=3.7.4->discord.py>=2.2.2->discord==2.2.2)\n",
            "  Downloading aiosignal-1.3.1-py3-none-any.whl (7.6 kB)\n",
            "Requirement already satisfied: idna>=2.0 in /usr/local/lib/python3.10/dist-packages (from yarl<2.0,>=1.0->aiohttp<4,>=3.7.4->discord.py>=2.2.2->discord==2.2.2) (3.4)\n",
            "Installing collected packages: multidict, frozenlist, async-timeout, yarl, aiosignal, aiohttp, discord.py, discord\n",
            "Successfully installed aiohttp-3.8.4 aiosignal-1.3.1 async-timeout-4.0.2 discord-2.2.2 discord.py-2.2.3 frozenlist-1.3.3 multidict-6.0.4 yarl-1.9.2\n"
          ]
        }
      ],
      "source": [
        "#Install the Discord package (will be used to communicate with Discord)\n",
        "!pip install \"discord==2.2.2\""
      ]
    },
    {
      "cell_type": "code",
      "execution_count": 4,
      "metadata": {
        "id": "uYoQ_7LUeVyf",
        "colab": {
          "base_uri": "https://localhost:8080/"
        },
        "outputId": "b7fb9cd8-713a-4688-8c9e-052fd3c49fb2"
      },
      "outputs": [
        {
          "output_type": "stream",
          "name": "stdout",
          "text": [
            "\u001b[K\u001b[?25h\u001b[37;40mnpm\u001b[0m \u001b[0m\u001b[30;43mWARN\u001b[0m \u001b[0m\u001b[35msaveError\u001b[0m ENOENT: no such file or directory, open '/content/package.json'\n",
            "\u001b[0m\u001b[37;40mnpm\u001b[0m \u001b[0m\u001b[34;40mnotice\u001b[0m\u001b[35m\u001b[0m created a lockfile as package-lock.json. You should commit this file.\n",
            "\u001b[0m\u001b[37;40mnpm\u001b[0m \u001b[0m\u001b[30;43mWARN\u001b[0m \u001b[0m\u001b[35menoent\u001b[0m ENOENT: no such file or directory, open '/content/package.json'\n",
            "\u001b[0m\u001b[37;40mnpm\u001b[0m \u001b[0m\u001b[30;43mWARN\u001b[0m\u001b[35m\u001b[0m content No description\n",
            "\u001b[0m\u001b[37;40mnpm\u001b[0m \u001b[0m\u001b[30;43mWARN\u001b[0m\u001b[35m\u001b[0m content No repository field.\n",
            "\u001b[0m\u001b[37;40mnpm\u001b[0m \u001b[0m\u001b[30;43mWARN\u001b[0m\u001b[35m\u001b[0m content No README data\n",
            "\u001b[0m\u001b[37;40mnpm\u001b[0m \u001b[0m\u001b[30;43mWARN\u001b[0m\u001b[35m\u001b[0m content No license field.\n",
            "\u001b[0m\n",
            "+ localtunnel@2.0.2\n",
            "added 22 packages from 22 contributors and audited 22 packages in 1.351s\n",
            "\n",
            "3 packages are looking for funding\n",
            "  run `npm fund` for details\n",
            "\n",
            "found \u001b[92m0\u001b[0m vulnerabilities\n",
            "\n",
            "\u001b[K\u001b[?25h"
          ]
        }
      ],
      "source": [
        "#We need to expose the locally running Dashboard via an IP. We will do this using the localtunnel package which requires nodejs. \n",
        "#npm is the default package manager of the Javascript runtime environment Node.js\n",
        "!npm install localtunnel@2.0.2"
      ]
    },
    {
      "cell_type": "code",
      "execution_count": 5,
      "metadata": {
        "id": "rhXTnFfteVyf"
      },
      "outputs": [],
      "source": [
        "#Import packages\n",
        "import numpy as np\n",
        "import pandas as pd\n",
        "import plotly.express as px\n",
        "import plotly.graph_objects as go\n",
        "from sklearn.metrics import mean_squared_error\n",
        "import matplotlib.pyplot as plt\n",
        "from statsmodels.tsa.stattools import adfuller\n",
        "from statsmodels.tsa.arima.model import ARIMA\n",
        "from statsmodels.tsa.stattools import pacf, acf\n",
        "from statsmodels.graphics.tsaplots import plot_predict\n",
        "from discord import SyncWebhook, File\n",
        "import kaleido\n",
        "import streamlit"
      ]
    },
    {
      "cell_type": "code",
      "execution_count": 6,
      "metadata": {
        "id": "ytUHMkoxeVyf"
      },
      "outputs": [],
      "source": [
        "#A list of colors to be used on the graph (this is not mandatory an by default Plotly will use its own palette of up to 10 distinct colours). \n",
        "#However as we may want to visualize more than 10 categories we will use this custom list of hex colour codes.\n",
        "colors_scaled = [\"#1F78C8\",\"#ff0000\",\"#33a02c\",\"#6A33C2\",\"#ff7f00\",\"#565656\",\n",
        "    \"#FFD700\",\"#a6cee3\",\"#FB6496\",\"#b2df8a\",\"#CAB2D6\",\"#FDBF6F\",\n",
        "    \"#999999\",\"#EEE685\",\"#C8308C\",\"#FF83FA\",\"#C814FA\",\"#0000FF\",\n",
        "    \"#36648B\",\"#00E2E5\",\"#00FF00\",\"#778B00\",\"#BEBE00\",\"#8B3B00\",\n",
        "    \"#A52A3C\"]"
      ]
    },
    {
      "cell_type": "markdown",
      "metadata": {
        "id": "AbeBHhKyeVyf"
      },
      "source": [
        "#Load the Dataset"
      ]
    },
    {
      "cell_type": "markdown",
      "metadata": {
        "id": "Gl8cRcsXeVyf"
      },
      "source": [
        "The first step is to load the dataset into a Pandas DataFrame named `df`."
      ]
    },
    {
      "cell_type": "code",
      "execution_count": 7,
      "metadata": {
        "id": "8H8haOSxH9YK",
        "colab": {
          "base_uri": "https://localhost:8080/"
        },
        "outputId": "911fa279-7c89-4be4-f264-b22d05b5d008"
      },
      "outputs": [
        {
          "output_type": "execute_result",
          "data": {
            "text/plain": [
              "(581250, 21)"
            ]
          },
          "metadata": {},
          "execution_count": 7
        }
      ],
      "source": [
        "df = pd.read_csv('https://miles-become-a-data-scientist.s3.us-east-2.amazonaws.com/J3/M2/df_combined_lego.csv')\n",
        "df.shape"
      ]
    },
    {
      "cell_type": "code",
      "execution_count": 8,
      "metadata": {
        "id": "zH3n9yP02qwJ",
        "colab": {
          "base_uri": "https://localhost:8080/"
        },
        "outputId": "e4638527-e94f-4dc8-9adc-d630e1e4b17b"
      },
      "outputs": [
        {
          "output_type": "execute_result",
          "data": {
            "text/plain": [
              "(581211, 21)"
            ]
          },
          "metadata": {},
          "execution_count": 8
        }
      ],
      "source": [
        "o = df.query(\"year>=1950 & year<=2017\")\n",
        "o.shape"
      ]
    },
    {
      "cell_type": "markdown",
      "metadata": {
        "id": "BpywK62kws-M"
      },
      "source": [
        "# 1. Going from Static to Dynamic"
      ]
    },
    {
      "cell_type": "markdown",
      "metadata": {
        "id": "yTsZOu2ieii_"
      },
      "source": [
        "## 1.1. Prepare a Filtered Version of the DataFrame"
      ]
    },
    {
      "cell_type": "markdown",
      "metadata": {
        "id": "nHXUiNGUeijA"
      },
      "source": [
        "Given that we have the year that a particular Lego set was launched, we may want to consider only a specific year range when producing our analyses and visualizations.\n",
        "\n",
        "This will be especially true once we create the Dashboard, as this can be one of the more important of the dimensions that the user can control. \n",
        "\n",
        "Therefore, create 2 variables `min_year` and `max_year`, set them to 1950 and 2017 integers respectively and then filter the `df` with them, keeping only Lego sets that were launched between those dates (inclusively). \n",
        "\n",
        "Save this filtered DataFrame to a new one called `df_filtered`."
      ]
    },
    {
      "cell_type": "code",
      "execution_count": 9,
      "metadata": {
        "id": "RaZqBHdUeijA"
      },
      "outputs": [],
      "source": [
        "#Set the 2 new variables min_year and max_year\n",
        "min_year = 1950\n",
        "max_year = 2017\n",
        "\n",
        "#Create a new DataFrame called df_filtered that consists of df filtered so that only data from years between min_year and max_year. \n",
        "#Important: do not exclude the 2 years themselves when applying the filter.\n",
        "df_filtered = df.loc[(df.year >= min_year) & (df.year<=max_year)].copy()\n",
        "\n",
        "#df_filtered = df.query(\"year>=1950 & year <=2017\").copy()\n"
      ]
    },
    {
      "cell_type": "markdown",
      "metadata": {
        "id": "vuThduXkKUs7"
      },
      "source": [
        "Now that we have a base dataset, we can start to create the visualizations that we will use on the Dashboard itself. While we can certainly do so directly when building the Dashboard, it is often easier and quicker to do so outside of it, make sure that they are working and only then adapt it to the Dashboard itself. \n",
        "\n",
        "That will be the approach you will take during this Mission. You will create all the visualization here on the cells first and then create the Dashboard scripts that will be run to create the Dashboard itself. After this First Activity you will have all the necessary content prepared for launching the first version of the Dashboard in Activity 2.\n",
        "\n",
        "The Dashboard starts with 4 metrics containing the volumes of New Master Themes, Themes, Sets and Parts per Sets that have appeared between the Start and End dates. These will then be displayed on the Dashboard in Metric Blocks (a small box with the value under a title) and will automatically adjust to changes to the minimum and maximum dates selected.\n",
        "\n",
        "As these are Pandas processing tasks which are not the goal of this Activity, the 4 metrics are already calculated for you here."
      ]
    },
    {
      "cell_type": "markdown",
      "metadata": {
        "id": "udUid4XvRZcI"
      },
      "source": [
        "## 4 Metrics Calculated (Code already provided for you)"
      ]
    },
    {
      "cell_type": "markdown",
      "metadata": {
        "id": "eR7sBWrA4xMV"
      },
      "source": [
        "### Number of New Master Themes"
      ]
    },
    {
      "cell_type": "markdown",
      "metadata": {
        "id": "oIwPM4qMRepS"
      },
      "source": [
        "How many New Master Themes were launched on the analysis period?\n",
        "\n",
        "This is derived from the calculation of the number of New Master Themes that started between the minimum and maximum years selected."
      ]
    },
    {
      "cell_type": "code",
      "execution_count": 10,
      "metadata": {
        "id": "ZcCxGRTg4wqk",
        "colab": {
          "base_uri": "https://localhost:8080/"
        },
        "outputId": "b09aa181-761f-4b23-ff42-0d5131317218"
      },
      "outputs": [
        {
          "output_type": "execute_result",
          "data": {
            "text/plain": [
              "118"
            ]
          },
          "metadata": {},
          "execution_count": 10
        }
      ],
      "source": [
        "#Number of New Master Themes started between minimum and maximum years\n",
        "metric_new_master_themes = df.groupby('parent_theme_name').year.min().reset_index()\n",
        "metric_new_master_themes = metric_new_master_themes[(metric_new_master_themes.year >= min_year) & (metric_new_master_themes.year<= max_year)]\n",
        "metric_new_master_themes = metric_new_master_themes.parent_theme_name.nunique()\n",
        "metric_new_master_themes"
      ]
    },
    {
      "cell_type": "markdown",
      "metadata": {
        "id": "Br8rELjlMdcU"
      },
      "source": [
        "### Number of New Themes"
      ]
    },
    {
      "cell_type": "markdown",
      "metadata": {
        "id": "ZvpQdlxsVlGC"
      },
      "source": [
        "How many New Themes were launched on the analysis period?\n",
        "\n",
        "This is derived from the calculation of the number of New Themes that started between the minimum and maximum years selected."
      ]
    },
    {
      "cell_type": "code",
      "execution_count": 11,
      "metadata": {
        "id": "w7cHR9Vn4wmn",
        "colab": {
          "base_uri": "https://localhost:8080/"
        },
        "outputId": "6e2d5f64-e85d-4a4c-df5d-797cd773d85d"
      },
      "outputs": [
        {
          "output_type": "execute_result",
          "data": {
            "text/plain": [
              "386"
            ]
          },
          "metadata": {},
          "execution_count": 11
        }
      ],
      "source": [
        "#Number of New Themes started between minimum and maximum years\n",
        "metric_new_themes = df.groupby('theme_name').year.min().reset_index()\n",
        "metric_new_themes = metric_new_themes[(metric_new_themes.year >= min_year) & (metric_new_themes.year<= max_year)]\n",
        "metric_new_themes = metric_new_themes.theme_name.nunique()\n",
        "metric_new_themes"
      ]
    },
    {
      "cell_type": "markdown",
      "metadata": {
        "id": "bcUKCkUpMm9t"
      },
      "source": [
        "### Number of New Sets"
      ]
    },
    {
      "cell_type": "markdown",
      "metadata": {
        "id": "-kjkjoq9W705"
      },
      "source": [
        "How many New Sets were launched on the analysis period?\n",
        "\n",
        "This is derived from the calculation of the number of New Themes that started between the minimum and maximum years selected."
      ]
    },
    {
      "cell_type": "code",
      "execution_count": 12,
      "metadata": {
        "id": "WalrBE-UMrFm",
        "colab": {
          "base_uri": "https://localhost:8080/"
        },
        "outputId": "fa666b13-b9c5-40ff-8f26-798c6ec1cfa2"
      },
      "outputs": [
        {
          "output_type": "execute_result",
          "data": {
            "text/plain": [
              "10370"
            ]
          },
          "metadata": {},
          "execution_count": 12
        }
      ],
      "source": [
        "#Number of New Sets started between minimum and maximum years\n",
        "metric_new_sets = df.groupby('set_name').year.min().reset_index()\n",
        "metric_new_sets = metric_new_sets[(metric_new_sets.year >= min_year) & (metric_new_sets.year<= max_year)]\n",
        "metric_new_sets = metric_new_sets.set_name.nunique()\n",
        "metric_new_sets"
      ]
    },
    {
      "cell_type": "markdown",
      "metadata": {
        "id": "radeJwKXMo1d"
      },
      "source": [
        "### Number of New Parts of Sets"
      ]
    },
    {
      "cell_type": "markdown",
      "metadata": {
        "id": "Y1dIzHhGW_Vt"
      },
      "source": [
        "How many New Parts associated with the Sets were launched on the analysis period?\n",
        "\n",
        "This is derived from the Calculation of the number New Parts of Sets that started between the minimum and maximum years selected.\n",
        "\n",
        "  "
      ]
    },
    {
      "cell_type": "code",
      "execution_count": 13,
      "metadata": {
        "id": "aXZJjUgD4wjQ",
        "colab": {
          "base_uri": "https://localhost:8080/"
        },
        "outputId": "8a434760-fda3-4893-96dd-e707df7cfc9f"
      },
      "outputs": [
        {
          "output_type": "execute_result",
          "data": {
            "text/plain": [
              "1878329"
            ]
          },
          "metadata": {},
          "execution_count": 13
        }
      ],
      "source": [
        "#Number of New Parts of Sets started between minimum and maximum years\n",
        "metric_new_sets_parts = df.groupby(['set_name','num_parts']).year.min().reset_index()\n",
        "metric_new_sets_parts = metric_new_sets_parts[(metric_new_sets_parts.year >= min_year) & (metric_new_sets_parts.year<= max_year)]\n",
        "metric_new_sets_parts = int(metric_new_sets_parts.num_parts.sum())\n",
        "metric_new_sets_parts"
      ]
    },
    {
      "cell_type": "markdown",
      "metadata": {
        "id": "JF8yQdm3fCcm"
      },
      "source": [
        "## 1.2. Distinct Sets per Top 10 Parent Themes Visualizations"
      ]
    },
    {
      "cell_type": "markdown",
      "metadata": {
        "id": "GqMyU7KFfCcn"
      },
      "source": [
        "So far you have only made static visualizations. We can however add a layer of interactivity to it using a package called Plotly. This is a great tool as it is easy to use but also supports great customization as well. It also integrates well with Streamlit or other Dashboarding solutions like Dash. Let's get acquainted with Plotly!\n",
        "\n",
        "Let's answer a simple question. What are the Top Parent Themes by number of sets launched?\n",
        "\n",
        "As there are too many to reasonably visualize, you will create a variable that limits the data to the top N themes. For now, create `filt_n_themes` and set its value as 10."
      ]
    },
    {
      "cell_type": "code",
      "execution_count": 14,
      "metadata": {
        "id": "pAuCL-2tfCcn"
      },
      "outputs": [],
      "source": [
        "#Insert the code here\n",
        "filt_n_themes = 10"
      ]
    },
    {
      "cell_type": "markdown",
      "metadata": {
        "id": "kAsrqO_HfCcn"
      },
      "source": [
        "Your first Plotly visualization will be a barplot displaying the number of distinct Lego sets that exist under the Top 10 Parent Themes. \n",
        "\n",
        "1.   Calculate the number of distinct Lego `set_name` by `parent_theme_name` of `df_filtered` and save this to a DataFrame named `sets_per_parent_theme`. Rename the column `set_name` to `nbr_sets` using the `rename()` method and the `columns=` parameter.\n",
        "2.   Keep only the top 10 `parent_theme_name` by `nbr_sets` and store in `sets_per_parent_theme`.\n",
        "3.   For all remaining `parent_theme_name` sum the `nbr_sets` and store in `nbr_sets_remained`.\n",
        "4.   Map the `dict_colors` dictionary to a new `colors` column of the `sets_per_parent_theme` by using the `map` method and the `parent_theme_name` column.\n",
        "5.   Add this single row dataframe to the `sets_per_parent_theme` dataframe using the `pd.concat` method for example.\n",
        "\n",
        "\n"
      ]
    },
    {
      "cell_type": "code",
      "execution_count": 15,
      "metadata": {
        "id": "r62PIQLOOc2A"
      },
      "outputs": [],
      "source": [
        "#Step 1\n",
        "df_sets_per_parent_theme = df_filtered.groupby(['parent_theme_name']).set_name.nunique().reset_index().rename(columns= {\"set_name\" : \"nbr_sets\"})\n",
        "\n",
        "#Step 2\n",
        "sets_per_parent_theme = df_sets_per_parent_theme.sort_values(by='nbr_sets', ascending=False).reset_index()[:filt_n_themes]\n",
        "\n",
        "#Step 3\n",
        "nbr_sets_remained = df_sets_per_parent_theme.sort_values(by='nbr_sets', ascending=False).reset_index()[filt_n_themes:].nbr_sets.sum()\n",
        "\n",
        "#Step 4\n",
        "dict_colors = dict(zip(sets_per_parent_theme.parent_theme_name.sort_values().tolist(),colors_scaled)) #This line is supplied for you\n",
        "sets_per_parent_theme['colors'] = sets_per_parent_theme.parent_theme_name.map(dict_colors)\n",
        "\n",
        "#Create a single row dataframe with Index = filt_n_themes\n",
        "df_single_row = pd.DataFrame({'parent_theme_name':'Remainder',\n",
        "        'nbr_sets':nbr_sets_remained,\n",
        "        'colors':'#808080'},\n",
        "        index=[filt_n_themes])\n",
        "\n",
        "sets_per_parent_theme = pd.concat((sets_per_parent_theme,df_single_row))\n"
      ]
    },
    {
      "cell_type": "code",
      "execution_count": 16,
      "metadata": {
        "id": "znhyFlQK8E3e",
        "colab": {
          "base_uri": "https://localhost:8080/",
          "height": 394
        },
        "outputId": "1d61f747-720f-43e0-d7b2-02efefccde28"
      },
      "outputs": [
        {
          "output_type": "execute_result",
          "data": {
            "text/plain": [
              "    index        parent_theme_name  nbr_sets   colors\n",
              "0   104.0                     Town       891  #b2df8a\n",
              "1     1.0          Advent Calendar       658  #1F78C8\n",
              "2    95.0                Star Wars       507  #a6cee3\n",
              "3    24.0  Collectible Minifigures       440  #33a02c\n",
              "4    47.0                     Gear       421  #ff7f00\n",
              "5    25.0                  Creator       412  #6A33C2\n",
              "6    13.0                 Bionicle       407  #ff0000\n",
              "7    89.0            Service Packs       396  #565656\n",
              "8    98.0                  Technic       385  #FB6496\n",
              "9    90.0                    Space       296  #FFD700\n",
              "10    NaN                Remainder      5921  #808080"
            ],
            "text/html": [
              "\n",
              "  <div id=\"df-01e3e579-1c31-4bfc-af44-cde1670badde\">\n",
              "    <div class=\"colab-df-container\">\n",
              "      <div>\n",
              "<style scoped>\n",
              "    .dataframe tbody tr th:only-of-type {\n",
              "        vertical-align: middle;\n",
              "    }\n",
              "\n",
              "    .dataframe tbody tr th {\n",
              "        vertical-align: top;\n",
              "    }\n",
              "\n",
              "    .dataframe thead th {\n",
              "        text-align: right;\n",
              "    }\n",
              "</style>\n",
              "<table border=\"1\" class=\"dataframe\">\n",
              "  <thead>\n",
              "    <tr style=\"text-align: right;\">\n",
              "      <th></th>\n",
              "      <th>index</th>\n",
              "      <th>parent_theme_name</th>\n",
              "      <th>nbr_sets</th>\n",
              "      <th>colors</th>\n",
              "    </tr>\n",
              "  </thead>\n",
              "  <tbody>\n",
              "    <tr>\n",
              "      <th>0</th>\n",
              "      <td>104.0</td>\n",
              "      <td>Town</td>\n",
              "      <td>891</td>\n",
              "      <td>#b2df8a</td>\n",
              "    </tr>\n",
              "    <tr>\n",
              "      <th>1</th>\n",
              "      <td>1.0</td>\n",
              "      <td>Advent Calendar</td>\n",
              "      <td>658</td>\n",
              "      <td>#1F78C8</td>\n",
              "    </tr>\n",
              "    <tr>\n",
              "      <th>2</th>\n",
              "      <td>95.0</td>\n",
              "      <td>Star Wars</td>\n",
              "      <td>507</td>\n",
              "      <td>#a6cee3</td>\n",
              "    </tr>\n",
              "    <tr>\n",
              "      <th>3</th>\n",
              "      <td>24.0</td>\n",
              "      <td>Collectible Minifigures</td>\n",
              "      <td>440</td>\n",
              "      <td>#33a02c</td>\n",
              "    </tr>\n",
              "    <tr>\n",
              "      <th>4</th>\n",
              "      <td>47.0</td>\n",
              "      <td>Gear</td>\n",
              "      <td>421</td>\n",
              "      <td>#ff7f00</td>\n",
              "    </tr>\n",
              "    <tr>\n",
              "      <th>5</th>\n",
              "      <td>25.0</td>\n",
              "      <td>Creator</td>\n",
              "      <td>412</td>\n",
              "      <td>#6A33C2</td>\n",
              "    </tr>\n",
              "    <tr>\n",
              "      <th>6</th>\n",
              "      <td>13.0</td>\n",
              "      <td>Bionicle</td>\n",
              "      <td>407</td>\n",
              "      <td>#ff0000</td>\n",
              "    </tr>\n",
              "    <tr>\n",
              "      <th>7</th>\n",
              "      <td>89.0</td>\n",
              "      <td>Service Packs</td>\n",
              "      <td>396</td>\n",
              "      <td>#565656</td>\n",
              "    </tr>\n",
              "    <tr>\n",
              "      <th>8</th>\n",
              "      <td>98.0</td>\n",
              "      <td>Technic</td>\n",
              "      <td>385</td>\n",
              "      <td>#FB6496</td>\n",
              "    </tr>\n",
              "    <tr>\n",
              "      <th>9</th>\n",
              "      <td>90.0</td>\n",
              "      <td>Space</td>\n",
              "      <td>296</td>\n",
              "      <td>#FFD700</td>\n",
              "    </tr>\n",
              "    <tr>\n",
              "      <th>10</th>\n",
              "      <td>NaN</td>\n",
              "      <td>Remainder</td>\n",
              "      <td>5921</td>\n",
              "      <td>#808080</td>\n",
              "    </tr>\n",
              "  </tbody>\n",
              "</table>\n",
              "</div>\n",
              "      <button class=\"colab-df-convert\" onclick=\"convertToInteractive('df-01e3e579-1c31-4bfc-af44-cde1670badde')\"\n",
              "              title=\"Convert this dataframe to an interactive table.\"\n",
              "              style=\"display:none;\">\n",
              "        \n",
              "  <svg xmlns=\"http://www.w3.org/2000/svg\" height=\"24px\"viewBox=\"0 0 24 24\"\n",
              "       width=\"24px\">\n",
              "    <path d=\"M0 0h24v24H0V0z\" fill=\"none\"/>\n",
              "    <path d=\"M18.56 5.44l.94 2.06.94-2.06 2.06-.94-2.06-.94-.94-2.06-.94 2.06-2.06.94zm-11 1L8.5 8.5l.94-2.06 2.06-.94-2.06-.94L8.5 2.5l-.94 2.06-2.06.94zm10 10l.94 2.06.94-2.06 2.06-.94-2.06-.94-.94-2.06-.94 2.06-2.06.94z\"/><path d=\"M17.41 7.96l-1.37-1.37c-.4-.4-.92-.59-1.43-.59-.52 0-1.04.2-1.43.59L10.3 9.45l-7.72 7.72c-.78.78-.78 2.05 0 2.83L4 21.41c.39.39.9.59 1.41.59.51 0 1.02-.2 1.41-.59l7.78-7.78 2.81-2.81c.8-.78.8-2.07 0-2.86zM5.41 20L4 18.59l7.72-7.72 1.47 1.35L5.41 20z\"/>\n",
              "  </svg>\n",
              "      </button>\n",
              "      \n",
              "  <style>\n",
              "    .colab-df-container {\n",
              "      display:flex;\n",
              "      flex-wrap:wrap;\n",
              "      gap: 12px;\n",
              "    }\n",
              "\n",
              "    .colab-df-convert {\n",
              "      background-color: #E8F0FE;\n",
              "      border: none;\n",
              "      border-radius: 50%;\n",
              "      cursor: pointer;\n",
              "      display: none;\n",
              "      fill: #1967D2;\n",
              "      height: 32px;\n",
              "      padding: 0 0 0 0;\n",
              "      width: 32px;\n",
              "    }\n",
              "\n",
              "    .colab-df-convert:hover {\n",
              "      background-color: #E2EBFA;\n",
              "      box-shadow: 0px 1px 2px rgba(60, 64, 67, 0.3), 0px 1px 3px 1px rgba(60, 64, 67, 0.15);\n",
              "      fill: #174EA6;\n",
              "    }\n",
              "\n",
              "    [theme=dark] .colab-df-convert {\n",
              "      background-color: #3B4455;\n",
              "      fill: #D2E3FC;\n",
              "    }\n",
              "\n",
              "    [theme=dark] .colab-df-convert:hover {\n",
              "      background-color: #434B5C;\n",
              "      box-shadow: 0px 1px 3px 1px rgba(0, 0, 0, 0.15);\n",
              "      filter: drop-shadow(0px 1px 2px rgba(0, 0, 0, 0.3));\n",
              "      fill: #FFFFFF;\n",
              "    }\n",
              "  </style>\n",
              "\n",
              "      <script>\n",
              "        const buttonEl =\n",
              "          document.querySelector('#df-01e3e579-1c31-4bfc-af44-cde1670badde button.colab-df-convert');\n",
              "        buttonEl.style.display =\n",
              "          google.colab.kernel.accessAllowed ? 'block' : 'none';\n",
              "\n",
              "        async function convertToInteractive(key) {\n",
              "          const element = document.querySelector('#df-01e3e579-1c31-4bfc-af44-cde1670badde');\n",
              "          const dataTable =\n",
              "            await google.colab.kernel.invokeFunction('convertToInteractive',\n",
              "                                                     [key], {});\n",
              "          if (!dataTable) return;\n",
              "\n",
              "          const docLinkHtml = 'Like what you see? Visit the ' +\n",
              "            '<a target=\"_blank\" href=https://colab.research.google.com/notebooks/data_table.ipynb>data table notebook</a>'\n",
              "            + ' to learn more about interactive tables.';\n",
              "          element.innerHTML = '';\n",
              "          dataTable['output_type'] = 'display_data';\n",
              "          await google.colab.output.renderOutput(dataTable, element);\n",
              "          const docLink = document.createElement('div');\n",
              "          docLink.innerHTML = docLinkHtml;\n",
              "          element.appendChild(docLink);\n",
              "        }\n",
              "      </script>\n",
              "    </div>\n",
              "  </div>\n",
              "  "
            ]
          },
          "metadata": {},
          "execution_count": 16
        }
      ],
      "source": [
        "sets_per_parent_theme"
      ]
    },
    {
      "cell_type": "markdown",
      "metadata": {
        "id": "LX3Qt-0tfCcn"
      },
      "source": [
        "We can now make the Plotly bar chart and visualize it!\n",
        "\n",
        "Use the `px.bar` method, passing the `sets_per_parent_theme` DataFrame and set the x axis to `nbr_sets` and y to `parent_theme_name`. Set the color variable to `parent_theme_name` and finally also pass the following parameter `color_discrete_sequence=sets_per_parent_theme.colors`.\n",
        "\n",
        "Remember to consult the Learning Contents 4 to 7 to learn more about Plotly and Plotly Express!"
      ]
    },
    {
      "cell_type": "code",
      "execution_count": 17,
      "metadata": {
        "id": "U3jxK5ezfCcn",
        "colab": {
          "base_uri": "https://localhost:8080/",
          "height": 542
        },
        "outputId": "e7527ec5-d518-4919-92da-02c8cfed52fc"
      },
      "outputs": [
        {
          "output_type": "display_data",
          "data": {
            "text/html": [
              "<html>\n",
              "<head><meta charset=\"utf-8\" /></head>\n",
              "<body>\n",
              "    <div>            <script src=\"https://cdnjs.cloudflare.com/ajax/libs/mathjax/2.7.5/MathJax.js?config=TeX-AMS-MML_SVG\"></script><script type=\"text/javascript\">if (window.MathJax && window.MathJax.Hub && window.MathJax.Hub.Config) {window.MathJax.Hub.Config({SVG: {font: \"STIX-Web\"}});}</script>                <script type=\"text/javascript\">window.PlotlyConfig = {MathJaxConfig: 'local'};</script>\n",
              "        <script src=\"https://cdn.plot.ly/plotly-2.18.2.min.js\"></script>                <div id=\"70b10402-7dca-4a14-bbc9-7a69911d5272\" class=\"plotly-graph-div\" style=\"height:525px; width:100%;\"></div>            <script type=\"text/javascript\">                                    window.PLOTLYENV=window.PLOTLYENV || {};                                    if (document.getElementById(\"70b10402-7dca-4a14-bbc9-7a69911d5272\")) {                    Plotly.newPlot(                        \"70b10402-7dca-4a14-bbc9-7a69911d5272\",                        [{\"alignmentgroup\":\"True\",\"hovertemplate\":\"parent_theme_name=%{y}<br>nbr_sets=%{x}<extra></extra>\",\"legendgroup\":\"Town\",\"marker\":{\"color\":\"#b2df8a\",\"pattern\":{\"shape\":\"\"}},\"name\":\"Town\",\"offsetgroup\":\"Town\",\"orientation\":\"h\",\"showlegend\":true,\"textposition\":\"auto\",\"x\":[891],\"xaxis\":\"x\",\"y\":[\"Town\"],\"yaxis\":\"y\",\"type\":\"bar\"},{\"alignmentgroup\":\"True\",\"hovertemplate\":\"parent_theme_name=%{y}<br>nbr_sets=%{x}<extra></extra>\",\"legendgroup\":\"Advent Calendar\",\"marker\":{\"color\":\"#1F78C8\",\"pattern\":{\"shape\":\"\"}},\"name\":\"Advent Calendar\",\"offsetgroup\":\"Advent Calendar\",\"orientation\":\"h\",\"showlegend\":true,\"textposition\":\"auto\",\"x\":[658],\"xaxis\":\"x\",\"y\":[\"Advent Calendar\"],\"yaxis\":\"y\",\"type\":\"bar\"},{\"alignmentgroup\":\"True\",\"hovertemplate\":\"parent_theme_name=%{y}<br>nbr_sets=%{x}<extra></extra>\",\"legendgroup\":\"Star Wars\",\"marker\":{\"color\":\"#a6cee3\",\"pattern\":{\"shape\":\"\"}},\"name\":\"Star Wars\",\"offsetgroup\":\"Star Wars\",\"orientation\":\"h\",\"showlegend\":true,\"textposition\":\"auto\",\"x\":[507],\"xaxis\":\"x\",\"y\":[\"Star Wars\"],\"yaxis\":\"y\",\"type\":\"bar\"},{\"alignmentgroup\":\"True\",\"hovertemplate\":\"parent_theme_name=%{y}<br>nbr_sets=%{x}<extra></extra>\",\"legendgroup\":\"Collectible Minifigures\",\"marker\":{\"color\":\"#33a02c\",\"pattern\":{\"shape\":\"\"}},\"name\":\"Collectible Minifigures\",\"offsetgroup\":\"Collectible Minifigures\",\"orientation\":\"h\",\"showlegend\":true,\"textposition\":\"auto\",\"x\":[440],\"xaxis\":\"x\",\"y\":[\"Collectible Minifigures\"],\"yaxis\":\"y\",\"type\":\"bar\"},{\"alignmentgroup\":\"True\",\"hovertemplate\":\"parent_theme_name=%{y}<br>nbr_sets=%{x}<extra></extra>\",\"legendgroup\":\"Gear\",\"marker\":{\"color\":\"#ff7f00\",\"pattern\":{\"shape\":\"\"}},\"name\":\"Gear\",\"offsetgroup\":\"Gear\",\"orientation\":\"h\",\"showlegend\":true,\"textposition\":\"auto\",\"x\":[421],\"xaxis\":\"x\",\"y\":[\"Gear\"],\"yaxis\":\"y\",\"type\":\"bar\"},{\"alignmentgroup\":\"True\",\"hovertemplate\":\"parent_theme_name=%{y}<br>nbr_sets=%{x}<extra></extra>\",\"legendgroup\":\"Creator\",\"marker\":{\"color\":\"#6A33C2\",\"pattern\":{\"shape\":\"\"}},\"name\":\"Creator\",\"offsetgroup\":\"Creator\",\"orientation\":\"h\",\"showlegend\":true,\"textposition\":\"auto\",\"x\":[412],\"xaxis\":\"x\",\"y\":[\"Creator\"],\"yaxis\":\"y\",\"type\":\"bar\"},{\"alignmentgroup\":\"True\",\"hovertemplate\":\"parent_theme_name=%{y}<br>nbr_sets=%{x}<extra></extra>\",\"legendgroup\":\"Bionicle\",\"marker\":{\"color\":\"#ff0000\",\"pattern\":{\"shape\":\"\"}},\"name\":\"Bionicle\",\"offsetgroup\":\"Bionicle\",\"orientation\":\"h\",\"showlegend\":true,\"textposition\":\"auto\",\"x\":[407],\"xaxis\":\"x\",\"y\":[\"Bionicle\"],\"yaxis\":\"y\",\"type\":\"bar\"},{\"alignmentgroup\":\"True\",\"hovertemplate\":\"parent_theme_name=%{y}<br>nbr_sets=%{x}<extra></extra>\",\"legendgroup\":\"Service Packs\",\"marker\":{\"color\":\"#565656\",\"pattern\":{\"shape\":\"\"}},\"name\":\"Service Packs\",\"offsetgroup\":\"Service Packs\",\"orientation\":\"h\",\"showlegend\":true,\"textposition\":\"auto\",\"x\":[396],\"xaxis\":\"x\",\"y\":[\"Service Packs\"],\"yaxis\":\"y\",\"type\":\"bar\"},{\"alignmentgroup\":\"True\",\"hovertemplate\":\"parent_theme_name=%{y}<br>nbr_sets=%{x}<extra></extra>\",\"legendgroup\":\"Technic\",\"marker\":{\"color\":\"#FB6496\",\"pattern\":{\"shape\":\"\"}},\"name\":\"Technic\",\"offsetgroup\":\"Technic\",\"orientation\":\"h\",\"showlegend\":true,\"textposition\":\"auto\",\"x\":[385],\"xaxis\":\"x\",\"y\":[\"Technic\"],\"yaxis\":\"y\",\"type\":\"bar\"},{\"alignmentgroup\":\"True\",\"hovertemplate\":\"parent_theme_name=%{y}<br>nbr_sets=%{x}<extra></extra>\",\"legendgroup\":\"Space\",\"marker\":{\"color\":\"#FFD700\",\"pattern\":{\"shape\":\"\"}},\"name\":\"Space\",\"offsetgroup\":\"Space\",\"orientation\":\"h\",\"showlegend\":true,\"textposition\":\"auto\",\"x\":[296],\"xaxis\":\"x\",\"y\":[\"Space\"],\"yaxis\":\"y\",\"type\":\"bar\"},{\"alignmentgroup\":\"True\",\"hovertemplate\":\"parent_theme_name=%{y}<br>nbr_sets=%{x}<extra></extra>\",\"legendgroup\":\"Remainder\",\"marker\":{\"color\":\"#808080\",\"pattern\":{\"shape\":\"\"}},\"name\":\"Remainder\",\"offsetgroup\":\"Remainder\",\"orientation\":\"h\",\"showlegend\":true,\"textposition\":\"auto\",\"x\":[5921],\"xaxis\":\"x\",\"y\":[\"Remainder\"],\"yaxis\":\"y\",\"type\":\"bar\"}],                        {\"template\":{\"data\":{\"candlestick\":[{\"decreasing\":{\"line\":{\"color\":\"#000033\"}},\"increasing\":{\"line\":{\"color\":\"#000032\"}},\"type\":\"candlestick\"}],\"contourcarpet\":[{\"colorscale\":[[0.0,\"#000011\"],[0.1111111111111111,\"#000012\"],[0.2222222222222222,\"#000013\"],[0.3333333333333333,\"#000014\"],[0.4444444444444444,\"#000015\"],[0.5555555555555556,\"#000016\"],[0.6666666666666666,\"#000017\"],[0.7777777777777778,\"#000018\"],[0.8888888888888888,\"#000019\"],[1.0,\"#000020\"]],\"type\":\"contourcarpet\"}],\"contour\":[{\"colorscale\":[[0.0,\"#000011\"],[0.1111111111111111,\"#000012\"],[0.2222222222222222,\"#000013\"],[0.3333333333333333,\"#000014\"],[0.4444444444444444,\"#000015\"],[0.5555555555555556,\"#000016\"],[0.6666666666666666,\"#000017\"],[0.7777777777777778,\"#000018\"],[0.8888888888888888,\"#000019\"],[1.0,\"#000020\"]],\"type\":\"contour\"}],\"heatmap\":[{\"colorscale\":[[0.0,\"#000011\"],[0.1111111111111111,\"#000012\"],[0.2222222222222222,\"#000013\"],[0.3333333333333333,\"#000014\"],[0.4444444444444444,\"#000015\"],[0.5555555555555556,\"#000016\"],[0.6666666666666666,\"#000017\"],[0.7777777777777778,\"#000018\"],[0.8888888888888888,\"#000019\"],[1.0,\"#000020\"]],\"type\":\"heatmap\"}],\"histogram2d\":[{\"colorscale\":[[0.0,\"#000011\"],[0.1111111111111111,\"#000012\"],[0.2222222222222222,\"#000013\"],[0.3333333333333333,\"#000014\"],[0.4444444444444444,\"#000015\"],[0.5555555555555556,\"#000016\"],[0.6666666666666666,\"#000017\"],[0.7777777777777778,\"#000018\"],[0.8888888888888888,\"#000019\"],[1.0,\"#000020\"]],\"type\":\"histogram2d\"}],\"icicle\":[{\"textfont\":{\"color\":\"white\"},\"type\":\"icicle\"}],\"sankey\":[{\"textfont\":{\"color\":\"#000036\"},\"type\":\"sankey\"}],\"scatter\":[{\"marker\":{\"line\":{\"width\":0}},\"type\":\"scatter\"}],\"table\":[{\"cells\":{\"fill\":{\"color\":\"#000038\"},\"font\":{\"color\":\"#000037\"},\"line\":{\"color\":\"#000039\"}},\"header\":{\"fill\":{\"color\":\"#000040\"},\"font\":{\"color\":\"#000036\"},\"line\":{\"color\":\"#000039\"}},\"type\":\"table\"}],\"waterfall\":[{\"connector\":{\"line\":{\"color\":\"#000036\",\"width\":2}},\"decreasing\":{\"marker\":{\"color\":\"#000033\"}},\"increasing\":{\"marker\":{\"color\":\"#000032\"}},\"totals\":{\"marker\":{\"color\":\"#000034\"}},\"type\":\"waterfall\"}]},\"layout\":{\"coloraxis\":{\"colorscale\":[[0.0,\"#000011\"],[0.1111111111111111,\"#000012\"],[0.2222222222222222,\"#000013\"],[0.3333333333333333,\"#000014\"],[0.4444444444444444,\"#000015\"],[0.5555555555555556,\"#000016\"],[0.6666666666666666,\"#000017\"],[0.7777777777777778,\"#000018\"],[0.8888888888888888,\"#000019\"],[1.0,\"#000020\"]]},\"colorscale\":{\"diverging\":[[0.0,\"#000021\"],[0.1,\"#000022\"],[0.2,\"#000023\"],[0.3,\"#000024\"],[0.4,\"#000025\"],[0.5,\"#000026\"],[0.6,\"#000027\"],[0.7,\"#000028\"],[0.8,\"#000029\"],[0.9,\"#000030\"],[1.0,\"#000031\"]],\"sequential\":[[0.0,\"#000011\"],[0.1111111111111111,\"#000012\"],[0.2222222222222222,\"#000013\"],[0.3333333333333333,\"#000014\"],[0.4444444444444444,\"#000015\"],[0.5555555555555556,\"#000016\"],[0.6666666666666666,\"#000017\"],[0.7777777777777778,\"#000018\"],[0.8888888888888888,\"#000019\"],[1.0,\"#000020\"]],\"sequentialminus\":[[0.0,\"#000011\"],[0.1111111111111111,\"#000012\"],[0.2222222222222222,\"#000013\"],[0.3333333333333333,\"#000014\"],[0.4444444444444444,\"#000015\"],[0.5555555555555556,\"#000016\"],[0.6666666666666666,\"#000017\"],[0.7777777777777778,\"#000018\"],[0.8888888888888888,\"#000019\"],[1.0,\"#000020\"]]},\"colorway\":[\"#000001\",\"#000002\",\"#000003\",\"#000004\",\"#000005\",\"#000006\",\"#000007\",\"#000008\",\"#000009\",\"#000010\"]}},\"xaxis\":{\"anchor\":\"y\",\"domain\":[0.0,1.0],\"title\":{\"text\":\"nbr_sets\"}},\"yaxis\":{\"anchor\":\"x\",\"domain\":[0.0,1.0],\"title\":{\"text\":\"7 day avg\"},\"categoryorder\":\"array\",\"categoryarray\":[\"Remainder\",\"Space\",\"Technic\",\"Service Packs\",\"Bionicle\",\"Creator\",\"Gear\",\"Collectible Minifigures\",\"Star Wars\",\"Advent Calendar\",\"Town\"],\"automargin\":true},\"legend\":{\"title\":{\"text\":\"parent_theme_name\"},\"tracegroupgap\":0},\"title\":{\"text\":\"Top 10 parent theme\"},\"barmode\":\"relative\"},                        {\"responsive\": true}                    ).then(function(){\n",
              "                            \n",
              "var gd = document.getElementById('70b10402-7dca-4a14-bbc9-7a69911d5272');\n",
              "var x = new MutationObserver(function (mutations, observer) {{\n",
              "        var display = window.getComputedStyle(gd).display;\n",
              "        if (!display || display === 'none') {{\n",
              "            console.log([gd, 'removed!']);\n",
              "            Plotly.purge(gd);\n",
              "            observer.disconnect();\n",
              "        }}\n",
              "}});\n",
              "\n",
              "// Listen for the removal of the full notebook cells\n",
              "var notebookContainer = gd.closest('#notebook-container');\n",
              "if (notebookContainer) {{\n",
              "    x.observe(notebookContainer, {childList: true});\n",
              "}}\n",
              "\n",
              "// Listen for the clearing of the current output cell\n",
              "var outputEl = gd.closest('.output');\n",
              "if (outputEl) {{\n",
              "    x.observe(outputEl, {childList: true});\n",
              "}}\n",
              "\n",
              "                        })                };                            </script>        </div>\n",
              "</body>\n",
              "</html>"
            ]
          },
          "metadata": {}
        }
      ],
      "source": [
        "#Code here\n",
        "fig = px.bar(sets_per_parent_theme,x='nbr_sets',y='parent_theme_name', \n",
        "             color='parent_theme_name', \n",
        "             color_discrete_sequence=sets_per_parent_theme.colors,\n",
        "             title='Top 10 parent theme').update_layout(\n",
        "             yaxis_title=\"7 day avg\")\n",
        "fig.update_yaxes(automargin=True)\n",
        "fig.show()"
      ]
    },
    {
      "cell_type": "markdown",
      "metadata": {
        "id": "-tR-j-FDfCco"
      },
      "source": [
        "## 1.3. Number of New Sets per Year for Top 10 Parent Themes"
      ]
    },
    {
      "cell_type": "markdown",
      "metadata": {
        "id": "SNRIQkp4fCco"
      },
      "source": [
        "Previously we looked into the number of Sets launched over the entire period. But how many of them area launched every year? \n",
        "\n",
        "You will explore this for the Top 10 parent theme you obtained previously and see how many new sets appeared for all other master themes, grouped into a \"remainder\" category.\n",
        "\n",
        "1.   Start by grouping by `parent_theme_name` and `set_name` of `df_filtered`, check the minimum `year` and finalize by applying the `.reset_index()` method. This will give you the year of first appearance of each set and keep its relation to the `parent_theme_name`. Save this to a `sets_master_themes_per_first_year` DataFrame.\n",
        "2.   You can now group the `sets_master_themes_per_first_year` again, this time by `year` and `parent_theme_name` and count the number of unique `set_name`. Store this to a DataFrame called `sets_per_year_master_theme`.\n",
        "3.   Now make sure you only keep the `parent_theme_name` that are in the Top 10 `parent_theme_name` of `sets_per_parent_theme` you previously obtained. Hint, use the `.isin()` method. Store this filtered DataFrame to `sets_per_year_master_theme_top`. Sort values by `parent_theme_name`.\n",
        "4.   Map the `dict_colors` dictionary to a new `colors` column of the `sets_per_year_master_theme_top` by using the `map` method and the `parent_theme_name` column.\n",
        "5.   Now, calculate the remainders. Do the same operation as in 3 only this time you want to keep only the `parent_theme_name` that do not appear on the Top 10 list before. Save as `sets_per_year_master_theme_remainder`. Then group this by `year` and sum the number of distinct `set_name`, reseting index at the end. Overwrite the `sets_per_year_master_theme_remainder` DataFrame with this information. \n",
        "6.   Finally, concatenate both DataFrames `sets_per_year_master_theme_top` and `sets_per_year_master_theme_remainder` into a single one named. `sets_per_year_master_theme`.\n",
        "\n",
        "\n",
        "\n",
        "\n"
      ]
    },
    {
      "cell_type": "code",
      "execution_count": 18,
      "metadata": {
        "id": "R5X_JUvmiol-"
      },
      "outputs": [],
      "source": [
        "#Step 1\n",
        "sets_master_themes_per_first_year = df_filtered.groupby(['parent_theme_name','set_name'])['year'].min().reset_index()"
      ]
    },
    {
      "cell_type": "code",
      "execution_count": 19,
      "metadata": {
        "id": "oLHvPeqsjSSW",
        "colab": {
          "base_uri": "https://localhost:8080/",
          "height": 423
        },
        "outputId": "c0ab8153-b106-4333-f330-eb39112d0c6a"
      },
      "outputs": [
        {
          "output_type": "execute_result",
          "data": {
            "text/plain": [
              "        year parent_theme_name  set_name\n",
              "0     1950.0           Classic         7\n",
              "1     1953.0           Classic         4\n",
              "2     1954.0           Classic        13\n",
              "3     1955.0             Books         1\n",
              "4     1955.0           Classic        26\n",
              "...      ...               ...       ...\n",
              "1018  2017.0   Speed Champions         7\n",
              "1019  2017.0         Star Wars        28\n",
              "1020  2017.0      Super Heroes        63\n",
              "1021  2017.0           Technic        11\n",
              "1022  2017.0              Town        20\n",
              "\n",
              "[1023 rows x 3 columns]"
            ],
            "text/html": [
              "\n",
              "  <div id=\"df-f10143b7-8401-4702-bcd6-cb2a70a20996\">\n",
              "    <div class=\"colab-df-container\">\n",
              "      <div>\n",
              "<style scoped>\n",
              "    .dataframe tbody tr th:only-of-type {\n",
              "        vertical-align: middle;\n",
              "    }\n",
              "\n",
              "    .dataframe tbody tr th {\n",
              "        vertical-align: top;\n",
              "    }\n",
              "\n",
              "    .dataframe thead th {\n",
              "        text-align: right;\n",
              "    }\n",
              "</style>\n",
              "<table border=\"1\" class=\"dataframe\">\n",
              "  <thead>\n",
              "    <tr style=\"text-align: right;\">\n",
              "      <th></th>\n",
              "      <th>year</th>\n",
              "      <th>parent_theme_name</th>\n",
              "      <th>set_name</th>\n",
              "    </tr>\n",
              "  </thead>\n",
              "  <tbody>\n",
              "    <tr>\n",
              "      <th>0</th>\n",
              "      <td>1950.0</td>\n",
              "      <td>Classic</td>\n",
              "      <td>7</td>\n",
              "    </tr>\n",
              "    <tr>\n",
              "      <th>1</th>\n",
              "      <td>1953.0</td>\n",
              "      <td>Classic</td>\n",
              "      <td>4</td>\n",
              "    </tr>\n",
              "    <tr>\n",
              "      <th>2</th>\n",
              "      <td>1954.0</td>\n",
              "      <td>Classic</td>\n",
              "      <td>13</td>\n",
              "    </tr>\n",
              "    <tr>\n",
              "      <th>3</th>\n",
              "      <td>1955.0</td>\n",
              "      <td>Books</td>\n",
              "      <td>1</td>\n",
              "    </tr>\n",
              "    <tr>\n",
              "      <th>4</th>\n",
              "      <td>1955.0</td>\n",
              "      <td>Classic</td>\n",
              "      <td>26</td>\n",
              "    </tr>\n",
              "    <tr>\n",
              "      <th>...</th>\n",
              "      <td>...</td>\n",
              "      <td>...</td>\n",
              "      <td>...</td>\n",
              "    </tr>\n",
              "    <tr>\n",
              "      <th>1018</th>\n",
              "      <td>2017.0</td>\n",
              "      <td>Speed Champions</td>\n",
              "      <td>7</td>\n",
              "    </tr>\n",
              "    <tr>\n",
              "      <th>1019</th>\n",
              "      <td>2017.0</td>\n",
              "      <td>Star Wars</td>\n",
              "      <td>28</td>\n",
              "    </tr>\n",
              "    <tr>\n",
              "      <th>1020</th>\n",
              "      <td>2017.0</td>\n",
              "      <td>Super Heroes</td>\n",
              "      <td>63</td>\n",
              "    </tr>\n",
              "    <tr>\n",
              "      <th>1021</th>\n",
              "      <td>2017.0</td>\n",
              "      <td>Technic</td>\n",
              "      <td>11</td>\n",
              "    </tr>\n",
              "    <tr>\n",
              "      <th>1022</th>\n",
              "      <td>2017.0</td>\n",
              "      <td>Town</td>\n",
              "      <td>20</td>\n",
              "    </tr>\n",
              "  </tbody>\n",
              "</table>\n",
              "<p>1023 rows × 3 columns</p>\n",
              "</div>\n",
              "      <button class=\"colab-df-convert\" onclick=\"convertToInteractive('df-f10143b7-8401-4702-bcd6-cb2a70a20996')\"\n",
              "              title=\"Convert this dataframe to an interactive table.\"\n",
              "              style=\"display:none;\">\n",
              "        \n",
              "  <svg xmlns=\"http://www.w3.org/2000/svg\" height=\"24px\"viewBox=\"0 0 24 24\"\n",
              "       width=\"24px\">\n",
              "    <path d=\"M0 0h24v24H0V0z\" fill=\"none\"/>\n",
              "    <path d=\"M18.56 5.44l.94 2.06.94-2.06 2.06-.94-2.06-.94-.94-2.06-.94 2.06-2.06.94zm-11 1L8.5 8.5l.94-2.06 2.06-.94-2.06-.94L8.5 2.5l-.94 2.06-2.06.94zm10 10l.94 2.06.94-2.06 2.06-.94-2.06-.94-.94-2.06-.94 2.06-2.06.94z\"/><path d=\"M17.41 7.96l-1.37-1.37c-.4-.4-.92-.59-1.43-.59-.52 0-1.04.2-1.43.59L10.3 9.45l-7.72 7.72c-.78.78-.78 2.05 0 2.83L4 21.41c.39.39.9.59 1.41.59.51 0 1.02-.2 1.41-.59l7.78-7.78 2.81-2.81c.8-.78.8-2.07 0-2.86zM5.41 20L4 18.59l7.72-7.72 1.47 1.35L5.41 20z\"/>\n",
              "  </svg>\n",
              "      </button>\n",
              "      \n",
              "  <style>\n",
              "    .colab-df-container {\n",
              "      display:flex;\n",
              "      flex-wrap:wrap;\n",
              "      gap: 12px;\n",
              "    }\n",
              "\n",
              "    .colab-df-convert {\n",
              "      background-color: #E8F0FE;\n",
              "      border: none;\n",
              "      border-radius: 50%;\n",
              "      cursor: pointer;\n",
              "      display: none;\n",
              "      fill: #1967D2;\n",
              "      height: 32px;\n",
              "      padding: 0 0 0 0;\n",
              "      width: 32px;\n",
              "    }\n",
              "\n",
              "    .colab-df-convert:hover {\n",
              "      background-color: #E2EBFA;\n",
              "      box-shadow: 0px 1px 2px rgba(60, 64, 67, 0.3), 0px 1px 3px 1px rgba(60, 64, 67, 0.15);\n",
              "      fill: #174EA6;\n",
              "    }\n",
              "\n",
              "    [theme=dark] .colab-df-convert {\n",
              "      background-color: #3B4455;\n",
              "      fill: #D2E3FC;\n",
              "    }\n",
              "\n",
              "    [theme=dark] .colab-df-convert:hover {\n",
              "      background-color: #434B5C;\n",
              "      box-shadow: 0px 1px 3px 1px rgba(0, 0, 0, 0.15);\n",
              "      filter: drop-shadow(0px 1px 2px rgba(0, 0, 0, 0.3));\n",
              "      fill: #FFFFFF;\n",
              "    }\n",
              "  </style>\n",
              "\n",
              "      <script>\n",
              "        const buttonEl =\n",
              "          document.querySelector('#df-f10143b7-8401-4702-bcd6-cb2a70a20996 button.colab-df-convert');\n",
              "        buttonEl.style.display =\n",
              "          google.colab.kernel.accessAllowed ? 'block' : 'none';\n",
              "\n",
              "        async function convertToInteractive(key) {\n",
              "          const element = document.querySelector('#df-f10143b7-8401-4702-bcd6-cb2a70a20996');\n",
              "          const dataTable =\n",
              "            await google.colab.kernel.invokeFunction('convertToInteractive',\n",
              "                                                     [key], {});\n",
              "          if (!dataTable) return;\n",
              "\n",
              "          const docLinkHtml = 'Like what you see? Visit the ' +\n",
              "            '<a target=\"_blank\" href=https://colab.research.google.com/notebooks/data_table.ipynb>data table notebook</a>'\n",
              "            + ' to learn more about interactive tables.';\n",
              "          element.innerHTML = '';\n",
              "          dataTable['output_type'] = 'display_data';\n",
              "          await google.colab.output.renderOutput(dataTable, element);\n",
              "          const docLink = document.createElement('div');\n",
              "          docLink.innerHTML = docLinkHtml;\n",
              "          element.appendChild(docLink);\n",
              "        }\n",
              "      </script>\n",
              "    </div>\n",
              "  </div>\n",
              "  "
            ]
          },
          "metadata": {},
          "execution_count": 19
        }
      ],
      "source": [
        "#Step 2\n",
        "sets_per_year_master_theme = sets_master_themes_per_first_year.groupby(['year','parent_theme_name'])['set_name'].nunique().reset_index()\n",
        "sets_per_year_master_theme"
      ]
    },
    {
      "cell_type": "code",
      "execution_count": 20,
      "metadata": {
        "id": "-7pKwrkesWP2"
      },
      "outputs": [],
      "source": [
        "#Step 3\n",
        "'''\n",
        "a busca tinha que ser feita dentro do parentisis rectos, senão nao filtrava a informação necessaria\n",
        "'''\n",
        "sets_per_year_master_theme_top= sets_per_year_master_theme[sets_per_year_master_theme['parent_theme_name'].isin(sets_per_parent_theme.parent_theme_name.tolist())].sort_values(by='parent_theme_name')\n"
      ]
    },
    {
      "cell_type": "code",
      "execution_count": 21,
      "metadata": {
        "id": "9UB9oqCLAXyq"
      },
      "outputs": [],
      "source": [
        "#Step 4\n",
        "dict_colors = dict(zip(sets_per_year_master_theme_top.parent_theme_name.sort_values().tolist(),colors_scaled)) #This line is supplied for you\n",
        "sets_per_year_master_theme_top['colors'] = sets_per_year_master_theme_top.parent_theme_name.map(dict_colors)"
      ]
    },
    {
      "cell_type": "code",
      "execution_count": 22,
      "metadata": {
        "id": "VG3uu_3lAtxt"
      },
      "outputs": [],
      "source": [
        "#Step 5\n",
        "'''\n",
        "a busca tinha que ser feita dentro do parentisis rectos, senão nao filtrava a informação necessaria ~[tilde] serve para fazer o inverso do isin()\n",
        "'''\n",
        "sets_per_year_master_theme_remainder = sets_per_year_master_theme[~sets_per_year_master_theme['parent_theme_name'].isin(sets_per_parent_theme.parent_theme_name.tolist())]\n",
        "sets_per_year_master_theme_remainder = sets_per_year_master_theme_remainder.groupby(['year'])['set_name'].sum().reset_index()"
      ]
    },
    {
      "cell_type": "code",
      "execution_count": 23,
      "metadata": {
        "id": "i2DVZ8-xfCco"
      },
      "outputs": [],
      "source": [
        "#Fills colors fot the remainders\n",
        "sets_per_year_master_theme_remainder['parent_theme_name'] = 'Remainder'\n",
        "sets_per_year_master_theme_remainder['colors'] = '#808080'\n",
        "#Step 6\n",
        "sets_per_year_master_theme = pd.concat((sets_per_year_master_theme_top,sets_per_year_master_theme_remainder))"
      ]
    },
    {
      "cell_type": "markdown",
      "metadata": {
        "id": "l_xF1msifCco"
      },
      "source": [
        "Now you are ready for the plot itself!\n",
        "\n",
        "Use the `.bar` method, passing the `sets_per_year_master_theme` DataFrame and set the x axis to `year` and y to `set_name`. Set the color variable to `parent_theme_name` and finally also pass the following parameter `color_discrete_sequence=sets_per_parent_theme.colors`."
      ]
    },
    {
      "cell_type": "markdown",
      "source": [
        " color_discrete_sequence=colors_scaled[:filt_n_themes]+['#808080']"
      ],
      "metadata": {
        "id": "Qw8IMXr7F5i3"
      }
    },
    {
      "cell_type": "code",
      "source": [
        "fig_sets_per_master = px.bar(sets_per_year_master_theme, \n",
        "            x=\"year\", \n",
        "            y=\"set_name\", \n",
        "            color='parent_theme_name',\n",
        "            title=f'Number of New Sets per Year for Top {filt_n_themes} Parent Themes',\n",
        "            color_discrete_sequence=sets_per_parent_theme.colors)\n",
        "fig_sets_per_master.update_layout(xaxis_title='Year', \n",
        "                yaxis_title='Number of New Sets')\n",
        "fig_sets_per_master.show()"
      ],
      "metadata": {
        "colab": {
          "base_uri": "https://localhost:8080/",
          "height": 542
        },
        "id": "u5fSnaf_8khK",
        "outputId": "4344198a-584a-4415-9cde-962c4a1ecde7"
      },
      "execution_count": 24,
      "outputs": [
        {
          "output_type": "display_data",
          "data": {
            "text/html": [
              "<html>\n",
              "<head><meta charset=\"utf-8\" /></head>\n",
              "<body>\n",
              "    <div>            <script src=\"https://cdnjs.cloudflare.com/ajax/libs/mathjax/2.7.5/MathJax.js?config=TeX-AMS-MML_SVG\"></script><script type=\"text/javascript\">if (window.MathJax && window.MathJax.Hub && window.MathJax.Hub.Config) {window.MathJax.Hub.Config({SVG: {font: \"STIX-Web\"}});}</script>                <script type=\"text/javascript\">window.PlotlyConfig = {MathJaxConfig: 'local'};</script>\n",
              "        <script src=\"https://cdn.plot.ly/plotly-2.18.2.min.js\"></script>                <div id=\"75ef8b4e-5b60-4f00-bb89-8de2224de432\" class=\"plotly-graph-div\" style=\"height:525px; width:100%;\"></div>            <script type=\"text/javascript\">                                    window.PLOTLYENV=window.PLOTLYENV || {};                                    if (document.getElementById(\"75ef8b4e-5b60-4f00-bb89-8de2224de432\")) {                    Plotly.newPlot(                        \"75ef8b4e-5b60-4f00-bb89-8de2224de432\",                        [{\"alignmentgroup\":\"True\",\"hovertemplate\":\"parent_theme_name=Advent Calendar<br>year=%{x}<br>set_name=%{y}<extra></extra>\",\"legendgroup\":\"Advent Calendar\",\"marker\":{\"color\":\"#b2df8a\",\"pattern\":{\"shape\":\"\"}},\"name\":\"Advent Calendar\",\"offsetgroup\":\"Advent Calendar\",\"orientation\":\"v\",\"showlegend\":true,\"textposition\":\"auto\",\"x\":[2003.0,2012.0,2002.0,2014.0,2011.0,2004.0,2010.0,2015.0,1998.0,2009.0,2013.0,2016.0,2008.0,2001.0,2007.0,2006.0,2005.0],\"xaxis\":\"x\",\"y\":[25,51,25,75,50,50,50,3,25,50,75,3,50,1,50,25,50],\"yaxis\":\"y\",\"type\":\"bar\"},{\"alignmentgroup\":\"True\",\"hovertemplate\":\"parent_theme_name=Bionicle<br>year=%{x}<br>set_name=%{y}<extra></extra>\",\"legendgroup\":\"Bionicle\",\"marker\":{\"color\":\"#1F78C8\",\"pattern\":{\"shape\":\"\"}},\"name\":\"Bionicle\",\"offsetgroup\":\"Bionicle\",\"orientation\":\"v\",\"showlegend\":true,\"textposition\":\"auto\",\"x\":[2002.0,2008.0,2007.0,2010.0,2003.0,2006.0,2004.0,2009.0,2005.0,2001.0,2015.0,2016.0,2014.0],\"xaxis\":\"x\",\"y\":[37,35,35,2,61,48,45,29,40,34,20,20,1],\"yaxis\":\"y\",\"type\":\"bar\"},{\"alignmentgroup\":\"True\",\"hovertemplate\":\"parent_theme_name=Collectible Minifigures<br>year=%{x}<br>set_name=%{y}<extra></extra>\",\"legendgroup\":\"Collectible Minifigures\",\"marker\":{\"color\":\"#a6cee3\",\"pattern\":{\"shape\":\"\"}},\"name\":\"Collectible Minifigures\",\"offsetgroup\":\"Collectible Minifigures\",\"orientation\":\"v\",\"showlegend\":true,\"textposition\":\"auto\",\"x\":[2013.0,2008.0,2010.0,2016.0,2015.0,2009.0,2011.0,2017.0,2012.0,2014.0],\"xaxis\":\"x\",\"y\":[58,1,39,72,57,5,57,18,75,58],\"yaxis\":\"y\",\"type\":\"bar\"},{\"alignmentgroup\":\"True\",\"hovertemplate\":\"parent_theme_name=Creator<br>year=%{x}<br>set_name=%{y}<extra></extra>\",\"legendgroup\":\"Creator\",\"marker\":{\"color\":\"#33a02c\",\"pattern\":{\"shape\":\"\"}},\"name\":\"Creator\",\"offsetgroup\":\"Creator\",\"orientation\":\"v\",\"showlegend\":true,\"textposition\":\"auto\",\"x\":[2004.0,2016.0,2006.0,2008.0,2017.0,2007.0,2002.0,2009.0,2001.0,2010.0,2014.0,2003.0,2011.0,2005.0,2013.0,2012.0,2015.0],\"xaxis\":\"x\",\"y\":[16,22,30,26,15,45,11,29,20,24,30,15,25,25,38,21,20],\"yaxis\":\"y\",\"type\":\"bar\"},{\"alignmentgroup\":\"True\",\"hovertemplate\":\"parent_theme_name=Gear<br>year=%{x}<br>set_name=%{y}<extra></extra>\",\"legendgroup\":\"Gear\",\"marker\":{\"color\":\"#ff7f00\",\"pattern\":{\"shape\":\"\"}},\"name\":\"Gear\",\"offsetgroup\":\"Gear\",\"orientation\":\"v\",\"showlegend\":true,\"textposition\":\"auto\",\"x\":[2001.0,2004.0,2000.0,1999.0,2002.0,2009.0,2006.0,1976.0,2017.0,2016.0,2015.0,1981.0,2014.0,2005.0,2013.0,1998.0,2012.0,2011.0,2010.0,2008.0,2007.0],\"xaxis\":\"x\",\"y\":[3,2,9,2,8,24,3,1,2,2,61,1,96,4,44,3,44,46,37,14,15],\"yaxis\":\"y\",\"type\":\"bar\"},{\"alignmentgroup\":\"True\",\"hovertemplate\":\"parent_theme_name=Service Packs<br>year=%{x}<br>set_name=%{y}<extra></extra>\",\"legendgroup\":\"Service Packs\",\"marker\":{\"color\":\"#6A33C2\",\"pattern\":{\"shape\":\"\"}},\"name\":\"Service Packs\",\"offsetgroup\":\"Service Packs\",\"orientation\":\"v\",\"showlegend\":true,\"textposition\":\"auto\",\"x\":[2011.0,2010.0,2000.0,1999.0,2012.0,2001.0,1973.0,1982.0,1980.0,1991.0,1990.0,1984.0,1994.0,1996.0,1992.0,1989.0,1979.0,1983.0,1985.0,1995.0,1997.0,1988.0,1993.0,1986.0,1981.0,1978.0,1987.0,1977.0,1998.0],\"xaxis\":\"x\",\"y\":[1,1,2,18,1,2,1,29,1,16,8,11,7,10,11,29,1,2,13,13,16,4,21,13,23,1,91,42,8],\"yaxis\":\"y\",\"type\":\"bar\"},{\"alignmentgroup\":\"True\",\"hovertemplate\":\"parent_theme_name=Space<br>year=%{x}<br>set_name=%{y}<extra></extra>\",\"legendgroup\":\"Space\",\"marker\":{\"color\":\"#ff0000\",\"pattern\":{\"shape\":\"\"}},\"name\":\"Space\",\"offsetgroup\":\"Space\",\"orientation\":\"v\",\"showlegend\":true,\"textposition\":\"auto\",\"x\":[2013.0,1982.0,1991.0,1993.0,1992.0,1998.0,1990.0,2007.0,1989.0,2008.0,2011.0,1988.0,1985.0,2009.0,1987.0,2010.0,1983.0,1984.0,1986.0,1981.0,1999.0,1997.0,2000.0,1979.0,1996.0,2015.0,1995.0,1980.0,2002.0,2001.0,1994.0,2014.0],\"xaxis\":\"x\",\"y\":[12,3,12,12,5,14,10,9,10,9,10,12,12,11,14,5,9,8,16,6,9,17,1,17,9,1,6,5,2,20,9,1],\"yaxis\":\"y\",\"type\":\"bar\"},{\"alignmentgroup\":\"True\",\"hovertemplate\":\"parent_theme_name=Star Wars<br>year=%{x}<br>set_name=%{y}<extra></extra>\",\"legendgroup\":\"Star Wars\",\"marker\":{\"color\":\"#565656\",\"pattern\":{\"shape\":\"\"}},\"name\":\"Star Wars\",\"offsetgroup\":\"Star Wars\",\"orientation\":\"v\",\"showlegend\":true,\"textposition\":\"auto\",\"x\":[2002.0,2017.0,2004.0,2010.0,2009.0,1999.0,2016.0,2003.0,2000.0,2008.0,2013.0,2011.0,2005.0,2006.0,2007.0,2001.0,2015.0,2014.0,2012.0],\"xaxis\":\"x\",\"y\":[28,28,20,27,37,13,46,32,26,22,30,28,27,9,14,14,37,32,37],\"yaxis\":\"y\",\"type\":\"bar\"},{\"alignmentgroup\":\"True\",\"hovertemplate\":\"parent_theme_name=Technic<br>year=%{x}<br>set_name=%{y}<extra></extra>\",\"legendgroup\":\"Technic\",\"marker\":{\"color\":\"#FB6496\",\"pattern\":{\"shape\":\"\"}},\"name\":\"Technic\",\"offsetgroup\":\"Technic\",\"orientation\":\"v\",\"showlegend\":true,\"textposition\":\"auto\",\"x\":[1980.0,1977.0,2014.0,2010.0,2012.0,2011.0,2016.0,2015.0,1978.0,1983.0,1982.0,1979.0,1981.0,1985.0,2013.0,1988.0,1990.0,2003.0,1986.0,1993.0,2002.0,1995.0,1992.0,2001.0,2006.0,1996.0,1994.0,2007.0,2017.0,1998.0,1989.0,2008.0,2009.0,1999.0,2000.0,1997.0,1987.0],\"xaxis\":\"x\",\"y\":[3,6,8,1,8,6,11,2,5,1,5,4,3,11,9,1,2,8,12,6,62,13,23,7,2,6,18,7,11,19,2,6,3,28,48,4,14],\"yaxis\":\"y\",\"type\":\"bar\"},{\"alignmentgroup\":\"True\",\"hovertemplate\":\"parent_theme_name=Town<br>year=%{x}<br>set_name=%{y}<extra></extra>\",\"legendgroup\":\"Town\",\"marker\":{\"color\":\"#FFD700\",\"pattern\":{\"shape\":\"\"}},\"name\":\"Town\",\"offsetgroup\":\"Town\",\"orientation\":\"v\",\"showlegend\":true,\"textposition\":\"auto\",\"x\":[1978.0,2014.0,1980.0,1998.0,1997.0,1994.0,1979.0,2016.0,1995.0,2015.0,1999.0,1996.0,2000.0,2001.0,1986.0,1981.0,2003.0,2009.0,2010.0,1985.0,1987.0,2008.0,1984.0,1988.0,2011.0,1989.0,2007.0,1983.0,1990.0,2006.0,2012.0,1982.0,1991.0,2005.0,1992.0,2004.0,2013.0,1993.0,2002.0,2017.0],\"xaxis\":\"x\",\"y\":[35,32,17,44,42,28,14,27,19,33,55,24,33,3,19,8,2,29,25,21,18,43,15,12,18,19,22,13,26,15,33,9,23,20,22,2,26,23,2,20],\"yaxis\":\"y\",\"type\":\"bar\"},{\"alignmentgroup\":\"True\",\"hovertemplate\":\"parent_theme_name=Remainder<br>year=%{x}<br>set_name=%{y}<extra></extra>\",\"legendgroup\":\"Remainder\",\"marker\":{\"color\":\"#808080\",\"pattern\":{\"shape\":\"\"}},\"name\":\"Remainder\",\"offsetgroup\":\"Remainder\",\"orientation\":\"v\",\"showlegend\":true,\"textposition\":\"auto\",\"x\":[1950.0,1953.0,1954.0,1955.0,1956.0,1957.0,1958.0,1959.0,1960.0,1961.0,1962.0,1963.0,1964.0,1965.0,1966.0,1967.0,1968.0,1969.0,1970.0,1971.0,1972.0,1973.0,1974.0,1975.0,1976.0,1977.0,1978.0,1979.0,1980.0,1981.0,1982.0,1983.0,1984.0,1985.0,1986.0,1987.0,1988.0,1989.0,1990.0,1991.0,1992.0,1993.0,1994.0,1995.0,1996.0,1997.0,1998.0,1999.0,2000.0,2001.0,2002.0,2003.0,2004.0,2005.0,2006.0,2007.0,2008.0,2009.0,2010.0,2011.0,2012.0,2013.0,2014.0,2015.0,2016.0,2017.0],\"xaxis\":\"x\",\"y\":[7,4,13,27,10,15,14,4,3,17,39,17,10,9,87,20,17,66,25,40,36,52,32,26,50,28,23,20,54,15,26,27,24,40,41,40,23,39,21,42,41,40,51,56,75,95,177,142,185,216,256,263,228,146,137,111,130,160,201,239,324,273,346,389,352,185],\"yaxis\":\"y\",\"type\":\"bar\"}],                        {\"template\":{\"data\":{\"candlestick\":[{\"decreasing\":{\"line\":{\"color\":\"#000033\"}},\"increasing\":{\"line\":{\"color\":\"#000032\"}},\"type\":\"candlestick\"}],\"contourcarpet\":[{\"colorscale\":[[0.0,\"#000011\"],[0.1111111111111111,\"#000012\"],[0.2222222222222222,\"#000013\"],[0.3333333333333333,\"#000014\"],[0.4444444444444444,\"#000015\"],[0.5555555555555556,\"#000016\"],[0.6666666666666666,\"#000017\"],[0.7777777777777778,\"#000018\"],[0.8888888888888888,\"#000019\"],[1.0,\"#000020\"]],\"type\":\"contourcarpet\"}],\"contour\":[{\"colorscale\":[[0.0,\"#000011\"],[0.1111111111111111,\"#000012\"],[0.2222222222222222,\"#000013\"],[0.3333333333333333,\"#000014\"],[0.4444444444444444,\"#000015\"],[0.5555555555555556,\"#000016\"],[0.6666666666666666,\"#000017\"],[0.7777777777777778,\"#000018\"],[0.8888888888888888,\"#000019\"],[1.0,\"#000020\"]],\"type\":\"contour\"}],\"heatmap\":[{\"colorscale\":[[0.0,\"#000011\"],[0.1111111111111111,\"#000012\"],[0.2222222222222222,\"#000013\"],[0.3333333333333333,\"#000014\"],[0.4444444444444444,\"#000015\"],[0.5555555555555556,\"#000016\"],[0.6666666666666666,\"#000017\"],[0.7777777777777778,\"#000018\"],[0.8888888888888888,\"#000019\"],[1.0,\"#000020\"]],\"type\":\"heatmap\"}],\"histogram2d\":[{\"colorscale\":[[0.0,\"#000011\"],[0.1111111111111111,\"#000012\"],[0.2222222222222222,\"#000013\"],[0.3333333333333333,\"#000014\"],[0.4444444444444444,\"#000015\"],[0.5555555555555556,\"#000016\"],[0.6666666666666666,\"#000017\"],[0.7777777777777778,\"#000018\"],[0.8888888888888888,\"#000019\"],[1.0,\"#000020\"]],\"type\":\"histogram2d\"}],\"icicle\":[{\"textfont\":{\"color\":\"white\"},\"type\":\"icicle\"}],\"sankey\":[{\"textfont\":{\"color\":\"#000036\"},\"type\":\"sankey\"}],\"scatter\":[{\"marker\":{\"line\":{\"width\":0}},\"type\":\"scatter\"}],\"table\":[{\"cells\":{\"fill\":{\"color\":\"#000038\"},\"font\":{\"color\":\"#000037\"},\"line\":{\"color\":\"#000039\"}},\"header\":{\"fill\":{\"color\":\"#000040\"},\"font\":{\"color\":\"#000036\"},\"line\":{\"color\":\"#000039\"}},\"type\":\"table\"}],\"waterfall\":[{\"connector\":{\"line\":{\"color\":\"#000036\",\"width\":2}},\"decreasing\":{\"marker\":{\"color\":\"#000033\"}},\"increasing\":{\"marker\":{\"color\":\"#000032\"}},\"totals\":{\"marker\":{\"color\":\"#000034\"}},\"type\":\"waterfall\"}]},\"layout\":{\"coloraxis\":{\"colorscale\":[[0.0,\"#000011\"],[0.1111111111111111,\"#000012\"],[0.2222222222222222,\"#000013\"],[0.3333333333333333,\"#000014\"],[0.4444444444444444,\"#000015\"],[0.5555555555555556,\"#000016\"],[0.6666666666666666,\"#000017\"],[0.7777777777777778,\"#000018\"],[0.8888888888888888,\"#000019\"],[1.0,\"#000020\"]]},\"colorscale\":{\"diverging\":[[0.0,\"#000021\"],[0.1,\"#000022\"],[0.2,\"#000023\"],[0.3,\"#000024\"],[0.4,\"#000025\"],[0.5,\"#000026\"],[0.6,\"#000027\"],[0.7,\"#000028\"],[0.8,\"#000029\"],[0.9,\"#000030\"],[1.0,\"#000031\"]],\"sequential\":[[0.0,\"#000011\"],[0.1111111111111111,\"#000012\"],[0.2222222222222222,\"#000013\"],[0.3333333333333333,\"#000014\"],[0.4444444444444444,\"#000015\"],[0.5555555555555556,\"#000016\"],[0.6666666666666666,\"#000017\"],[0.7777777777777778,\"#000018\"],[0.8888888888888888,\"#000019\"],[1.0,\"#000020\"]],\"sequentialminus\":[[0.0,\"#000011\"],[0.1111111111111111,\"#000012\"],[0.2222222222222222,\"#000013\"],[0.3333333333333333,\"#000014\"],[0.4444444444444444,\"#000015\"],[0.5555555555555556,\"#000016\"],[0.6666666666666666,\"#000017\"],[0.7777777777777778,\"#000018\"],[0.8888888888888888,\"#000019\"],[1.0,\"#000020\"]]},\"colorway\":[\"#000001\",\"#000002\",\"#000003\",\"#000004\",\"#000005\",\"#000006\",\"#000007\",\"#000008\",\"#000009\",\"#000010\"]}},\"xaxis\":{\"anchor\":\"y\",\"domain\":[0.0,1.0],\"title\":{\"text\":\"Year\"}},\"yaxis\":{\"anchor\":\"x\",\"domain\":[0.0,1.0],\"title\":{\"text\":\"Number of New Sets\"}},\"legend\":{\"title\":{\"text\":\"parent_theme_name\"},\"tracegroupgap\":0},\"title\":{\"text\":\"Number of New Sets per Year for Top 10 Parent Themes\"},\"barmode\":\"relative\"},                        {\"responsive\": true}                    ).then(function(){\n",
              "                            \n",
              "var gd = document.getElementById('75ef8b4e-5b60-4f00-bb89-8de2224de432');\n",
              "var x = new MutationObserver(function (mutations, observer) {{\n",
              "        var display = window.getComputedStyle(gd).display;\n",
              "        if (!display || display === 'none') {{\n",
              "            console.log([gd, 'removed!']);\n",
              "            Plotly.purge(gd);\n",
              "            observer.disconnect();\n",
              "        }}\n",
              "}});\n",
              "\n",
              "// Listen for the removal of the full notebook cells\n",
              "var notebookContainer = gd.closest('#notebook-container');\n",
              "if (notebookContainer) {{\n",
              "    x.observe(notebookContainer, {childList: true});\n",
              "}}\n",
              "\n",
              "// Listen for the clearing of the current output cell\n",
              "var outputEl = gd.closest('.output');\n",
              "if (outputEl) {{\n",
              "    x.observe(outputEl, {childList: true});\n",
              "}}\n",
              "\n",
              "                        })                };                            </script>        </div>\n",
              "</body>\n",
              "</html>"
            ]
          },
          "metadata": {}
        }
      ]
    },
    {
      "cell_type": "markdown",
      "metadata": {
        "id": "GEhGLLoCfCcp"
      },
      "source": [
        "## 1.4. Largest Set as Measured by Number of Parts per Year with Detail on the Parent Theme Name"
      ]
    },
    {
      "cell_type": "markdown",
      "metadata": {
        "id": "-3gqBy7VfCcp"
      },
      "source": [
        "Finally here's a cool one! What's the largest set launched every year and to what parent theme name does it belong? \n",
        "\n",
        "1.   Create a DataFrame named `df_sets_to_theme` with only the columns `year`, `parent_theme_name`, `set_name` and `num_parts` from `df_filtered`. Make sure to drop any duplicate rows.\n",
        "2.   Create a new column `theme_set` with the information from `theme_name` joined with `set_name`. This string will look like `theme_name` + ' - ' + `set_name`. \n",
        "3.   Group `df_sets_to_theme` by `year`, `parent_theme_name` and `theme_set`, sum the `num_parts` and apply the `reset_index()` method. Sort by `num_parts` in descending order and store to a new DataFrame called `df_sets_to_theme_group`.\n",
        "4.   Calculate the Rank (the order number) of each `theme_set` by `year` and store to a new column of `df_sets_to_theme_group` named `rank`. Hint: You will need to use the groupby function in conjunction with the `.rank()` method (https://stackoverflow.com/questions/33899369/ranking-order-per-group-in-pandas). \n",
        "5.   Finally filter `df_sets_to_theme_group` by keeping only the rows with `rank == 1` and save this to the `largest_set_year` DataFrame.\n",
        "\n",
        "\n",
        "\n",
        "\n"
      ]
    },
    {
      "cell_type": "code",
      "execution_count": 25,
      "metadata": {
        "id": "GeOc6fR7fCcp"
      },
      "outputs": [],
      "source": [
        "#Step 1\n",
        "df_sets_to_theme = df_filtered[['year','parent_theme_name','set_name','num_parts']].drop_duplicates()"
      ]
    },
    {
      "cell_type": "code",
      "source": [
        "#Step 2\n",
        "df_sets_to_theme['theme_set'] = df_sets_to_theme[\"parent_theme_name\"] + ' - ' +df_sets_to_theme[\"set_name\"]\n",
        "\n",
        "#Step 3\n",
        "df_sets_to_theme_group = df_sets_to_theme.groupby(['year','parent_theme_name','theme_set'])['num_parts'].sum().reset_index().sort_values('num_parts', ascending=False)\n",
        "df_sets_to_theme_group\n",
        "#Step 4\n",
        "df_sets_to_theme_group['rank']=df_sets_to_theme_group.groupby(\"year\")[\"num_parts\"].rank(ascending=False)\n",
        "#Step 5\n",
        "largest_set_year = df_sets_to_theme_group.query(\"rank == 1\").sort_values('year', ascending=False)\n"
      ],
      "metadata": {
        "id": "V2waAgzzAZ1b"
      },
      "execution_count": 26,
      "outputs": []
    },
    {
      "cell_type": "markdown",
      "metadata": {
        "id": "P0bYKh9PfCcp"
      },
      "source": [
        "Now you can create the actual bar plot.\n",
        "\n",
        "Use the `.bar` method, passing the `largest_set_year` DataFrame and set the x axis to `year` and y to `num_parts`. Set the color variable to `parent_theme_name` and finally also pass the following parameter `color_discrete_sequence=sets_per_parent_theme.colors`."
      ]
    },
    {
      "cell_type": "code",
      "execution_count": 27,
      "metadata": {
        "id": "FtK4-kd2fCcq",
        "colab": {
          "base_uri": "https://localhost:8080/",
          "height": 542
        },
        "outputId": "7ec814c9-e361-40af-9e0e-c641bfa28119"
      },
      "outputs": [
        {
          "output_type": "display_data",
          "data": {
            "text/html": [
              "<html>\n",
              "<head><meta charset=\"utf-8\" /></head>\n",
              "<body>\n",
              "    <div>            <script src=\"https://cdnjs.cloudflare.com/ajax/libs/mathjax/2.7.5/MathJax.js?config=TeX-AMS-MML_SVG\"></script><script type=\"text/javascript\">if (window.MathJax && window.MathJax.Hub && window.MathJax.Hub.Config) {window.MathJax.Hub.Config({SVG: {font: \"STIX-Web\"}});}</script>                <script type=\"text/javascript\">window.PlotlyConfig = {MathJaxConfig: 'local'};</script>\n",
              "        <script src=\"https://cdn.plot.ly/plotly-2.18.2.min.js\"></script>                <div id=\"fbbb9a17-e6f9-48f9-9ca3-f9a5f8c0bda8\" class=\"plotly-graph-div\" style=\"height:525px; width:100%;\"></div>            <script type=\"text/javascript\">                                    window.PLOTLYENV=window.PLOTLYENV || {};                                    if (document.getElementById(\"fbbb9a17-e6f9-48f9-9ca3-f9a5f8c0bda8\")) {                    Plotly.newPlot(                        \"fbbb9a17-e6f9-48f9-9ca3-f9a5f8c0bda8\",                        [{\"alignmentgroup\":\"True\",\"hovertemplate\":\"parent_theme_name=Modular Buildings<br>year=%{x}<br>num_parts=%{y}<extra></extra>\",\"legendgroup\":\"Modular Buildings\",\"marker\":{\"color\":\"#b2df8a\",\"pattern\":{\"shape\":\"\"}},\"name\":\"Modular Buildings\",\"offsetgroup\":\"Modular Buildings\",\"orientation\":\"v\",\"showlegend\":true,\"textposition\":\"auto\",\"x\":[2017.0,2012.0],\"xaxis\":\"x\",\"y\":[4009.0,2771.0],\"yaxis\":\"y\",\"type\":\"bar\"},{\"alignmentgroup\":\"True\",\"hovertemplate\":\"parent_theme_name=Other<br>year=%{x}<br>num_parts=%{y}<extra></extra>\",\"legendgroup\":\"Other\",\"marker\":{\"color\":\"#1F78C8\",\"pattern\":{\"shape\":\"\"}},\"name\":\"Other\",\"offsetgroup\":\"Other\",\"orientation\":\"v\",\"showlegend\":true,\"textposition\":\"auto\",\"x\":[2016.0],\"xaxis\":\"x\",\"y\":[4640.0],\"yaxis\":\"y\",\"type\":\"bar\"},{\"alignmentgroup\":\"True\",\"hovertemplate\":\"parent_theme_name=Super Heroes<br>year=%{x}<br>num_parts=%{y}<extra></extra>\",\"legendgroup\":\"Super Heroes\",\"marker\":{\"color\":\"#a6cee3\",\"pattern\":{\"shape\":\"\"}},\"name\":\"Super Heroes\",\"offsetgroup\":\"Super Heroes\",\"orientation\":\"v\",\"showlegend\":true,\"textposition\":\"auto\",\"x\":[2015.0],\"xaxis\":\"x\",\"y\":[2995.0],\"yaxis\":\"y\",\"type\":\"bar\"},{\"alignmentgroup\":\"True\",\"hovertemplate\":\"parent_theme_name=Star Wars<br>year=%{x}<br>num_parts=%{y}<extra></extra>\",\"legendgroup\":\"Star Wars\",\"marker\":{\"color\":\"#33a02c\",\"pattern\":{\"shape\":\"\"}},\"name\":\"Star Wars\",\"offsetgroup\":\"Star Wars\",\"orientation\":\"v\",\"showlegend\":true,\"textposition\":\"auto\",\"x\":[2014.0,2011.0,2007.0,2005.0,2002.0,2001.0],\"xaxis\":\"x\",\"y\":[3294.0,3151.0,5195.0,5461.0,3115.0,1868.0],\"yaxis\":\"y\",\"type\":\"bar\"},{\"alignmentgroup\":\"True\",\"hovertemplate\":\"parent_theme_name=Sculptures<br>year=%{x}<br>num_parts=%{y}<extra></extra>\",\"legendgroup\":\"Sculptures\",\"marker\":{\"color\":\"#ff7f00\",\"pattern\":{\"shape\":\"\"}},\"name\":\"Sculptures\",\"offsetgroup\":\"Sculptures\",\"orientation\":\"v\",\"showlegend\":true,\"textposition\":\"auto\",\"x\":[2013.0,2009.0,2008.0,2003.0,2000.0],\"xaxis\":\"x\",\"y\":[2988.0,3260.0,5922.0,2846.0,2899.0],\"yaxis\":\"y\",\"type\":\"bar\"},{\"alignmentgroup\":\"True\",\"hovertemplate\":\"parent_theme_name=Educational and Dacta<br>year=%{x}<br>num_parts=%{y}<extra></extra>\",\"legendgroup\":\"Educational and Dacta\",\"marker\":{\"color\":\"#6A33C2\",\"pattern\":{\"shape\":\"\"}},\"name\":\"Educational and Dacta\",\"offsetgroup\":\"Educational and Dacta\",\"orientation\":\"v\",\"showlegend\":true,\"textposition\":\"auto\",\"x\":[2010.0,2004.0,1997.0,1996.0,1991.0,1984.0,1972.0,1960.0],\"xaxis\":\"x\",\"y\":[5200.0,2874.0,1417.0,2472.0,2195.0,895.0,901.0,476.0],\"yaxis\":\"y\",\"type\":\"bar\"},{\"alignmentgroup\":\"True\",\"hovertemplate\":\"parent_theme_name=Creator<br>year=%{x}<br>num_parts=%{y}<extra></extra>\",\"legendgroup\":\"Creator\",\"marker\":{\"color\":\"#ff0000\",\"pattern\":{\"shape\":\"\"}},\"name\":\"Creator\",\"offsetgroup\":\"Creator\",\"orientation\":\"v\",\"showlegend\":true,\"textposition\":\"auto\",\"x\":[2006.0],\"xaxis\":\"x\",\"y\":[2000.0],\"yaxis\":\"y\",\"type\":\"bar\"},{\"alignmentgroup\":\"True\",\"hovertemplate\":\"parent_theme_name=City<br>year=%{x}<br>num_parts=%{y}<extra></extra>\",\"legendgroup\":\"City\",\"marker\":{\"color\":\"#565656\",\"pattern\":{\"shape\":\"\"}},\"name\":\"City\",\"offsetgroup\":\"City\",\"orientation\":\"v\",\"showlegend\":true,\"textposition\":\"auto\",\"x\":[1999.0,1994.0],\"xaxis\":\"x\",\"y\":[1436.0,1345.0],\"yaxis\":\"y\",\"type\":\"bar\"},{\"alignmentgroup\":\"True\",\"hovertemplate\":\"parent_theme_name=Technic<br>year=%{x}<br>num_parts=%{y}<extra></extra>\",\"legendgroup\":\"Technic\",\"marker\":{\"color\":\"#FB6496\",\"pattern\":{\"shape\":\"\"}},\"name\":\"Technic\",\"offsetgroup\":\"Technic\",\"orientation\":\"v\",\"showlegend\":true,\"textposition\":\"auto\",\"x\":[1998.0,1995.0],\"xaxis\":\"x\",\"y\":[1793.0,1730.0],\"yaxis\":\"y\",\"type\":\"bar\"},{\"alignmentgroup\":\"True\",\"hovertemplate\":\"parent_theme_name=Pirates<br>year=%{x}<br>num_parts=%{y}<extra></extra>\",\"legendgroup\":\"Pirates\",\"marker\":{\"color\":\"#FFD700\",\"pattern\":{\"shape\":\"\"}},\"name\":\"Pirates\",\"offsetgroup\":\"Pirates\",\"orientation\":\"v\",\"showlegend\":true,\"textposition\":\"auto\",\"x\":[1993.0],\"xaxis\":\"x\",\"y\":[921.0],\"yaxis\":\"y\",\"type\":\"bar\"},{\"alignmentgroup\":\"True\",\"hovertemplate\":\"parent_theme_name=Universal Building Set<br>year=%{x}<br>num_parts=%{y}<extra></extra>\",\"legendgroup\":\"Universal Building Set\",\"marker\":{\"color\":\"#808080\",\"pattern\":{\"shape\":\"\"}},\"name\":\"Universal Building Set\",\"offsetgroup\":\"Universal Building Set\",\"orientation\":\"v\",\"showlegend\":true,\"textposition\":\"auto\",\"x\":[1992.0,1990.0,1989.0,1987.0,1985.0,1982.0,1981.0,1980.0,1977.0,1976.0,1974.0,1973.0,1969.0],\"xaxis\":\"x\",\"y\":[1041.0,2518.0,1499.0,2797.0,4531.0,744.0,1555.0,1346.0,2374.0,2419.0,646.0,2416.0,615.0],\"yaxis\":\"y\",\"type\":\"bar\"},{\"alignmentgroup\":\"True\",\"hovertemplate\":\"parent_theme_name=Space<br>year=%{x}<br>num_parts=%{y}<extra></extra>\",\"legendgroup\":\"Space\",\"marker\":{\"color\":\"#b2df8a\",\"pattern\":{\"shape\":\"\"}},\"name\":\"Space\",\"offsetgroup\":\"Space\",\"orientation\":\"v\",\"showlegend\":true,\"textposition\":\"auto\",\"x\":[1988.0],\"xaxis\":\"x\",\"y\":[1152.0],\"yaxis\":\"y\",\"type\":\"bar\"},{\"alignmentgroup\":\"True\",\"hovertemplate\":\"parent_theme_name=Model Team<br>year=%{x}<br>num_parts=%{y}<extra></extra>\",\"legendgroup\":\"Model Team\",\"marker\":{\"color\":\"#1F78C8\",\"pattern\":{\"shape\":\"\"}},\"name\":\"Model Team\",\"offsetgroup\":\"Model Team\",\"orientation\":\"v\",\"showlegend\":true,\"textposition\":\"auto\",\"x\":[1986.0],\"xaxis\":\"x\",\"y\":[667.0],\"yaxis\":\"y\",\"type\":\"bar\"},{\"alignmentgroup\":\"True\",\"hovertemplate\":\"parent_theme_name=Train<br>year=%{x}<br>num_parts=%{y}<extra></extra>\",\"legendgroup\":\"Train\",\"marker\":{\"color\":\"#a6cee3\",\"pattern\":{\"shape\":\"\"}},\"name\":\"Train\",\"offsetgroup\":\"Train\",\"orientation\":\"v\",\"showlegend\":true,\"textposition\":\"auto\",\"x\":[1983.0,1966.0],\"xaxis\":\"x\",\"y\":[569.0,344.0],\"yaxis\":\"y\",\"type\":\"bar\"},{\"alignmentgroup\":\"True\",\"hovertemplate\":\"parent_theme_name=Town<br>year=%{x}<br>num_parts=%{y}<extra></extra>\",\"legendgroup\":\"Town\",\"marker\":{\"color\":\"#33a02c\",\"pattern\":{\"shape\":\"\"}},\"name\":\"Town\",\"offsetgroup\":\"Town\",\"orientation\":\"v\",\"showlegend\":true,\"textposition\":\"auto\",\"x\":[1979.0],\"xaxis\":\"x\",\"y\":[748.0],\"yaxis\":\"y\",\"type\":\"bar\"},{\"alignmentgroup\":\"True\",\"hovertemplate\":\"parent_theme_name=Hobby Sets<br>year=%{x}<br>num_parts=%{y}<extra></extra>\",\"legendgroup\":\"Hobby Sets\",\"marker\":{\"color\":\"#ff7f00\",\"pattern\":{\"shape\":\"\"}},\"name\":\"Hobby Sets\",\"offsetgroup\":\"Hobby Sets\",\"orientation\":\"v\",\"showlegend\":true,\"textposition\":\"auto\",\"x\":[1978.0],\"xaxis\":\"x\",\"y\":[973.0],\"yaxis\":\"y\",\"type\":\"bar\"},{\"alignmentgroup\":\"True\",\"hovertemplate\":\"parent_theme_name=Factory<br>year=%{x}<br>num_parts=%{y}<extra></extra>\",\"legendgroup\":\"Factory\",\"marker\":{\"color\":\"#6A33C2\",\"pattern\":{\"shape\":\"\"}},\"name\":\"Factory\",\"offsetgroup\":\"Factory\",\"orientation\":\"v\",\"showlegend\":true,\"textposition\":\"auto\",\"x\":[1975.0],\"xaxis\":\"x\",\"y\":[591.0],\"yaxis\":\"y\",\"type\":\"bar\"},{\"alignmentgroup\":\"True\",\"hovertemplate\":\"parent_theme_name=Minitalia<br>year=%{x}<br>num_parts=%{y}<extra></extra>\",\"legendgroup\":\"Minitalia\",\"marker\":{\"color\":\"#ff0000\",\"pattern\":{\"shape\":\"\"}},\"name\":\"Minitalia\",\"offsetgroup\":\"Minitalia\",\"orientation\":\"v\",\"showlegend\":true,\"textposition\":\"auto\",\"x\":[1971.0],\"xaxis\":\"x\",\"y\":[307.0],\"yaxis\":\"y\",\"type\":\"bar\"},{\"alignmentgroup\":\"True\",\"hovertemplate\":\"parent_theme_name=Legoland<br>year=%{x}<br>num_parts=%{y}<extra></extra>\",\"legendgroup\":\"Legoland\",\"marker\":{\"color\":\"#565656\",\"pattern\":{\"shape\":\"\"}},\"name\":\"Legoland\",\"offsetgroup\":\"Legoland\",\"orientation\":\"v\",\"showlegend\":true,\"textposition\":\"auto\",\"x\":[1970.0],\"xaxis\":\"x\",\"y\":[471.0],\"yaxis\":\"y\",\"type\":\"bar\"},{\"alignmentgroup\":\"True\",\"hovertemplate\":\"parent_theme_name=Classic<br>year=%{x}<br>num_parts=%{y}<extra></extra>\",\"legendgroup\":\"Classic\",\"marker\":{\"color\":\"#FB6496\",\"pattern\":{\"shape\":\"\"}},\"name\":\"Classic\",\"offsetgroup\":\"Classic\",\"orientation\":\"v\",\"showlegend\":true,\"textposition\":\"auto\",\"x\":[1968.0,1967.0,1965.0,1963.0,1962.0,1961.0,1959.0,1958.0,1957.0,1956.0,1955.0,1954.0,1953.0,1950.0],\"xaxis\":\"x\",\"y\":[1397.0,710.0,228.0,153.0,755.0,760.0,22.0,240.0,290.0,96.0,200.0,100.0,48.0,24.0],\"yaxis\":\"y\",\"type\":\"bar\"},{\"alignmentgroup\":\"True\",\"hovertemplate\":\"parent_theme_name=Basic<br>year=%{x}<br>num_parts=%{y}<extra></extra>\",\"legendgroup\":\"Basic\",\"marker\":{\"color\":\"#FFD700\",\"pattern\":{\"shape\":\"\"}},\"name\":\"Basic\",\"offsetgroup\":\"Basic\",\"orientation\":\"v\",\"showlegend\":true,\"textposition\":\"auto\",\"x\":[1964.0],\"xaxis\":\"x\",\"y\":[253.0],\"yaxis\":\"y\",\"type\":\"bar\"}],                        {\"template\":{\"data\":{\"candlestick\":[{\"decreasing\":{\"line\":{\"color\":\"#000033\"}},\"increasing\":{\"line\":{\"color\":\"#000032\"}},\"type\":\"candlestick\"}],\"contourcarpet\":[{\"colorscale\":[[0.0,\"#000011\"],[0.1111111111111111,\"#000012\"],[0.2222222222222222,\"#000013\"],[0.3333333333333333,\"#000014\"],[0.4444444444444444,\"#000015\"],[0.5555555555555556,\"#000016\"],[0.6666666666666666,\"#000017\"],[0.7777777777777778,\"#000018\"],[0.8888888888888888,\"#000019\"],[1.0,\"#000020\"]],\"type\":\"contourcarpet\"}],\"contour\":[{\"colorscale\":[[0.0,\"#000011\"],[0.1111111111111111,\"#000012\"],[0.2222222222222222,\"#000013\"],[0.3333333333333333,\"#000014\"],[0.4444444444444444,\"#000015\"],[0.5555555555555556,\"#000016\"],[0.6666666666666666,\"#000017\"],[0.7777777777777778,\"#000018\"],[0.8888888888888888,\"#000019\"],[1.0,\"#000020\"]],\"type\":\"contour\"}],\"heatmap\":[{\"colorscale\":[[0.0,\"#000011\"],[0.1111111111111111,\"#000012\"],[0.2222222222222222,\"#000013\"],[0.3333333333333333,\"#000014\"],[0.4444444444444444,\"#000015\"],[0.5555555555555556,\"#000016\"],[0.6666666666666666,\"#000017\"],[0.7777777777777778,\"#000018\"],[0.8888888888888888,\"#000019\"],[1.0,\"#000020\"]],\"type\":\"heatmap\"}],\"histogram2d\":[{\"colorscale\":[[0.0,\"#000011\"],[0.1111111111111111,\"#000012\"],[0.2222222222222222,\"#000013\"],[0.3333333333333333,\"#000014\"],[0.4444444444444444,\"#000015\"],[0.5555555555555556,\"#000016\"],[0.6666666666666666,\"#000017\"],[0.7777777777777778,\"#000018\"],[0.8888888888888888,\"#000019\"],[1.0,\"#000020\"]],\"type\":\"histogram2d\"}],\"icicle\":[{\"textfont\":{\"color\":\"white\"},\"type\":\"icicle\"}],\"sankey\":[{\"textfont\":{\"color\":\"#000036\"},\"type\":\"sankey\"}],\"scatter\":[{\"marker\":{\"line\":{\"width\":0}},\"type\":\"scatter\"}],\"table\":[{\"cells\":{\"fill\":{\"color\":\"#000038\"},\"font\":{\"color\":\"#000037\"},\"line\":{\"color\":\"#000039\"}},\"header\":{\"fill\":{\"color\":\"#000040\"},\"font\":{\"color\":\"#000036\"},\"line\":{\"color\":\"#000039\"}},\"type\":\"table\"}],\"waterfall\":[{\"connector\":{\"line\":{\"color\":\"#000036\",\"width\":2}},\"decreasing\":{\"marker\":{\"color\":\"#000033\"}},\"increasing\":{\"marker\":{\"color\":\"#000032\"}},\"totals\":{\"marker\":{\"color\":\"#000034\"}},\"type\":\"waterfall\"}]},\"layout\":{\"coloraxis\":{\"colorscale\":[[0.0,\"#000011\"],[0.1111111111111111,\"#000012\"],[0.2222222222222222,\"#000013\"],[0.3333333333333333,\"#000014\"],[0.4444444444444444,\"#000015\"],[0.5555555555555556,\"#000016\"],[0.6666666666666666,\"#000017\"],[0.7777777777777778,\"#000018\"],[0.8888888888888888,\"#000019\"],[1.0,\"#000020\"]]},\"colorscale\":{\"diverging\":[[0.0,\"#000021\"],[0.1,\"#000022\"],[0.2,\"#000023\"],[0.3,\"#000024\"],[0.4,\"#000025\"],[0.5,\"#000026\"],[0.6,\"#000027\"],[0.7,\"#000028\"],[0.8,\"#000029\"],[0.9,\"#000030\"],[1.0,\"#000031\"]],\"sequential\":[[0.0,\"#000011\"],[0.1111111111111111,\"#000012\"],[0.2222222222222222,\"#000013\"],[0.3333333333333333,\"#000014\"],[0.4444444444444444,\"#000015\"],[0.5555555555555556,\"#000016\"],[0.6666666666666666,\"#000017\"],[0.7777777777777778,\"#000018\"],[0.8888888888888888,\"#000019\"],[1.0,\"#000020\"]],\"sequentialminus\":[[0.0,\"#000011\"],[0.1111111111111111,\"#000012\"],[0.2222222222222222,\"#000013\"],[0.3333333333333333,\"#000014\"],[0.4444444444444444,\"#000015\"],[0.5555555555555556,\"#000016\"],[0.6666666666666666,\"#000017\"],[0.7777777777777778,\"#000018\"],[0.8888888888888888,\"#000019\"],[1.0,\"#000020\"]]},\"colorway\":[\"#000001\",\"#000002\",\"#000003\",\"#000004\",\"#000005\",\"#000006\",\"#000007\",\"#000008\",\"#000009\",\"#000010\"]}},\"xaxis\":{\"anchor\":\"y\",\"domain\":[0.0,1.0],\"title\":{\"text\":\"Year\"}},\"yaxis\":{\"anchor\":\"x\",\"domain\":[0.0,1.0],\"title\":{\"text\":\"Number of Parts\"}},\"legend\":{\"title\":{\"text\":\"parent_theme_name\"},\"tracegroupgap\":0},\"title\":{\"text\":\"Number of New Sets per Year for Top 10 Parent Themes\"},\"barmode\":\"relative\"},                        {\"responsive\": true}                    ).then(function(){\n",
              "                            \n",
              "var gd = document.getElementById('fbbb9a17-e6f9-48f9-9ca3-f9a5f8c0bda8');\n",
              "var x = new MutationObserver(function (mutations, observer) {{\n",
              "        var display = window.getComputedStyle(gd).display;\n",
              "        if (!display || display === 'none') {{\n",
              "            console.log([gd, 'removed!']);\n",
              "            Plotly.purge(gd);\n",
              "            observer.disconnect();\n",
              "        }}\n",
              "}});\n",
              "\n",
              "// Listen for the removal of the full notebook cells\n",
              "var notebookContainer = gd.closest('#notebook-container');\n",
              "if (notebookContainer) {{\n",
              "    x.observe(notebookContainer, {childList: true});\n",
              "}}\n",
              "\n",
              "// Listen for the clearing of the current output cell\n",
              "var outputEl = gd.closest('.output');\n",
              "if (outputEl) {{\n",
              "    x.observe(outputEl, {childList: true});\n",
              "}}\n",
              "\n",
              "                        })                };                            </script>        </div>\n",
              "</body>\n",
              "</html>"
            ]
          },
          "metadata": {}
        }
      ],
      "source": [
        "#Code here\n",
        "fig_sets_per_master = px.bar(largest_set_year, \n",
        "            x=\"year\", \n",
        "            y=\"num_parts\", \n",
        "            color='parent_theme_name',\n",
        "            title=f'Number of New Sets per Year for Top {filt_n_themes} Parent Themes',\n",
        "            color_discrete_sequence=sets_per_parent_theme.colors)\n",
        "fig_sets_per_master.update_layout(xaxis_title='Year', \n",
        "                yaxis_title='Number of Parts')\n",
        "fig_sets_per_master.show()"
      ]
    },
    {
      "cell_type": "markdown",
      "metadata": {
        "id": "cMlnxi1ofCcq"
      },
      "source": [
        "## 1.5. Table with Parent Theme Name, Theme Name, Set Name and Number of Parts per Year"
      ]
    },
    {
      "cell_type": "markdown",
      "metadata": {
        "id": "WhBR9KEpfCcq"
      },
      "source": [
        "Finally, let's prepare a simple table for free exploration.\n",
        "\n",
        "This table will be named `df_table` and include the columns `year`,`parent_theme_name`, `theme_name`, `set_name`, `num_parts` from `df_filtered` . Make sure to drop all duplicates."
      ]
    },
    {
      "cell_type": "code",
      "execution_count": 28,
      "metadata": {
        "id": "-OBVCeIDfCcq",
        "colab": {
          "base_uri": "https://localhost:8080/",
          "height": 423
        },
        "outputId": "f2f1e446-f7f0-460f-e1fe-147d614ed890"
      },
      "outputs": [
        {
          "output_type": "execute_result",
          "data": {
            "text/plain": [
              "          year        parent_theme_name             theme_name  \\\n",
              "0       1985.0                  Technic                Technic   \n",
              "45      1985.0                  Technic                Technic   \n",
              "92      1985.0                  Technic                Technic   \n",
              "139     1986.0                  Technic                Technic   \n",
              "152     1986.0                  Technic                Technic   \n",
              "...        ...                      ...                    ...   \n",
              "580808  2017.0  Collectible Minifigures  Series 17 Minifigures   \n",
              "580814  2017.0  Collectible Minifigures  Series 17 Minifigures   \n",
              "580821  2017.0                Star Wars    Star Wars Episode 8   \n",
              "580878  2017.0                     Town                 Jungle   \n",
              "581058  2017.0                     Town                 Jungle   \n",
              "\n",
              "                                         set_name  num_parts  \n",
              "0                  TECHNIC I: Simple Machines Set      189.0  \n",
              "45                          TECHNIC II Set {4.5v}      278.0  \n",
              "92                             ERBIE the Robo-Car      120.0  \n",
              "139                          Manual Control Set 1       39.0  \n",
              "152                             TECHNIC Control I      397.0  \n",
              "...                                           ...        ...  \n",
              "580808                            Roman Gladiator        6.0  \n",
              "580814                                Connoisseur        7.0  \n",
              "580821  First Order Transport Speeder Battle Pack      115.0  \n",
              "580878                   Jungle Halftrack Mission      378.0  \n",
              "581058                          Jungle Mobile Lab      423.0  \n",
              "\n",
              "[11596 rows x 5 columns]"
            ],
            "text/html": [
              "\n",
              "  <div id=\"df-19955572-aac0-4b10-99a5-856bb4e88779\">\n",
              "    <div class=\"colab-df-container\">\n",
              "      <div>\n",
              "<style scoped>\n",
              "    .dataframe tbody tr th:only-of-type {\n",
              "        vertical-align: middle;\n",
              "    }\n",
              "\n",
              "    .dataframe tbody tr th {\n",
              "        vertical-align: top;\n",
              "    }\n",
              "\n",
              "    .dataframe thead th {\n",
              "        text-align: right;\n",
              "    }\n",
              "</style>\n",
              "<table border=\"1\" class=\"dataframe\">\n",
              "  <thead>\n",
              "    <tr style=\"text-align: right;\">\n",
              "      <th></th>\n",
              "      <th>year</th>\n",
              "      <th>parent_theme_name</th>\n",
              "      <th>theme_name</th>\n",
              "      <th>set_name</th>\n",
              "      <th>num_parts</th>\n",
              "    </tr>\n",
              "  </thead>\n",
              "  <tbody>\n",
              "    <tr>\n",
              "      <th>0</th>\n",
              "      <td>1985.0</td>\n",
              "      <td>Technic</td>\n",
              "      <td>Technic</td>\n",
              "      <td>TECHNIC I: Simple Machines Set</td>\n",
              "      <td>189.0</td>\n",
              "    </tr>\n",
              "    <tr>\n",
              "      <th>45</th>\n",
              "      <td>1985.0</td>\n",
              "      <td>Technic</td>\n",
              "      <td>Technic</td>\n",
              "      <td>TECHNIC II Set {4.5v}</td>\n",
              "      <td>278.0</td>\n",
              "    </tr>\n",
              "    <tr>\n",
              "      <th>92</th>\n",
              "      <td>1985.0</td>\n",
              "      <td>Technic</td>\n",
              "      <td>Technic</td>\n",
              "      <td>ERBIE the Robo-Car</td>\n",
              "      <td>120.0</td>\n",
              "    </tr>\n",
              "    <tr>\n",
              "      <th>139</th>\n",
              "      <td>1986.0</td>\n",
              "      <td>Technic</td>\n",
              "      <td>Technic</td>\n",
              "      <td>Manual Control Set 1</td>\n",
              "      <td>39.0</td>\n",
              "    </tr>\n",
              "    <tr>\n",
              "      <th>152</th>\n",
              "      <td>1986.0</td>\n",
              "      <td>Technic</td>\n",
              "      <td>Technic</td>\n",
              "      <td>TECHNIC Control I</td>\n",
              "      <td>397.0</td>\n",
              "    </tr>\n",
              "    <tr>\n",
              "      <th>...</th>\n",
              "      <td>...</td>\n",
              "      <td>...</td>\n",
              "      <td>...</td>\n",
              "      <td>...</td>\n",
              "      <td>...</td>\n",
              "    </tr>\n",
              "    <tr>\n",
              "      <th>580808</th>\n",
              "      <td>2017.0</td>\n",
              "      <td>Collectible Minifigures</td>\n",
              "      <td>Series 17 Minifigures</td>\n",
              "      <td>Roman Gladiator</td>\n",
              "      <td>6.0</td>\n",
              "    </tr>\n",
              "    <tr>\n",
              "      <th>580814</th>\n",
              "      <td>2017.0</td>\n",
              "      <td>Collectible Minifigures</td>\n",
              "      <td>Series 17 Minifigures</td>\n",
              "      <td>Connoisseur</td>\n",
              "      <td>7.0</td>\n",
              "    </tr>\n",
              "    <tr>\n",
              "      <th>580821</th>\n",
              "      <td>2017.0</td>\n",
              "      <td>Star Wars</td>\n",
              "      <td>Star Wars Episode 8</td>\n",
              "      <td>First Order Transport Speeder Battle Pack</td>\n",
              "      <td>115.0</td>\n",
              "    </tr>\n",
              "    <tr>\n",
              "      <th>580878</th>\n",
              "      <td>2017.0</td>\n",
              "      <td>Town</td>\n",
              "      <td>Jungle</td>\n",
              "      <td>Jungle Halftrack Mission</td>\n",
              "      <td>378.0</td>\n",
              "    </tr>\n",
              "    <tr>\n",
              "      <th>581058</th>\n",
              "      <td>2017.0</td>\n",
              "      <td>Town</td>\n",
              "      <td>Jungle</td>\n",
              "      <td>Jungle Mobile Lab</td>\n",
              "      <td>423.0</td>\n",
              "    </tr>\n",
              "  </tbody>\n",
              "</table>\n",
              "<p>11596 rows × 5 columns</p>\n",
              "</div>\n",
              "      <button class=\"colab-df-convert\" onclick=\"convertToInteractive('df-19955572-aac0-4b10-99a5-856bb4e88779')\"\n",
              "              title=\"Convert this dataframe to an interactive table.\"\n",
              "              style=\"display:none;\">\n",
              "        \n",
              "  <svg xmlns=\"http://www.w3.org/2000/svg\" height=\"24px\"viewBox=\"0 0 24 24\"\n",
              "       width=\"24px\">\n",
              "    <path d=\"M0 0h24v24H0V0z\" fill=\"none\"/>\n",
              "    <path d=\"M18.56 5.44l.94 2.06.94-2.06 2.06-.94-2.06-.94-.94-2.06-.94 2.06-2.06.94zm-11 1L8.5 8.5l.94-2.06 2.06-.94-2.06-.94L8.5 2.5l-.94 2.06-2.06.94zm10 10l.94 2.06.94-2.06 2.06-.94-2.06-.94-.94-2.06-.94 2.06-2.06.94z\"/><path d=\"M17.41 7.96l-1.37-1.37c-.4-.4-.92-.59-1.43-.59-.52 0-1.04.2-1.43.59L10.3 9.45l-7.72 7.72c-.78.78-.78 2.05 0 2.83L4 21.41c.39.39.9.59 1.41.59.51 0 1.02-.2 1.41-.59l7.78-7.78 2.81-2.81c.8-.78.8-2.07 0-2.86zM5.41 20L4 18.59l7.72-7.72 1.47 1.35L5.41 20z\"/>\n",
              "  </svg>\n",
              "      </button>\n",
              "      \n",
              "  <style>\n",
              "    .colab-df-container {\n",
              "      display:flex;\n",
              "      flex-wrap:wrap;\n",
              "      gap: 12px;\n",
              "    }\n",
              "\n",
              "    .colab-df-convert {\n",
              "      background-color: #E8F0FE;\n",
              "      border: none;\n",
              "      border-radius: 50%;\n",
              "      cursor: pointer;\n",
              "      display: none;\n",
              "      fill: #1967D2;\n",
              "      height: 32px;\n",
              "      padding: 0 0 0 0;\n",
              "      width: 32px;\n",
              "    }\n",
              "\n",
              "    .colab-df-convert:hover {\n",
              "      background-color: #E2EBFA;\n",
              "      box-shadow: 0px 1px 2px rgba(60, 64, 67, 0.3), 0px 1px 3px 1px rgba(60, 64, 67, 0.15);\n",
              "      fill: #174EA6;\n",
              "    }\n",
              "\n",
              "    [theme=dark] .colab-df-convert {\n",
              "      background-color: #3B4455;\n",
              "      fill: #D2E3FC;\n",
              "    }\n",
              "\n",
              "    [theme=dark] .colab-df-convert:hover {\n",
              "      background-color: #434B5C;\n",
              "      box-shadow: 0px 1px 3px 1px rgba(0, 0, 0, 0.15);\n",
              "      filter: drop-shadow(0px 1px 2px rgba(0, 0, 0, 0.3));\n",
              "      fill: #FFFFFF;\n",
              "    }\n",
              "  </style>\n",
              "\n",
              "      <script>\n",
              "        const buttonEl =\n",
              "          document.querySelector('#df-19955572-aac0-4b10-99a5-856bb4e88779 button.colab-df-convert');\n",
              "        buttonEl.style.display =\n",
              "          google.colab.kernel.accessAllowed ? 'block' : 'none';\n",
              "\n",
              "        async function convertToInteractive(key) {\n",
              "          const element = document.querySelector('#df-19955572-aac0-4b10-99a5-856bb4e88779');\n",
              "          const dataTable =\n",
              "            await google.colab.kernel.invokeFunction('convertToInteractive',\n",
              "                                                     [key], {});\n",
              "          if (!dataTable) return;\n",
              "\n",
              "          const docLinkHtml = 'Like what you see? Visit the ' +\n",
              "            '<a target=\"_blank\" href=https://colab.research.google.com/notebooks/data_table.ipynb>data table notebook</a>'\n",
              "            + ' to learn more about interactive tables.';\n",
              "          element.innerHTML = '';\n",
              "          dataTable['output_type'] = 'display_data';\n",
              "          await google.colab.output.renderOutput(dataTable, element);\n",
              "          const docLink = document.createElement('div');\n",
              "          docLink.innerHTML = docLinkHtml;\n",
              "          element.appendChild(docLink);\n",
              "        }\n",
              "      </script>\n",
              "    </div>\n",
              "  </div>\n",
              "  "
            ]
          },
          "metadata": {},
          "execution_count": 28
        }
      ],
      "source": [
        "#Insert the code here\n",
        "df_table = df_filtered[['year','parent_theme_name','theme_name','set_name','num_parts']].drop_duplicates()\n",
        "df_table"
      ]
    },
    {
      "cell_type": "markdown",
      "metadata": {
        "id": "Eo_u_zf2fCcq"
      },
      "source": [
        "# 2. Big Things have Small Beginnings"
      ]
    },
    {
      "cell_type": "markdown",
      "metadata": {
        "id": "TA1MJRLWfCcr"
      },
      "source": [
        "## 2.1. Create the Script for the Dashboard Homepage"
      ]
    },
    {
      "cell_type": "markdown",
      "metadata": {
        "id": "3UtzUpMgfCcr"
      },
      "source": [
        "You now have all the necessary code to insert visualizations into the Dashboard itself. So you will now create the home page and run it locally, to validate it is working as intended!\n",
        "\n",
        "A common way of structuring a Dashboard is to have a left side panel where links to other pages of the Dashboard are located, as well as filters that apply to the entire Dashboard. The area to the right of this panel is where the content itself is located. \n",
        "\n",
        "The content will follow the structure, ordered vertically from top to bottom:\n",
        "\n",
        "\n",
        "*   A title - \"Lego Sets Explorer\";\n",
        "*   4 columns, each containing a different metric from the ones you previously calculated. From left to right: Number of New Master Themes, New Themes, New Sets and Parts of New Sets;\n",
        "*   A slider input widget - Allowing the user to insert any value between 1 and 20;\n",
        "*   An expander container - Containing the visualization of the number of New Sets per Top N Parent Themes; \n",
        "*   An expander container - Containing the visualization of the number of New  Sets per Year, of the Top N Parent Themes; \n",
        "*   An expander container - Containing the visualization of Largest Set of each Year, as measured by number of parts, with information of the Master Theme it belongs to; \n",
        "*   An expander container - Containing an interactive table with the `year`, `parent_theme_name`, `theme_name`, `set_name` and `num_parts` columns;\n",
        "\n",
        "As this is a single page Dashboard, you only need to create a Python file named `Home.py`. This file can then be executed by Streamlit to run your application.\n",
        "\n",
        "Below is a magic function (read more on them [here](https://www.tutorialspoint.com/jupyter/ipython_magic_commands.htm) and [here](https://towardsdatascience.com/top-8-magic-commands-in-jupyter-notebook-c1582e813560#:~:text=Magic%20commands%20are%20special%20commands,to%20spot%20within%20the%20code)) that creates a file that contains the code contained in the cell.\n",
        "\n",
        "There is already some code pre-filled on the cell. Look for the hand emoji which signal locations where code is missing and needs to be filled by you! Once you have completed them all, move on as next you will launch the first version of the Dashboard!\n",
        "\n",
        "Look for the following symbols on the code that sinalize:\n",
        "\n",
        "🛑 - This is a code part that does not need your intervention but is an important operation that can be useful for you in the future. Study and understand this code;\n",
        "\n",
        "👇 - This is a code part that is incomplete and needs to be filled by you. Will be acompanied by information and tips to assist you in this task.\n",
        "\n",
        "\n"
      ]
    },
    {
      "cell_type": "code",
      "execution_count": 29,
      "metadata": {
        "id": "eRmu9RpnfCcr",
        "colab": {
          "base_uri": "https://localhost:8080/"
        },
        "outputId": "abafa98c-85f6-4745-ad37-3078ebd71db6"
      },
      "outputs": [
        {
          "output_type": "stream",
          "name": "stdout",
          "text": [
            "Writing Home.py\n"
          ]
        }
      ],
      "source": [
        "%%writefile Home.py\n",
        "import streamlit as st\n",
        "import numpy as np\n",
        "import pandas as pd\n",
        "import plotly.express as px\n",
        "import plotly.graph_objects as go\n",
        "from plotly.express.colors import sample_colorscale\n",
        "from datetime import datetime, timedelta\n",
        "\n",
        "#🛑 Code to set the Dashboard format to wide (the content will fill the entire width of the page instead of having wide margins)\n",
        "def do_stuff_on_page_load():\n",
        "    st.set_page_config(layout=\"wide\")\n",
        "do_stuff_on_page_load()\n",
        "\n",
        "#Set Header\n",
        "#🛑 Code to set the header\n",
        "st.header('Lego Sets Explorer', anchor=None)\n",
        "\n",
        "#Set Sidebar Elements\n",
        "#🛑 Code to set the Sidebar\n",
        "with st.sidebar:\n",
        "    st.header('Filters', anchor=None)\n",
        "    values = st.slider(\n",
        "        'Select the Start and End Years',\n",
        "        1950, 2017, (1950, 2017))\n",
        "    min_year = values[0]\n",
        "    max_year = values[1]\n",
        "    st.write('Date Range: '+str(values[0])+'-01-01 to '+str(values[1])+'-01-01')\n",
        "\n",
        "#🛑 Code to import the dataset\n",
        "df = pd.read_csv('https://miles-become-a-data-scientist.s3.us-east-2.amazonaws.com/J3/M2/df_combined_lego.csv')\n",
        "\n",
        "#🛑 Code to persist the DataFrame between pages of the same Dashboard. Without this, any other page would need to re import the DataFrame and save it to df again.\n",
        "st.session_state['df'] = df \n",
        "\n",
        "#Apply the minimum and maximum year filter of the side panel. Store in a filtered dataframe\n",
        "df_filtered = df[(df.year >= values[0]) & (df.year <= values[1])]\n",
        "\n",
        "#Cards with Number of New Master Themes, Themes, Sets and Parts\n",
        "#👇 Create 4 columns here using the apropriate Streamlit object. Save them as col1, col2, col3 and col4. \n",
        "#👇 Reference material can be found here: https://docs.streamlit.io/library/api-reference/layout/st.columns\n",
        "col1, col2, col3, col4 = st.columns(4)\n",
        "\n",
        "\n",
        "metric_new_master_themes = df.groupby('parent_theme_name').year.min().reset_index()\n",
        "metric_new_master_themes = metric_new_master_themes[(metric_new_master_themes.year >= min_year) & (metric_new_master_themes.year<= max_year)]\n",
        "metric_new_master_themes = metric_new_master_themes.parent_theme_name.nunique()\n",
        "#👇 Use col1.metric(title,value) to produce a column with the metric_new_master_themes metric. Set the title to \"New Master Themes\"\n",
        "col1.metric('New Master Themes',metric_new_master_themes)\n",
        "\n",
        "#New Themes (considering first year of appearance)\n",
        "metric_new_themes = df.groupby('theme_name').year.min().reset_index()\n",
        "metric_new_themes = metric_new_themes[(metric_new_themes.year >= min_year) & (metric_new_themes.year<= max_year)]\n",
        "metric_new_themes = metric_new_themes.theme_name.nunique()\n",
        "#👇 Create a metric with the metric_new_themes and set it to col2. Give it the title \"New Themes\". The procedure is similar to the one you performed before\n",
        "col2.metric('New Themes',metric_new_themes)\n",
        "\n",
        "\n",
        "#New Sets (considering first year of appearance)\n",
        "metric_new_sets = df.groupby('set_name').year.min().reset_index()\n",
        "metric_new_sets = metric_new_sets[(metric_new_sets.year >= min_year) & (metric_new_sets.year<= max_year)]\n",
        "metric_new_sets = metric_new_sets.set_name.nunique()\n",
        "#👇 Create a metric with the metric_new_sets and set it to col3. Give it the title \"New Sets\". The procedure is similar to the one you performed before\n",
        "col3.metric('New Sets',metric_new_sets)\n",
        "\n",
        "\n",
        "\n",
        "#New Pars of Sets (considering first year of appearance)\n",
        "metric_new_sets_parts = df.groupby(['set_name','num_parts']).year.min().reset_index()\n",
        "metric_new_sets_parts = metric_new_sets_parts[(metric_new_sets_parts.year >= min_year) & (metric_new_sets_parts.year<= max_year)]\n",
        "metric_new_sets_parts = int(metric_new_sets_parts.num_parts.sum())\n",
        "#👇 Create a metric with the metric_new_sets_parts and set it to col4. Give it the title \"Parts of New Sets\". The procedure is similar to the one you performed before\n",
        "col4.metric('Parts of New Sets',metric_new_sets_parts)\n",
        "\n",
        "\n",
        "#Get Top N Themes\n",
        "#👇 Paste the code to create a slider input widget with possible values between 1 and 20. Set default value to 10 and save the output to a new variable called filt_n_themes\n",
        "#👇 You can find the documentation here - https://docs.streamlit.io/library/api-reference/widgets/st.slider\n",
        "filt_n_themes = st.slider(\"Number of Top themes\", 1, 20, 10) \n",
        "\n",
        "#👇 Create an expander container widget with title \"New Sets of the Top Master Themes\".\n",
        "#👇 You can find the documentation here - https://docs.streamlit.io/library/api-reference/layout/st.expander.\n",
        "with st.expander(f\"New Sets of the Top {filt_n_themes} Master Themes\",expanded=True): # Replace ... by the correct method. 🛑Remember that everything contained on the expander needs to be idented.\n",
        "    #Prepare sample of colors\n",
        "    colors_scaled = [\"#1F78C8\",\"#ff0000\",\"#33a02c\",\"#6A33C2\",\"#ff7f00\",\"#565656\",\n",
        "        \"#FFD700\",\"#a6cee3\",\"#FB6496\",\"#b2df8a\",\"#CAB2D6\",\"#FDBF6F\",\n",
        "        \"#999999\",\"#EEE685\",\"#C8308C\",\"#FF83FA\",\"#C814FA\",\"#0000FF\",\n",
        "        \"#36648B\",\"#00E2E5\",\"#00FF00\",\"#778B00\",\"#BEBE00\",\"#8B3B00\",\n",
        "        \"#A52A3C\"]\n",
        "\n",
        "    #👇 Paste the code created in activity 1.2 to produce a DataFrame with the top N Master Themes as measured by number of new sets.\n",
        "\n",
        "    #👇 Paste the code created in activity 1.2 to create the visualization of the sets_per_parent_theme DataFrame\n",
        "    #👇 Important! If you had previously used fig_parent_theme.show() at the end to display the plotly graph, you now don't want to do so.\n",
        "\n",
        "    df_sets_per_parent_theme = df_filtered.groupby(['parent_theme_name']).set_name.nunique().reset_index().rename(columns= {\"set_name\" : \"nbr_sets\"})\n",
        "\n",
        "    sets_per_parent_theme = df_sets_per_parent_theme.sort_values(by='nbr_sets', ascending=False).reset_index()[:filt_n_themes]\n",
        "\n",
        "    nbr_sets_remained = df_sets_per_parent_theme.sort_values(by='nbr_sets', ascending=False).reset_index()[filt_n_themes:].nbr_sets.sum()\n",
        "\n",
        "    dict_colors = dict(zip(sets_per_parent_theme.parent_theme_name.sort_values().tolist(),colors_scaled)) #This line is supplied for you\n",
        "    sets_per_parent_theme['colors'] = sets_per_parent_theme.parent_theme_name.map(dict_colors)\n",
        "\n",
        "    df_single_row = pd.DataFrame({'parent_theme_name':'Remainder',\n",
        "              'nbr_sets':nbr_sets_remained,\n",
        "              'colors':'#808080'},\n",
        "              index=[filt_n_themes])\n",
        "\n",
        "    sets_per_parent_theme = pd.concat((sets_per_parent_theme,df_single_row))\n",
        "\n",
        "    #👇 Use a plotly widget from Streamlit to visualize the fig_parent_theme plot. Pass the parameter use_container_width =True to ensure the visualization expands to the container width.\n",
        "    #👇 You can find the documentation here - https://docs.streamlit.io/library/api-reference/charts/st.plotly_chart\n",
        "    fig = px.bar(sets_per_parent_theme,\n",
        "            x='nbr_sets',\n",
        "            y='parent_theme_name', \n",
        "            color='parent_theme_name', \n",
        "            color_discrete_sequence=sets_per_parent_theme.colors,\n",
        "            title=f'Top {filt_n_themes} parent theme').\\\n",
        "            update_layout(yaxis_title=\"Parent Theme\")\n",
        "    fig.update_yaxes(automargin=True)\n",
        "\n",
        "    st.plotly_chart(fig,use_container_width=True)\n",
        "\n",
        "#👇 Create an expander container widget with title \"New Sets of the Top Master Themes\"\n",
        "with st.expander(f\"New Sets of the Top Master Themes\",expanded=True): #Replace ... by the code\n",
        "    #👇 Paste the code created in activity 1.3 to produce a DataFrame with the number of new Sets per Year by Master Theme.\n",
        "    sets_master_themes_per_first_year = df_filtered.groupby(['parent_theme_name','set_name'])['year'].min().reset_index()\n",
        "\n",
        "\n",
        "    #👇 Paste the code created in activity 1.3 to create the visualization of the sets_per_year_master_theme DataFrame\n",
        "    sets_per_year_master_theme = sets_master_themes_per_first_year.groupby(['year','parent_theme_name'])['set_name'].nunique().reset_index()\n",
        "    sets_per_year_master_theme_top= sets_per_year_master_theme[sets_per_year_master_theme['parent_theme_name'].isin(sets_per_parent_theme.parent_theme_name.tolist())].sort_values(by='parent_theme_name')\n",
        "    sets_per_year_master_theme_top['colors'] = sets_per_year_master_theme_top.parent_theme_name.map(dict_colors)\n",
        "    sets_per_year_master_theme_remainder = sets_per_year_master_theme[~sets_per_year_master_theme['parent_theme_name'].isin(sets_per_parent_theme.parent_theme_name.tolist())]\n",
        "    sets_per_year_master_theme_remainder = sets_per_year_master_theme_remainder.groupby(['year'])['set_name'].sum().reset_index()\n",
        "    #Fills colors fot the remainders\n",
        "    sets_per_year_master_theme_remainder['parent_theme_name'] = 'Remainder'\n",
        "    sets_per_year_master_theme_remainder['colors'] = '#808080'\n",
        "    sets_per_year_master_theme = pd.concat((sets_per_year_master_theme_top,sets_per_year_master_theme_remainder))\n",
        "    fig_sets_per_master = px.bar(sets_per_year_master_theme, \n",
        "            x=\"year\", \n",
        "            y=\"set_name\", \n",
        "            color='parent_theme_name',\n",
        "            title=f'Number of New Sets per Year for Top {filt_n_themes} Parent Themes',\n",
        "            color_discrete_sequence=sets_per_parent_theme.colors)\n",
        "    fig_sets_per_master.update_layout(xaxis_title='Year', \n",
        "                yaxis_title='Number of New Sets')\n",
        "    \n",
        "    #👇 Use a plotly widget from Streamlit to visualize the fig_sets_per_master plot. Pass the parameter use_container_width =True to ensure the visualization expands to the container width.\n",
        "    st.plotly_chart(fig_sets_per_master,use_container_width=True)\n",
        "\n",
        "\n",
        "#Get Largest Lego Set per Year\n",
        "#👇 Create an expander container widget with title \"Largest Lego Set per Year\".\n",
        "with st.expander(f\"Largest Lego Set per Year\",expanded=True): #Replace ... by the code\n",
        "    \n",
        "    #👇 Paste the code created in activity 1.4 to produce a DataFrame with the largest Set per Year and with Master Theme information.\n",
        "\n",
        "    df_sets_to_theme = df_filtered[['year','parent_theme_name','set_name','num_parts']].drop_duplicates()\n",
        "    df_sets_to_theme['theme_set'] = df_sets_to_theme[\"parent_theme_name\"] + ' - ' +df_sets_to_theme[\"set_name\"]\n",
        "    df_sets_to_theme_group = df_sets_to_theme.groupby(['year','parent_theme_name','theme_set'])['num_parts'].sum().reset_index().sort_values('num_parts', ascending=False)\n",
        "    df_sets_to_theme_group['rank']=df_sets_to_theme_group.groupby(\"year\")[\"num_parts\"].rank(ascending=False)\n",
        "    largest_set_year = df_sets_to_theme_group.query(\"rank == 1\").sort_values('year', ascending=False)\n",
        "\n",
        "    #👇 Paste the code created in activity 1.4 to create the visualization of the largest_set_year DataFrame\n",
        "    fig_largest_set_year = px.bar(largest_set_year, \n",
        "            x=\"year\", \n",
        "            y=\"num_parts\", \n",
        "            color='parent_theme_name',\n",
        "            title=f'Number of New Sets per Year for Top {filt_n_themes} Parent Themes',\n",
        "            color_discrete_sequence=sets_per_parent_theme.colors)\n",
        "    fig_sets_per_master.update_layout(xaxis_title='Year', \n",
        "                yaxis_title='Number of Parts')\n",
        "    #👇 Use a plotly widget from Streamlit to visualize the fig_largest_set_year plot. Pass the parameter use_container_width =True to ensure the visualization expands to the container width.\n",
        "    st.plotly_chart(fig_largest_set_year,use_container_width=True)\n",
        "\n",
        "#Free table explorer\n",
        "#👇 Create an expander container widget with title \"Free Table Explorer\".\n",
        "with st.expander(f\"Free Table Explorer\",expanded=True): #Replace ... by the code\n",
        "    #👇 Paste the code created in activity 1.5 to produce a DataFrame with details to year, parent_theme_name, theme_name, set_name and num_parts.\n",
        "    df_table = df_filtered[['year','parent_theme_name','theme_name','set_name','num_parts']].drop_duplicates()\n",
        "\n",
        "    #👇 Use a plotly widget from Streamlit to output an interactive table with df_table. Pass the parameter use_container_width =True to ensure the visualization expands to the container width.\n",
        "    #👇 You can find the documentation here - https://docs.streamlit.io/library/api-reference/data/st.dataframe\n",
        "    st.dataframe(data=df_table, use_container_width =True)"
      ]
    },
    {
      "cell_type": "markdown",
      "metadata": {
        "id": "LrMQKLQlfCcs"
      },
      "source": [
        "## 2.2. Run the Dashboard Locally"
      ]
    },
    {
      "cell_type": "markdown",
      "metadata": {
        "id": "eA4Fvc0rfCcs"
      },
      "source": [
        "You can now run the Dashboard locally to validate that it is working as intended! By running this cell, the application will run and a URL will be produced that you can follow to reach the Dashboard.\n",
        "\n",
        "This code cell will run continuously until you force it to stop and during that time the Dashboard will be available. If you need to modify the Dashboard or execute any other code cell on this Notebook, you will have to first manually stop the cell execution by clicking the stop button on its upper left corner! \n",
        "\n",
        "This will terminate the Dashboard and free up the resources of the Dashboard so that you can continue coding.\n",
        "\n",
        "Note: As it is running locally you may find it is slower than expected. Also remember that it needs to process all the data processing and visualizations!"
      ]
    },
    {
      "cell_type": "markdown",
      "source": [
        "Due to recent changes, we now need to supply an IP address after following the URL where the Dashboard will be accessible. Run the cell below to find it."
      ],
      "metadata": {
        "id": "AnbBkDGt2IF3"
      }
    },
    {
      "cell_type": "code",
      "source": [
        "!curl ipv4.icanhazip.com"
      ],
      "metadata": {
        "colab": {
          "base_uri": "https://localhost:8080/"
        },
        "id": "Iu6l0SxMP8mb",
        "outputId": "aabefc34-59ff-44a3-a7b7-4b1cbb5f898c"
      },
      "execution_count": null,
      "outputs": [
        {
          "output_type": "stream",
          "name": "stdout",
          "text": [
            "35.245.207.209\n"
          ]
        }
      ]
    },
    {
      "cell_type": "code",
      "execution_count": null,
      "metadata": {
        "id": "Aa7web8KfCcs",
        "colab": {
          "base_uri": "https://localhost:8080/"
        },
        "outputId": "2e0a7e28-05f3-4454-b9df-1aafcc182495"
      },
      "outputs": [
        {
          "output_type": "stream",
          "name": "stdout",
          "text": [
            "\u001b[K\u001b[?25hnpx: installed 22 in 3.152s\n",
            "your url is: https://wild-llamas-crash.loca.lt\n",
            "^C\n"
          ]
        }
      ],
      "source": [
        "#Run the Home.py and create a logs.txt file with logging\n",
        "!streamlit run /content/Home.py &>/content/logs.txt &\n",
        "#Expose the app on port 8501\n",
        "!npx localtunnel --port 8501\n",
        "#This will produce a URL that you can use to reach the Dashboard"
      ]
    },
    {
      "cell_type": "markdown",
      "metadata": {
        "id": "-mVEUtBjfCcs"
      },
      "source": [
        "We can now move on and add more content to the Dashboard."
      ]
    },
    {
      "cell_type": "markdown",
      "metadata": {
        "id": "_rk265EyfCcs"
      },
      "source": [
        "# 3. Extending the Dashboard with New Pages"
      ]
    },
    {
      "cell_type": "markdown",
      "metadata": {
        "id": "b-A7GLBWfCct"
      },
      "source": [
        "Thus far, you have placed all the content into a single place, the homepage. But a Dashboard can have multiple pages, each one with its own \"story\" to tell. This will be useful to avoid cluttering and dispersion of attention! \n",
        "\n",
        "Ideally, we want the user to be able to quickly understand and obtain useful and relevant information and so we don't want to force the user to go through dozens of visualizations in search of whatever are the needs at a particular moment.\n",
        "\n",
        "Let's create a page where the user can find information of the relationship between sets, themes and master themes."
      ]
    },
    {
      "cell_type": "markdown",
      "metadata": {
        "id": "G2rCb4pbfCct"
      },
      "source": [
        "## 3.1. Sunburst of the Lego Sets"
      ]
    },
    {
      "cell_type": "markdown",
      "metadata": {
        "id": "hdezCummfCct"
      },
      "source": [
        "Bar plots are extremely useful for visualization purposes and, along with line plots, are probably the most commonly used graphs. \n",
        "\n",
        "In some situations however, there are better ways of displaying data, especially when we have relationships that we want to demonstrate. For example, if for a specific `parent_theme_name` we want to visualize how many diferent `theme_names` exist and for those, how many `set_name`, how could we do this? One way is with a Sunburst plot! Luckily Plotly has this visualization already prepared for us. Let's implement it now!\n",
        "\n",
        "Before preparing the data for the plot itself, let's first get a list of `parent_theme_name` ordered by the number of distinct `set_name` in descending order so we have an idea of the importance of each `parent_theme_name`.\n",
        "\n",
        "1.   Group the `df_sets_to_theme` dataframe by the `parent_theme_name` column and count the number of unique `set_name`. Order by the `set_name` in descending order and save the `parent_theme_name` to a list named `list_parent_themes`."
      ]
    },
    {
      "cell_type": "code",
      "execution_count": 30,
      "metadata": {
        "id": "a7ztufxmfCct"
      },
      "outputs": [],
      "source": [
        "#Step 1\n",
        "list_parent_themes = df_sets_to_theme.groupby('parent_theme_name').nunique('set_name').sort_values('set_name',ascending=False).reset_index()\n",
        "list_parent_themes = list_parent_themes.parent_theme_name.tolist()[:filt_n_themes]"
      ]
    },
    {
      "cell_type": "markdown",
      "metadata": {
        "id": "lYuq6AJCcHN-"
      },
      "source": [
        "Now let's head to the actual Sunburst. You will use the theme 'Star Wars' for now (supplied for you already on the cell below in the `chosen_theme` variable) but you can at any change change it to another possibility and explore the results!\n",
        "2.   Create a DataFrame named `df_sunburst` with only the columns `parent_theme_name`, `theme_name` and `set_name` from `df_filtered`. Make sure to drop any duplicate rows.\n",
        "3.   Create a new columns named `nbr` that always has value `1`. \n",
        "4.   Drop any null values and filter the `parent_theme_name` by making sure it is the `chosen_theme` option."
      ]
    },
    {
      "cell_type": "code",
      "execution_count": 31,
      "metadata": {
        "id": "WnSNjGejfCct"
      },
      "outputs": [],
      "source": [
        "chosen_theme = 'Space'\n",
        "#Step 2\n",
        "df_sunburst = df_filtered[['parent_theme_name','theme_name','set_name']].drop_duplicates()\n",
        "#Step 3\n",
        "df_sunburst['nbr'] = 1\n",
        "#Step 4\n",
        "df_sunburst = df_sunburst.loc[df_sunburst.parent_theme_name.isin([chosen_theme])].dropna()\n"
      ]
    },
    {
      "cell_type": "markdown",
      "metadata": {
        "id": "3GQlz-4NfCcu"
      },
      "source": [
        "Now we can plot the Sunburst itself (https://plotly.com/python/sunburst-charts/).\n",
        "\n",
        "Use Plotly Express `px.` and the `sunburst` method to create the plot. Pass the `df_sunburst`, the `path=['parent_theme_name','theme_name','set_name']`. Set `values` to the `nbr` column. Make sure to set the `height` parameter to somethings that allows the graph to be read and pass `color_discrete_sequence=px.colors.qualitative.Plotly`."
      ]
    },
    {
      "cell_type": "code",
      "execution_count": 32,
      "metadata": {
        "id": "VW69OyrkfCcu",
        "colab": {
          "base_uri": "https://localhost:8080/",
          "height": 917
        },
        "outputId": "3d5ed8eb-06ed-46e6-f25d-65c913775e36"
      },
      "outputs": [
        {
          "output_type": "display_data",
          "data": {
            "text/html": [
              "<html>\n",
              "<head><meta charset=\"utf-8\" /></head>\n",
              "<body>\n",
              "    <div>            <script src=\"https://cdnjs.cloudflare.com/ajax/libs/mathjax/2.7.5/MathJax.js?config=TeX-AMS-MML_SVG\"></script><script type=\"text/javascript\">if (window.MathJax && window.MathJax.Hub && window.MathJax.Hub.Config) {window.MathJax.Hub.Config({SVG: {font: \"STIX-Web\"}});}</script>                <script type=\"text/javascript\">window.PlotlyConfig = {MathJaxConfig: 'local'};</script>\n",
              "        <script src=\"https://cdn.plot.ly/plotly-2.18.2.min.js\"></script>                <div id=\"ba6e5ffa-fc14-4e4a-b62e-455d1a02f353\" class=\"plotly-graph-div\" style=\"height:900px; width:100%;\"></div>            <script type=\"text/javascript\">                                    window.PLOTLYENV=window.PLOTLYENV || {};                                    if (document.getElementById(\"ba6e5ffa-fc14-4e4a-b62e-455d1a02f353\")) {                    Plotly.newPlot(                        \"ba6e5ffa-fc14-4e4a-b62e-455d1a02f353\",                        [{\"branchvalues\":\"total\",\"domain\":{\"x\":[0.0,1.0],\"y\":[0.0,1.0]},\"hovertemplate\":\"labels=%{label}<br>nbr=%{value}<br>parent=%{parent}<br>id=%{id}<extra></extra>\",\"ids\":[\"Space/Blacktron II/2-Pilot Craft\",\"Space/Alien Conquest/ADU Jetpack\",\"Space/Alien Conquest/ADU Walker\",\"Space/Blacktron II/Aerial Intruder\",\"Space/Futuron/Aero Module\",\"Space/Life On Mars/Aero Tube Hanger\",\"Space/UFO/Alien Avenger\",\"Space/Alien Conquest/Alien Conquest Battle Pack\",\"Space/Alien Conquest/Alien Defender\",\"Space/Life On Mars/Alien Discovery\",\"Space/Life On Mars/Alien Encounter\",\"Space/Exploriens/Alien Fossilizer\",\"Space/Mars Mission/Alien Jet\",\"Space/Classic Space/Alien Moon Stalker\",\"Space/Alien Conquest/Alien Mothership\",\"Space/Alien Conquest/Alien Striker\",\"Space/Blacktron I/Alienator\",\"Space/Classic Space/All-Terrain Vehicle\",\"Space/Blacktron II/Allied Avenger\",\"Space/Blacktron II/Alpha Centauri Outpost\",\"Space/Classic Space/Alpha-1 Rocket Base\",\"Space/Life On Mars/Altair\",\"Space/Exploriens/Android Base\",\"Space/Insectoids/Arachnoid Star Base\",\"Space/Futuron/Astro Dart\",\"Space/Classic Space/Astro Dasher\",\"Space/Futuron/Auxiliary Patroller\",\"Space/Blacktron I/Battrax\",\"Space/M:Tron/Beacon Tracer\",\"Space/Insectoids/Beta Buzzer\",\"Space/Classic Space/Beta I Command Base\",\"Space/Insectoids/Bi-Wing Blaster\",\"Space/Space/Biff Starling Mars Rover Mission Astrobot Male\",\"Space/Blacktron II/Blacktron Super Vehicle (Value 3-Pack)\",\"Space/Ice Planet 2002/Blizzard Baron\",\"Space/Insectoids/Booster\",\"Space/Insectoids/Bug Blaster\",\"Space/Galaxy Squad/Bug Obliterator\",\"Space/Galaxy Squad/CLS-89 Eradicator Mech\",\"Space/M:Tron/Celestial Forager\",\"Space/Ice Planet 2002/Celestial Sled\",\"Space/Insectoids/Celestial Stinger\",\"Space/Classic Space/Command Centre (Center)\",\"Space/Mars Mission/Complete Mars Mission Collection\",\"Space/Classic Space/Cosmic Charger\",\"Space/Classic Space/Cosmic Comet\",\"Space/Insectoids/Cosmic Creeper\",\"Space/Classic Space/Cosmic Cruiser\",\"Space/Classic Space/Cosmic Fleet Voyager\",\"Space/Futuron/Cosmic Laser Launcher\",\"Space/Classic Space/Crater Crawler\",\"Space/Galaxy Squad/Crater Creeper\",\"Space/Unitron/Crater Cruiser\",\"Space/Mars Mission/Crystal Hawk\",\"Space/UFO/Cyber Blaster\",\"Space/UFO/Cyber Saucer\",\"Space/UFO/Cyber Saucer TRU 50 Years Forever Fun Bundle\",\"Space/UFO/Cyborg Scout\",\"Space/Space/D2C Minifigure Retro Set 2014\",\"Space/Ice Planet 2002/Deep Freeze Defender\",\"Space/Life On Mars/Double Hover\",\"Space/Life On Mars/Double Hover (Kabaya Promotional)\",\"Space/Exploriens/Droid Scout\",\"Space/Mars Mission/ETX Alien Infiltrator\",\"Space/Mars Mission/ETX Alien Mothership Assault\",\"Space/Mars Mission/ETX Alien Strike\",\"Space/Alien Conquest/Earth Defense HQ\",\"Space/Life On Mars/Excavation Searcher\",\"Space/Exploriens/Explorien Starship\",\"Space/Classic Space/FX Star Patroller\",\"Space/UFO/Flyer\",\"Space/Space Police III/Freeze Ray Frenzy\",\"Space/Space Police II/Galactic Chief\",\"Space/Space Police III/Galactic Enforcer\",\"Space/Space Police II/Galactic Mediator\",\"Space/Space Police I/Galactic Peace Keeper\",\"Space/Blacktron II/Galactic Scout\",\"Space/Galaxy Squad/Galactic Titan\",\"Space/Classic Space/Galaxy Commander\",\"Space/Classic Space/Galaxy Explorer\",\"Space/Classic Space/Galaxy Trekkor\",\"Space/Classic Space/Gamma V Laser Craft\",\"Space/Space Police III/Gold Heist\",\"Space/Blacktron II/Grid Trekkor\",\"Space/Life On Mars/Guard\",\"Space/Galaxy Squad/Hive Crawler\",\"Space/Insectoids/Hornet Scout\",\"Space/Futuron/Hovercraft\",\"Space/Exploriens/Hovertron\",\"Space/Space Police III/Hyperspeed Pursuit\",\"Space/Ice Planet 2002/Ice Planet Co-Pack of 6814 6879 and 6898\",\"Space/Ice Planet 2002/Ice Planet Satellite Plough\",\"Space/Ice Planet 2002/Ice Planet Scooter\",\"Space/Ice Planet 2002/Ice Station Odyssey\",\"Space/Ice Planet 2002/Ice Tunnelator\",\"Space/Ice Planet 2002/Ice-Sat V\",\"Space/Insectoids/Insectoids 4-Pack\",\"Space/Insectoids/Insectoids Combi Set (Woolworth's UK promo)\",\"Space/Classic Space/Inter-Galactic Command Base\",\"Space/Futuron/Interplanetary Rover\",\"Space/Classic Space/Interplanetary Shuttle\",\"Space/UFO/Interstellar Starfighter\",\"Space/Space/Introducing Crater Critters\",\"Space/Blacktron I/Invader\",\"Space/Life On Mars/Jet Scooter\",\"Space/Alien Conquest/Jet-Copter Encounter\",\"Space/Space Police III/K-9 Bot\",\"Space/Futuron/Laser Ranger\",\"Space/Life On Mars/Life on Mars 4-Pack\",\"Space/Life On Mars/Life on Mars Kit\",\"Space/Insectoids/Light Flyer\",\"Space/Spyrius/Lunar Launch Site\",\"Space/Space Police III/Lunar Limo\",\"Space/Futuron/Lunar MPV Vehicle\",\"Space/Classic Space/Lunar Rocket Launcher\",\"Space/Classic Space/Lunar Scout\",\"Space/Futuron/Lunar Transporter Patroller\",\"Space/Mars Mission/MB-01 Eagle Command Base\",\"Space/Mars Mission/MT-101 Armored Drilling Unit\",\"Space/Mars Mission/MT-201 Ultra-Drill Walker\",\"Space/Mars Mission/MT-21 Mobile Mining Unit\",\"Space/Mars Mission/MT-31 Trike\",\"Space/Mars Mission/MT-51 Claw-Tank Ambush\",\"Space/Mars Mission/MT-61 Crystal Reaper\",\"Space/Mars Mission/MX-11 Astro Fighter\",\"Space/Mars Mission/MX-41 Switch Fighter\",\"Space/Mars Mission/MX-71 Recon Dropship\",\"Space/Mars Mission/MX-81 Hypersonic Operations Aircraft\",\"Space/Mars Mission/Mars Mission Collection\",\"Space/Space Police III/Max Security Transport\",\"Space/M:Tron/Mega Core Magnetizer\",\"Space/Insectoids/Mega Tack\",\"Space/Space Police I/Message Decoder\",\"Space/Blacktron I/Message Intercept Base\",\"Space/Blacktron I/Meteor Monitor\",\"Space/Space/Micro-Scale Space Cruiser\",\"Space/Classic Space/Mineral Detector\",\"Space/Galaxy Squad/Mini Mech\",\"Space/Mars Mission/Mini Robot\",\"Space/Space Police II/Mini Robot\",\"Space/Supplemental/Minifig Pack\",\"Space/Space Police I/Mission Commander\",\"Space/Life On Mars/Mizar\",\"Space/Classic Space/Mobile Command Trailer\",\"Space/Classic Space/Mobile Ground Tracking Station\",\"Space/Classic Space/Mobile Lab\",\"Space/Classic Space/Mobile Recovery Vehicle\",\"Space/Classic Space/Mobile Rocket Launcher\",\"Space/Classic Space/Mobile Rocket Transport\",\"Space/M:Tron/Mobile Satellite Up-Link\",\"Space/Classic Space/Modular Space Transport\",\"Space/Life On Mars/Mono Jet\",\"Space/Futuron/Monorail Accessory Track\",\"Space/Unitron/Monorail Transport Base\",\"Space/Futuron/Monorail Transport System\",\"Space/Classic Space/Moon Buggy\",\"Space/Classic Space/Moon Rover\",\"Space/Insectoids/Mosquito\",\"Space/Exploriens/Nebula Outpost\",\"Space/Futuron/Orion II Hyperspace\",\"Space/M:Tron/Particle Ionizer\",\"Space/Exploriens/Planetary Decoder\",\"Space/Insectoids/Planetary Prowler\",\"Space/Classic Space/Polaris I Space Lab\",\"Space/M:Tron/Pulsar Charger\",\"Space/Classic Space/Radar Truck\",\"Space/UFO/Radon Rover\",\"Space/Space Police III/Raid VPR\",\"Space/Space Police II/Rebel Hunter\",\"Space/Spyrius/Recon Robot\",\"Space/Life On Mars/Recon-Mech RP\",\"Space/Life On Mars/Red Planet Cruiser\",\"Space/Life On Mars/Red Planet Protector\",\"Space/Blacktron I/Renegade\",\"Space/RoboForce/Robo Master\",\"Space/RoboForce/Robo Raider\",\"Space/RoboForce/Robo Raptor\",\"Space/RoboForce/Robo Stalker\",\"Space/Spyrius/Robo-Guardian\",\"Space/Classic Space/Robot Command Center\",\"Space/Life On Mars/Rover\",\"Space/Space Police III/SP Undercover Cruiser\",\"Space/Space Police I/SP-Striker\",\"Space/Space/Sandy Moondust Mars Rover Mission Astrobot Female\",\"Space/Classic Space/Satellite Patroller\",\"Space/Futuron/Saturn Base Main Team (Crater Crawler)\",\"Space/Spyrius/Saucer Centurion\",\"Space/Spyrius/Saucer Scout\",\"Space/Classic Space/Scooter\",\"Space/Exploriens/Scorpion Detector\",\"Space/Blacktron II/Scout Patrol Ship\",\"Space/M:Tron/Secret Space Voyager\",\"Space/Classic Space/Seismologic Vehicle (Sismobile)\",\"Space/Classic Space/Shovel Buggy\",\"Space/Classic Space/Shuttle Craft\",\"Space/Space Police III/Smash 'n' Grab\",\"Space/Life On Mars/Solar Explorer\",\"Space/Classic Space/Solar Power Transporter\",\"Space/Space Police II/Solar Snooper\",\"Space/Space Police II/Sonar Security\",\"Space/Classic Space/Sonar Transmitting Cruiser\",\"Space/Classic Space/Sonic Robot\",\"Space/Insectoids/Sonic Stinger\",\"Space/Insectoids/Sonic Stinger with Promotional Mask\",\"Space/Classic Space/Space Buggy\",\"Space/Futuron/Space Combi-Pack\",\"Space/Classic Space/Space Command Center (Craterplate version)\",\"Space/Classic Space/Space Command Center (Flatplate version)\",\"Space/Classic Space/Space Cruiser\",\"Space/Classic Space/Space Dart I\",\"Space/Classic Space/Space Digger\",\"Space/Classic Space/Space Dozer\",\"Space/Supplemental/Space Explorers\",\"Space/Classic Space/Space Express\",\"Space/UFO/Space Hover\",\"Space/Galaxy Squad/Space Insectoid\",\"Space/Spyrius/Space Jet\",\"Space/Supplemental/Space Landing Pads\",\"Space/Space Police I/Space Lock-Up Isolation Base\",\"Space/Supplemental/Space Mini-Figs\",\"Space/Supplemental/Space Mini-Figures\",\"Space/Classic Space/Space Patrol\",\"Space/Futuron/Space Patroller\",\"Space/UFO/Space Plane\",\"Space/Space Police II/Space Police Car\",\"Space/Space Police III/Space Police Central\",\"Space/Space Police III/Space Police Collection\",\"Space/Classic Space/Space Probe\",\"Space/Classic Space/Space Probe Launcher\",\"Space/Classic Space/Space Radar Buggy\",\"Space/Classic Space/Space Scooter\",\"Space/Classic Space/Space Shuttle\",\"Space/Classic Space/Space Sledge with Astronaut and Robot\",\"Space/Space Police III/Space Speeder\",\"Space/Insectoids/Space Spider\",\"Space/Unitron/Space Station Zenon\",\"Space/Classic Space/Space Supply Station\",\"Space/Galaxy Squad/Space Swarmer\",\"Space/Classic Space/Space Transport\",\"Space/Space Police III/Space Truck Getaway [Container Heist]\",\"Space/Classic Space/Space Value Pack\",\"Space/UFO/Spacecraft\",\"Space/Blacktron II/Spectral Starguider\",\"Space/Classic Space/Spy-Bot\",\"Space/Space Police I/Spy-Trak 1\",\"Space/Spyrius/Spyrius Fold-Wing Spacecraft\",\"Space/Space Police III/Squidman Escape\",\"Space/Space Police III/Squidman's Pitstop - Limited Edition\",\"Space/Classic Space/Star Fleet Voyager\",\"Space/Unitron/Star Hawk II\",\"Space/Classic Space/Star Patrol Launcher\",\"Space/Futuron/Star Quest\",\"Space/Galaxy Squad/Star Slicer\",\"Space/Futuron/Stardefender 200\",\"Space/Classic Space/Starfire I\",\"Space/Space Police II/Starion Patrol\",\"Space/M:Tron/Stellar Recon Voyager\",\"Space/Classic Space/Strata Scooter\",\"Space/Futuron/Strategic Pursuer\",\"Space/Space/Strategic Pursuer\",\"Space/Blacktron II/Sub Orbital Guardian\",\"Space/Classic Space/Super Model\",\"Space/Blacktron II/Super Model Building Instruction\",\"Space/Blacktron II/Super Nova II\",\"Space/Classic Space/Surface Explorer\",\"Space/Classic Space/Surface Hopper\",\"Space/Classic Space/Surface Rover\",\"Space/Classic Space/Surface Transport\",\"Space/Spyrius/Surveillance Scooter\",\"Space/Galaxy Squad/Swarm Interceptor\",\"Space/Life On Mars/T3-Trike\",\"Space/Classic Space/Terrestrial Rover\",\"Space/Classic Space/Tri-Star Voyager\",\"Space/Blacktron II/Tri-Wheeled Tyrax\",\"Space/Alien Conquest/Tripod Invader\",\"Space/Classic Space/Twin Starfire\",\"Space/Futuron/Twin-Winged Spoiler\",\"Space/Supplemental/Two Crater Plates\",\"Space/Supplemental/Two Lunar Landing Plates\",\"Space/Classic Space/Two-Man Scooter\",\"Space/Alien Conquest/UFO Abduction\",\"Space/UFO/UFO Action Pack\",\"Space/UFO/UFO Value Pack\",\"Space/Classic Space/Uranium Search Vehicle\",\"Space/UFO/V-Wing Fighter\",\"Space/M:Tron/Vector Detector\",\"Space/Life On Mars/Vega\",\"Space/Galaxy Squad/Vermin Vaporizer\",\"Space/Classic Space/Walking Astro Grappler\",\"Space/Galaxy Squad/Warp Stinger\",\"Space/UFO/Warp Wing Fighter\",\"Space/Life On Mars/Worker Robot\",\"Space/Classic Space/X1 Patrol Craft\",\"Space/Classic Space/XT Starship\",\"Space/Classic Space/XT-5 and Droid\",\"Space/UFO/Xcyber\",\"Space/Classic Space/Xenon X-Craft\",\"Space/Insectoids/Zo Weevil\",\"Space/Alien Conquest\",\"Space/Blacktron I\",\"Space/Blacktron II\",\"Space/Classic Space\",\"Space/Exploriens\",\"Space/Futuron\",\"Space/Galaxy Squad\",\"Space/Ice Planet 2002\",\"Space/Insectoids\",\"Space/Life On Mars\",\"Space/M:Tron\",\"Space/Mars Mission\",\"Space/RoboForce\",\"Space/Space\",\"Space/Space Police I\",\"Space/Space Police II\",\"Space/Space Police III\",\"Space/Spyrius\",\"Space/Supplemental\",\"Space/UFO\",\"Space/Unitron\",\"Space\"],\"labels\":[\"2-Pilot Craft\",\"ADU Jetpack\",\"ADU Walker\",\"Aerial Intruder\",\"Aero Module\",\"Aero Tube Hanger\",\"Alien Avenger\",\"Alien Conquest Battle Pack\",\"Alien Defender\",\"Alien Discovery\",\"Alien Encounter\",\"Alien Fossilizer\",\"Alien Jet\",\"Alien Moon Stalker\",\"Alien Mothership\",\"Alien Striker\",\"Alienator\",\"All-Terrain Vehicle\",\"Allied Avenger\",\"Alpha Centauri Outpost\",\"Alpha-1 Rocket Base\",\"Altair\",\"Android Base\",\"Arachnoid Star Base\",\"Astro Dart\",\"Astro Dasher\",\"Auxiliary Patroller\",\"Battrax\",\"Beacon Tracer\",\"Beta Buzzer\",\"Beta I Command Base\",\"Bi-Wing Blaster\",\"Biff Starling Mars Rover Mission Astrobot Male\",\"Blacktron Super Vehicle (Value 3-Pack)\",\"Blizzard Baron\",\"Booster\",\"Bug Blaster\",\"Bug Obliterator\",\"CLS-89 Eradicator Mech\",\"Celestial Forager\",\"Celestial Sled\",\"Celestial Stinger\",\"Command Centre (Center)\",\"Complete Mars Mission Collection\",\"Cosmic Charger\",\"Cosmic Comet\",\"Cosmic Creeper\",\"Cosmic Cruiser\",\"Cosmic Fleet Voyager\",\"Cosmic Laser Launcher\",\"Crater Crawler\",\"Crater Creeper\",\"Crater Cruiser\",\"Crystal Hawk\",\"Cyber Blaster\",\"Cyber Saucer\",\"Cyber Saucer TRU 50 Years Forever Fun Bundle\",\"Cyborg Scout\",\"D2C Minifigure Retro Set 2014\",\"Deep Freeze Defender\",\"Double Hover\",\"Double Hover (Kabaya Promotional)\",\"Droid Scout\",\"ETX Alien Infiltrator\",\"ETX Alien Mothership Assault\",\"ETX Alien Strike\",\"Earth Defense HQ\",\"Excavation Searcher\",\"Explorien Starship\",\"FX Star Patroller\",\"Flyer\",\"Freeze Ray Frenzy\",\"Galactic Chief\",\"Galactic Enforcer\",\"Galactic Mediator\",\"Galactic Peace Keeper\",\"Galactic Scout\",\"Galactic Titan\",\"Galaxy Commander\",\"Galaxy Explorer\",\"Galaxy Trekkor\",\"Gamma V Laser Craft\",\"Gold Heist\",\"Grid Trekkor\",\"Guard\",\"Hive Crawler\",\"Hornet Scout\",\"Hovercraft\",\"Hovertron\",\"Hyperspeed Pursuit\",\"Ice Planet Co-Pack of 6814 6879 and 6898\",\"Ice Planet Satellite Plough\",\"Ice Planet Scooter\",\"Ice Station Odyssey\",\"Ice Tunnelator\",\"Ice-Sat V\",\"Insectoids 4-Pack\",\"Insectoids Combi Set (Woolworth's UK promo)\",\"Inter-Galactic Command Base\",\"Interplanetary Rover\",\"Interplanetary Shuttle\",\"Interstellar Starfighter\",\"Introducing Crater Critters\",\"Invader\",\"Jet Scooter\",\"Jet-Copter Encounter\",\"K-9 Bot\",\"Laser Ranger\",\"Life on Mars 4-Pack\",\"Life on Mars Kit\",\"Light Flyer\",\"Lunar Launch Site\",\"Lunar Limo\",\"Lunar MPV Vehicle\",\"Lunar Rocket Launcher\",\"Lunar Scout\",\"Lunar Transporter Patroller\",\"MB-01 Eagle Command Base\",\"MT-101 Armored Drilling Unit\",\"MT-201 Ultra-Drill Walker\",\"MT-21 Mobile Mining Unit\",\"MT-31 Trike\",\"MT-51 Claw-Tank Ambush\",\"MT-61 Crystal Reaper\",\"MX-11 Astro Fighter\",\"MX-41 Switch Fighter\",\"MX-71 Recon Dropship\",\"MX-81 Hypersonic Operations Aircraft\",\"Mars Mission Collection\",\"Max Security Transport\",\"Mega Core Magnetizer\",\"Mega Tack\",\"Message Decoder\",\"Message Intercept Base\",\"Meteor Monitor\",\"Micro-Scale Space Cruiser\",\"Mineral Detector\",\"Mini Mech\",\"Mini Robot\",\"Mini Robot\",\"Minifig Pack\",\"Mission Commander\",\"Mizar\",\"Mobile Command Trailer\",\"Mobile Ground Tracking Station\",\"Mobile Lab\",\"Mobile Recovery Vehicle\",\"Mobile Rocket Launcher\",\"Mobile Rocket Transport\",\"Mobile Satellite Up-Link\",\"Modular Space Transport\",\"Mono Jet\",\"Monorail Accessory Track\",\"Monorail Transport Base\",\"Monorail Transport System\",\"Moon Buggy\",\"Moon Rover\",\"Mosquito\",\"Nebula Outpost\",\"Orion II Hyperspace\",\"Particle Ionizer\",\"Planetary Decoder\",\"Planetary Prowler\",\"Polaris I Space Lab\",\"Pulsar Charger\",\"Radar Truck\",\"Radon Rover\",\"Raid VPR\",\"Rebel Hunter\",\"Recon Robot\",\"Recon-Mech RP\",\"Red Planet Cruiser\",\"Red Planet Protector\",\"Renegade\",\"Robo Master\",\"Robo Raider\",\"Robo Raptor\",\"Robo Stalker\",\"Robo-Guardian\",\"Robot Command Center\",\"Rover\",\"SP Undercover Cruiser\",\"SP-Striker\",\"Sandy Moondust Mars Rover Mission Astrobot Female\",\"Satellite Patroller\",\"Saturn Base Main Team (Crater Crawler)\",\"Saucer Centurion\",\"Saucer Scout\",\"Scooter\",\"Scorpion Detector\",\"Scout Patrol Ship\",\"Secret Space Voyager\",\"Seismologic Vehicle (Sismobile)\",\"Shovel Buggy\",\"Shuttle Craft\",\"Smash 'n' Grab\",\"Solar Explorer\",\"Solar Power Transporter\",\"Solar Snooper\",\"Sonar Security\",\"Sonar Transmitting Cruiser\",\"Sonic Robot\",\"Sonic Stinger\",\"Sonic Stinger with Promotional Mask\",\"Space Buggy\",\"Space Combi-Pack\",\"Space Command Center (Craterplate version)\",\"Space Command Center (Flatplate version)\",\"Space Cruiser\",\"Space Dart I\",\"Space Digger\",\"Space Dozer\",\"Space Explorers\",\"Space Express\",\"Space Hover\",\"Space Insectoid\",\"Space Jet\",\"Space Landing Pads\",\"Space Lock-Up Isolation Base\",\"Space Mini-Figs\",\"Space Mini-Figures\",\"Space Patrol\",\"Space Patroller\",\"Space Plane\",\"Space Police Car\",\"Space Police Central\",\"Space Police Collection\",\"Space Probe\",\"Space Probe Launcher\",\"Space Radar Buggy\",\"Space Scooter\",\"Space Shuttle\",\"Space Sledge with Astronaut and Robot\",\"Space Speeder\",\"Space Spider\",\"Space Station Zenon\",\"Space Supply Station\",\"Space Swarmer\",\"Space Transport\",\"Space Truck Getaway [Container Heist]\",\"Space Value Pack\",\"Spacecraft\",\"Spectral Starguider\",\"Spy-Bot\",\"Spy-Trak 1\",\"Spyrius Fold-Wing Spacecraft\",\"Squidman Escape\",\"Squidman's Pitstop - Limited Edition\",\"Star Fleet Voyager\",\"Star Hawk II\",\"Star Patrol Launcher\",\"Star Quest\",\"Star Slicer\",\"Stardefender 200\",\"Starfire I\",\"Starion Patrol\",\"Stellar Recon Voyager\",\"Strata Scooter\",\"Strategic Pursuer\",\"Strategic Pursuer\",\"Sub Orbital Guardian\",\"Super Model\",\"Super Model Building Instruction\",\"Super Nova II\",\"Surface Explorer\",\"Surface Hopper\",\"Surface Rover\",\"Surface Transport\",\"Surveillance Scooter\",\"Swarm Interceptor\",\"T3-Trike\",\"Terrestrial Rover\",\"Tri-Star Voyager\",\"Tri-Wheeled Tyrax\",\"Tripod Invader\",\"Twin Starfire\",\"Twin-Winged Spoiler\",\"Two Crater Plates\",\"Two Lunar Landing Plates\",\"Two-Man Scooter\",\"UFO Abduction\",\"UFO Action Pack\",\"UFO Value Pack\",\"Uranium Search Vehicle\",\"V-Wing Fighter\",\"Vector Detector\",\"Vega\",\"Vermin Vaporizer\",\"Walking Astro Grappler\",\"Warp Stinger\",\"Warp Wing Fighter\",\"Worker Robot\",\"X1 Patrol Craft\",\"XT Starship\",\"XT-5 and Droid\",\"Xcyber\",\"Xenon X-Craft\",\"Zo Weevil\",\"Alien Conquest\",\"Blacktron I\",\"Blacktron II\",\"Classic Space\",\"Exploriens\",\"Futuron\",\"Galaxy Squad\",\"Ice Planet 2002\",\"Insectoids\",\"Life On Mars\",\"M:Tron\",\"Mars Mission\",\"RoboForce\",\"Space\",\"Space Police I\",\"Space Police II\",\"Space Police III\",\"Spyrius\",\"Supplemental\",\"UFO\",\"Unitron\",\"Space\"],\"name\":\"\",\"parents\":[\"Space/Blacktron II\",\"Space/Alien Conquest\",\"Space/Alien Conquest\",\"Space/Blacktron II\",\"Space/Futuron\",\"Space/Life On Mars\",\"Space/UFO\",\"Space/Alien Conquest\",\"Space/Alien Conquest\",\"Space/Life On Mars\",\"Space/Life On Mars\",\"Space/Exploriens\",\"Space/Mars Mission\",\"Space/Classic Space\",\"Space/Alien Conquest\",\"Space/Alien Conquest\",\"Space/Blacktron I\",\"Space/Classic Space\",\"Space/Blacktron II\",\"Space/Blacktron II\",\"Space/Classic Space\",\"Space/Life On Mars\",\"Space/Exploriens\",\"Space/Insectoids\",\"Space/Futuron\",\"Space/Classic Space\",\"Space/Futuron\",\"Space/Blacktron I\",\"Space/M:Tron\",\"Space/Insectoids\",\"Space/Classic Space\",\"Space/Insectoids\",\"Space/Space\",\"Space/Blacktron II\",\"Space/Ice Planet 2002\",\"Space/Insectoids\",\"Space/Insectoids\",\"Space/Galaxy Squad\",\"Space/Galaxy Squad\",\"Space/M:Tron\",\"Space/Ice Planet 2002\",\"Space/Insectoids\",\"Space/Classic Space\",\"Space/Mars Mission\",\"Space/Classic Space\",\"Space/Classic Space\",\"Space/Insectoids\",\"Space/Classic Space\",\"Space/Classic Space\",\"Space/Futuron\",\"Space/Classic Space\",\"Space/Galaxy Squad\",\"Space/Unitron\",\"Space/Mars Mission\",\"Space/UFO\",\"Space/UFO\",\"Space/UFO\",\"Space/UFO\",\"Space/Space\",\"Space/Ice Planet 2002\",\"Space/Life On Mars\",\"Space/Life On Mars\",\"Space/Exploriens\",\"Space/Mars Mission\",\"Space/Mars Mission\",\"Space/Mars Mission\",\"Space/Alien Conquest\",\"Space/Life On Mars\",\"Space/Exploriens\",\"Space/Classic Space\",\"Space/UFO\",\"Space/Space Police III\",\"Space/Space Police II\",\"Space/Space Police III\",\"Space/Space Police II\",\"Space/Space Police I\",\"Space/Blacktron II\",\"Space/Galaxy Squad\",\"Space/Classic Space\",\"Space/Classic Space\",\"Space/Classic Space\",\"Space/Classic Space\",\"Space/Space Police III\",\"Space/Blacktron II\",\"Space/Life On Mars\",\"Space/Galaxy Squad\",\"Space/Insectoids\",\"Space/Futuron\",\"Space/Exploriens\",\"Space/Space Police III\",\"Space/Ice Planet 2002\",\"Space/Ice Planet 2002\",\"Space/Ice Planet 2002\",\"Space/Ice Planet 2002\",\"Space/Ice Planet 2002\",\"Space/Ice Planet 2002\",\"Space/Insectoids\",\"Space/Insectoids\",\"Space/Classic Space\",\"Space/Futuron\",\"Space/Classic Space\",\"Space/UFO\",\"Space/Space\",\"Space/Blacktron I\",\"Space/Life On Mars\",\"Space/Alien Conquest\",\"Space/Space Police III\",\"Space/Futuron\",\"Space/Life On Mars\",\"Space/Life On Mars\",\"Space/Insectoids\",\"Space/Spyrius\",\"Space/Space Police III\",\"Space/Futuron\",\"Space/Classic Space\",\"Space/Classic Space\",\"Space/Futuron\",\"Space/Mars Mission\",\"Space/Mars Mission\",\"Space/Mars Mission\",\"Space/Mars Mission\",\"Space/Mars Mission\",\"Space/Mars Mission\",\"Space/Mars Mission\",\"Space/Mars Mission\",\"Space/Mars Mission\",\"Space/Mars Mission\",\"Space/Mars Mission\",\"Space/Mars Mission\",\"Space/Space Police III\",\"Space/M:Tron\",\"Space/Insectoids\",\"Space/Space Police I\",\"Space/Blacktron I\",\"Space/Blacktron I\",\"Space/Space\",\"Space/Classic Space\",\"Space/Galaxy Squad\",\"Space/Mars Mission\",\"Space/Space Police II\",\"Space/Supplemental\",\"Space/Space Police I\",\"Space/Life On Mars\",\"Space/Classic Space\",\"Space/Classic Space\",\"Space/Classic Space\",\"Space/Classic Space\",\"Space/Classic Space\",\"Space/Classic Space\",\"Space/M:Tron\",\"Space/Classic Space\",\"Space/Life On Mars\",\"Space/Futuron\",\"Space/Unitron\",\"Space/Futuron\",\"Space/Classic Space\",\"Space/Classic Space\",\"Space/Insectoids\",\"Space/Exploriens\",\"Space/Futuron\",\"Space/M:Tron\",\"Space/Exploriens\",\"Space/Insectoids\",\"Space/Classic Space\",\"Space/M:Tron\",\"Space/Classic Space\",\"Space/UFO\",\"Space/Space Police III\",\"Space/Space Police II\",\"Space/Spyrius\",\"Space/Life On Mars\",\"Space/Life On Mars\",\"Space/Life On Mars\",\"Space/Blacktron I\",\"Space/RoboForce\",\"Space/RoboForce\",\"Space/RoboForce\",\"Space/RoboForce\",\"Space/Spyrius\",\"Space/Classic Space\",\"Space/Life On Mars\",\"Space/Space Police III\",\"Space/Space Police I\",\"Space/Space\",\"Space/Classic Space\",\"Space/Futuron\",\"Space/Spyrius\",\"Space/Spyrius\",\"Space/Classic Space\",\"Space/Exploriens\",\"Space/Blacktron II\",\"Space/M:Tron\",\"Space/Classic Space\",\"Space/Classic Space\",\"Space/Classic Space\",\"Space/Space Police III\",\"Space/Life On Mars\",\"Space/Classic Space\",\"Space/Space Police II\",\"Space/Space Police II\",\"Space/Classic Space\",\"Space/Classic Space\",\"Space/Insectoids\",\"Space/Insectoids\",\"Space/Classic Space\",\"Space/Futuron\",\"Space/Classic Space\",\"Space/Classic Space\",\"Space/Classic Space\",\"Space/Classic Space\",\"Space/Classic Space\",\"Space/Classic Space\",\"Space/Supplemental\",\"Space/Classic Space\",\"Space/UFO\",\"Space/Galaxy Squad\",\"Space/Spyrius\",\"Space/Supplemental\",\"Space/Space Police I\",\"Space/Supplemental\",\"Space/Supplemental\",\"Space/Classic Space\",\"Space/Futuron\",\"Space/UFO\",\"Space/Space Police II\",\"Space/Space Police III\",\"Space/Space Police III\",\"Space/Classic Space\",\"Space/Classic Space\",\"Space/Classic Space\",\"Space/Classic Space\",\"Space/Classic Space\",\"Space/Classic Space\",\"Space/Space Police III\",\"Space/Insectoids\",\"Space/Unitron\",\"Space/Classic Space\",\"Space/Galaxy Squad\",\"Space/Classic Space\",\"Space/Space Police III\",\"Space/Classic Space\",\"Space/UFO\",\"Space/Blacktron II\",\"Space/Classic Space\",\"Space/Space Police I\",\"Space/Spyrius\",\"Space/Space Police III\",\"Space/Space Police III\",\"Space/Classic Space\",\"Space/Unitron\",\"Space/Classic Space\",\"Space/Futuron\",\"Space/Galaxy Squad\",\"Space/Futuron\",\"Space/Classic Space\",\"Space/Space Police II\",\"Space/M:Tron\",\"Space/Classic Space\",\"Space/Futuron\",\"Space/Space\",\"Space/Blacktron II\",\"Space/Classic Space\",\"Space/Blacktron II\",\"Space/Blacktron II\",\"Space/Classic Space\",\"Space/Classic Space\",\"Space/Classic Space\",\"Space/Classic Space\",\"Space/Spyrius\",\"Space/Galaxy Squad\",\"Space/Life On Mars\",\"Space/Classic Space\",\"Space/Classic Space\",\"Space/Blacktron II\",\"Space/Alien Conquest\",\"Space/Classic Space\",\"Space/Futuron\",\"Space/Supplemental\",\"Space/Supplemental\",\"Space/Classic Space\",\"Space/Alien Conquest\",\"Space/UFO\",\"Space/UFO\",\"Space/Classic Space\",\"Space/UFO\",\"Space/M:Tron\",\"Space/Life On Mars\",\"Space/Galaxy Squad\",\"Space/Classic Space\",\"Space/Galaxy Squad\",\"Space/UFO\",\"Space/Life On Mars\",\"Space/Classic Space\",\"Space/Classic Space\",\"Space/Classic Space\",\"Space/UFO\",\"Space/Classic Space\",\"Space/Insectoids\",\"Space\",\"Space\",\"Space\",\"Space\",\"Space\",\"Space\",\"Space\",\"Space\",\"Space\",\"Space\",\"Space\",\"Space\",\"Space\",\"Space\",\"Space\",\"Space\",\"Space\",\"Space\",\"Space\",\"Space\",\"Space\",\"\"],\"values\":[1,1,1,1,1,1,1,1,1,1,1,1,1,1,1,1,1,1,1,1,1,1,1,1,1,1,1,1,1,1,1,1,1,1,1,1,1,1,1,1,1,1,1,1,1,1,1,1,1,1,1,1,1,1,1,1,1,1,1,1,1,1,1,1,1,1,1,1,1,1,1,1,1,1,1,1,1,1,1,1,1,1,1,1,1,1,1,1,1,1,1,1,1,1,1,1,1,1,1,1,1,1,1,1,1,1,1,1,1,1,1,1,1,1,1,1,1,1,1,1,1,1,1,1,1,1,1,1,1,1,1,1,1,1,1,1,1,1,1,1,1,1,1,1,1,1,1,1,1,1,1,1,1,1,1,1,1,1,1,1,1,1,1,1,1,1,1,1,1,1,1,1,1,1,1,1,1,1,1,1,1,1,1,1,1,1,1,1,1,1,1,1,1,1,1,1,1,1,1,1,1,1,1,1,1,1,1,1,1,1,1,1,1,1,1,1,1,1,1,1,1,1,1,1,1,1,1,1,1,1,1,1,1,1,1,1,1,1,1,1,1,1,1,1,1,1,1,1,1,1,1,1,1,1,1,1,1,1,1,1,1,1,1,1,1,1,1,1,1,1,1,1,1,1,1,1,1,1,1,1,1,1,1,1,1,1,1,1,1,1,1,1,1,1,1,1,1,1,10,6,13,79,8,19,12,9,18,21,9,19,4,6,6,8,16,8,7,16,4,298],\"type\":\"sunburst\"}],                        {\"template\":{\"data\":{\"candlestick\":[{\"decreasing\":{\"line\":{\"color\":\"#000033\"}},\"increasing\":{\"line\":{\"color\":\"#000032\"}},\"type\":\"candlestick\"}],\"contourcarpet\":[{\"colorscale\":[[0.0,\"#000011\"],[0.1111111111111111,\"#000012\"],[0.2222222222222222,\"#000013\"],[0.3333333333333333,\"#000014\"],[0.4444444444444444,\"#000015\"],[0.5555555555555556,\"#000016\"],[0.6666666666666666,\"#000017\"],[0.7777777777777778,\"#000018\"],[0.8888888888888888,\"#000019\"],[1.0,\"#000020\"]],\"type\":\"contourcarpet\"}],\"contour\":[{\"colorscale\":[[0.0,\"#000011\"],[0.1111111111111111,\"#000012\"],[0.2222222222222222,\"#000013\"],[0.3333333333333333,\"#000014\"],[0.4444444444444444,\"#000015\"],[0.5555555555555556,\"#000016\"],[0.6666666666666666,\"#000017\"],[0.7777777777777778,\"#000018\"],[0.8888888888888888,\"#000019\"],[1.0,\"#000020\"]],\"type\":\"contour\"}],\"heatmap\":[{\"colorscale\":[[0.0,\"#000011\"],[0.1111111111111111,\"#000012\"],[0.2222222222222222,\"#000013\"],[0.3333333333333333,\"#000014\"],[0.4444444444444444,\"#000015\"],[0.5555555555555556,\"#000016\"],[0.6666666666666666,\"#000017\"],[0.7777777777777778,\"#000018\"],[0.8888888888888888,\"#000019\"],[1.0,\"#000020\"]],\"type\":\"heatmap\"}],\"histogram2d\":[{\"colorscale\":[[0.0,\"#000011\"],[0.1111111111111111,\"#000012\"],[0.2222222222222222,\"#000013\"],[0.3333333333333333,\"#000014\"],[0.4444444444444444,\"#000015\"],[0.5555555555555556,\"#000016\"],[0.6666666666666666,\"#000017\"],[0.7777777777777778,\"#000018\"],[0.8888888888888888,\"#000019\"],[1.0,\"#000020\"]],\"type\":\"histogram2d\"}],\"icicle\":[{\"textfont\":{\"color\":\"white\"},\"type\":\"icicle\"}],\"sankey\":[{\"textfont\":{\"color\":\"#000036\"},\"type\":\"sankey\"}],\"scatter\":[{\"marker\":{\"line\":{\"width\":0}},\"type\":\"scatter\"}],\"table\":[{\"cells\":{\"fill\":{\"color\":\"#000038\"},\"font\":{\"color\":\"#000037\"},\"line\":{\"color\":\"#000039\"}},\"header\":{\"fill\":{\"color\":\"#000040\"},\"font\":{\"color\":\"#000036\"},\"line\":{\"color\":\"#000039\"}},\"type\":\"table\"}],\"waterfall\":[{\"connector\":{\"line\":{\"color\":\"#000036\",\"width\":2}},\"decreasing\":{\"marker\":{\"color\":\"#000033\"}},\"increasing\":{\"marker\":{\"color\":\"#000032\"}},\"totals\":{\"marker\":{\"color\":\"#000034\"}},\"type\":\"waterfall\"}]},\"layout\":{\"coloraxis\":{\"colorscale\":[[0.0,\"#000011\"],[0.1111111111111111,\"#000012\"],[0.2222222222222222,\"#000013\"],[0.3333333333333333,\"#000014\"],[0.4444444444444444,\"#000015\"],[0.5555555555555556,\"#000016\"],[0.6666666666666666,\"#000017\"],[0.7777777777777778,\"#000018\"],[0.8888888888888888,\"#000019\"],[1.0,\"#000020\"]]},\"colorscale\":{\"diverging\":[[0.0,\"#000021\"],[0.1,\"#000022\"],[0.2,\"#000023\"],[0.3,\"#000024\"],[0.4,\"#000025\"],[0.5,\"#000026\"],[0.6,\"#000027\"],[0.7,\"#000028\"],[0.8,\"#000029\"],[0.9,\"#000030\"],[1.0,\"#000031\"]],\"sequential\":[[0.0,\"#000011\"],[0.1111111111111111,\"#000012\"],[0.2222222222222222,\"#000013\"],[0.3333333333333333,\"#000014\"],[0.4444444444444444,\"#000015\"],[0.5555555555555556,\"#000016\"],[0.6666666666666666,\"#000017\"],[0.7777777777777778,\"#000018\"],[0.8888888888888888,\"#000019\"],[1.0,\"#000020\"]],\"sequentialminus\":[[0.0,\"#000011\"],[0.1111111111111111,\"#000012\"],[0.2222222222222222,\"#000013\"],[0.3333333333333333,\"#000014\"],[0.4444444444444444,\"#000015\"],[0.5555555555555556,\"#000016\"],[0.6666666666666666,\"#000017\"],[0.7777777777777778,\"#000018\"],[0.8888888888888888,\"#000019\"],[1.0,\"#000020\"]]},\"colorway\":[\"#000001\",\"#000002\",\"#000003\",\"#000004\",\"#000005\",\"#000006\",\"#000007\",\"#000008\",\"#000009\",\"#000010\"]}},\"legend\":{\"tracegroupgap\":0},\"margin\":{\"t\":60},\"sunburstcolorway\":[\"#636EFA\",\"#EF553B\",\"#00CC96\",\"#AB63FA\",\"#FFA15A\",\"#19D3F3\",\"#FF6692\",\"#B6E880\",\"#FF97FF\",\"#FECB52\"],\"height\":900},                        {\"responsive\": true}                    ).then(function(){\n",
              "                            \n",
              "var gd = document.getElementById('ba6e5ffa-fc14-4e4a-b62e-455d1a02f353');\n",
              "var x = new MutationObserver(function (mutations, observer) {{\n",
              "        var display = window.getComputedStyle(gd).display;\n",
              "        if (!display || display === 'none') {{\n",
              "            console.log([gd, 'removed!']);\n",
              "            Plotly.purge(gd);\n",
              "            observer.disconnect();\n",
              "        }}\n",
              "}});\n",
              "\n",
              "// Listen for the removal of the full notebook cells\n",
              "var notebookContainer = gd.closest('#notebook-container');\n",
              "if (notebookContainer) {{\n",
              "    x.observe(notebookContainer, {childList: true});\n",
              "}}\n",
              "\n",
              "// Listen for the clearing of the current output cell\n",
              "var outputEl = gd.closest('.output');\n",
              "if (outputEl) {{\n",
              "    x.observe(outputEl, {childList: true});\n",
              "}}\n",
              "\n",
              "                        })                };                            </script>        </div>\n",
              "</body>\n",
              "</html>"
            ]
          },
          "metadata": {}
        }
      ],
      "source": [
        "#Insert the code here\n",
        "\n",
        "fig = px.sunburst(\n",
        "    df_sunburst,\n",
        "    path=['parent_theme_name','theme_name','set_name'],\n",
        "    values ='nbr',\n",
        "    height=900,\n",
        "    color_discrete_sequence=px.colors.qualitative.Plotly\n",
        ")\n",
        "fig.show()"
      ]
    },
    {
      "cell_type": "markdown",
      "metadata": {
        "id": "4Zdiw1XFfCcu"
      },
      "source": [
        "## 3.2. Table Explorer"
      ]
    },
    {
      "cell_type": "markdown",
      "metadata": {
        "id": "Yr9gvyHzfCcu"
      },
      "source": [
        "As before, let's prepare a table for free exploration.\n",
        "\n",
        "\n",
        "\n",
        "1.   This table will be named `df_table_sets` and include the columns `parent_theme_name`, `theme_name`, `year`, `set_num`, `set_name`, `num_parts`,\n",
        "`part_num`, `part_name`, `part_category_name`, `quantity`, `color_name`, `is_trans` from `df_filtered` . Make sure to drop all duplicates.\n",
        "2.   Filter `df_table_sets` to make sure you only keep the `parent_theme_name` that is equal to `chosen_theme`.\n",
        "\n"
      ]
    },
    {
      "cell_type": "code",
      "execution_count": 33,
      "metadata": {
        "id": "a8wQ1WkyfCcu"
      },
      "outputs": [],
      "source": [
        "#Step 1\n",
        "df_table_sets = df_filtered[['parent_theme_name','theme_name','year','set_num','set_name','num_parts','part_num','part_name','part_category_name','quantity','color_name','is_trans']].drop_duplicates()\n",
        "\n",
        "#Step 2\n",
        "df_table_sets = df_table_sets[df_table_sets.parent_theme_name.isin([chosen_theme])]\n"
      ]
    },
    {
      "cell_type": "markdown",
      "metadata": {
        "id": "ILa_PCZgfCcv"
      },
      "source": [
        "## 3.3. Launching the Theme Explorer Dashboard Page"
      ]
    },
    {
      "cell_type": "markdown",
      "metadata": {
        "id": "isGpzqy-fCcv"
      },
      "source": [
        "Great! Now it's time to run Streamlit and check if this second page is visible and working properly. \n",
        "\n",
        "To do this we need to pay close attention to how Streamlit looks for this information when launching the Dashboard. \n",
        "\n",
        "When calling Streamlit we tell it where to find the starting python file, in our case, `Home.py`. If we want to have multiple pages, we need to create each page in its own separate `.py` file and store them in a folder named `pages` on the same directory where the `Home.py` file is in.\n",
        "\n",
        "The names of the pages on the Dashboards will automatically be fetched from the filename from Streamlit, so use names that will work well on the Dashboard itself! Use `_` or `-` if you want to have multiple words on it.\n",
        "\n",
        "In our case we will create a new file named `01_Theme_Explorer`.\n",
        "\n",
        "As before, follow the emojis to find where your intervention is needed!"
      ]
    },
    {
      "cell_type": "code",
      "execution_count": 34,
      "metadata": {
        "id": "RCUbtKG-fCcv"
      },
      "outputs": [],
      "source": [
        "#This line will create a new folder named pages\n",
        "!mkdir pages"
      ]
    },
    {
      "cell_type": "code",
      "execution_count": 35,
      "metadata": {
        "id": "PDBF4NdBfCcv",
        "colab": {
          "base_uri": "https://localhost:8080/"
        },
        "outputId": "8342caf9-adaf-46fc-d79f-3e43b489b119"
      },
      "outputs": [
        {
          "output_type": "stream",
          "name": "stdout",
          "text": [
            "Writing pages/01_Theme_Explorer.py\n"
          ]
        }
      ],
      "source": [
        "%%writefile pages/01_Theme_Explorer.py\n",
        "import streamlit as st\n",
        "import numpy as np\n",
        "import pandas as pd\n",
        "import plotly.express as px\n",
        "import plotly.graph_objects as go\n",
        "from plotly.express.colors import sample_colorscale\n",
        "from datetime import datetime, timedelta\n",
        "from PIL import Image\n",
        "\n",
        "def do_stuff_on_page_load():\n",
        "    st.set_page_config(layout=\"wide\")\n",
        "\n",
        "do_stuff_on_page_load()\n",
        "\n",
        "st.header('Theme Explorer', anchor=None)\n",
        "\n",
        "#Set Sidebar Elements\n",
        "with st.sidebar:\n",
        "    st.header('Filters', anchor=None)\n",
        "    values = st.slider(\n",
        "        'Select the Start and End Years',\n",
        "        1950, 2017, (1950, 2017))\n",
        "    st.write('Date Range: '+str(values[0])+'-01-01 to '+str(values[1])+'-01-01')\n",
        "\n",
        "#Import Data\n",
        "df = st.session_state['df']\n",
        "df_filtered = df[(df.year >= values[0]) & (df.year <= values[1])]\n",
        "df_sets_to_theme = df_filtered[['year','parent_theme_name','theme_name','set_name','num_parts']].drop_duplicates()\n",
        "\n",
        "\n",
        "#Get Top N Themes\n",
        "#👇 Paste the code to create a slider input widget with possible values between 1 and 20. Set default value to 10 and save the output to a new variable called filt_n_themes\n",
        "#👇 You can find the documentation here - https://docs.streamlit.io/library/api-reference/widgets/st.slider\n",
        "filt_n_themes = st.slider(\"Number of Top themes\", 1, 20, 10) \n",
        "\n",
        "\n",
        "#Explore the Themes to Sets relationship\n",
        "#👇 Create an expander container widget with title \"Theme Explorer Sunburst\". Remember that everything contained on the container must be idented\n",
        "with st.expander(f\"Theme Explorer Sunburst\",expanded=True):\n",
        "\n",
        "    #👇 Create spinner that displays \"Loading...\" while running. Remember that everything contained on the spinner must be idented\n",
        "    with st.spinner(text=\"Loading...\"): #Replace the ... by the spinner method\n",
        "        #👇 Paste the code created in activity 3.1 to produce a list of parent themes\n",
        "        list_parent_themes = df_sets_to_theme.groupby('parent_theme_name').nunique('set_name').sort_values('set_name',ascending=False).reset_index()\n",
        "        list_parent_themes = list_parent_themes.parent_theme_name.tolist()[:filt_n_themes]\n",
        "        \n",
        "        #👇 Create a select box widget to gather from the user what Parent Theme is to be output. Pass the following label 'What theme do you want to explore?' as well as the list_parent_themes\n",
        "        # Save the user selected option to a chosen_theme variable\n",
        "        #https://docs.streamlit.io/library/api-reference/widgets/st.selectbox\n",
        "        option = st.selectbox('What theme do you want to explore?',list_parent_themes)\n",
        "        st.write('You selected:', option)\n",
        "\n",
        "        #👇 Paste the code created in activity 3.1 to produce the df_sunburst DataFrame\n",
        "        df_sunburst = df_filtered[['parent_theme_name','theme_name','set_name']].drop_duplicates()\n",
        "        df_sunburst['nbr'] = 1\n",
        "        df_sunburst = df_sunburst.loc[df_sunburst.parent_theme_name.isin([option])].dropna()\n",
        "        #👇 Paste the code created in activity 3.1 to create the visualization of the df_sunburst DataFrame\n",
        "        fig = px.sunburst(\n",
        "          df_sunburst,\n",
        "          path=['parent_theme_name','theme_name','set_name'],\n",
        "          values ='nbr',\n",
        "          height=900,\n",
        "          color_discrete_sequence=px.colors.qualitative.Plotly\n",
        "        )\n",
        "\n",
        "        #👇 Use a plotly widget from Streamlit to visualize the fig_sunburst plot. Pass the parameter use_container_width =True to ensure the visualization expands to the container width.\n",
        "        st.plotly_chart(fig,use_container_width=True)\n",
        "\n",
        "\n",
        "#Table Explorer\n",
        "#👇 Create an expander container widget with title \"Theme Explorer Table\". Remember that everything contained on the container must be idented\n",
        "with st.expander(f\"Theme Explorer Table\",expanded=True):\n",
        "\n",
        "    #👇 Create spinner that displays \"Loading...\" while running.  Remember that everything contained on the spinner must be idented\n",
        "    with st.spinner(text=\"Loading...\"):\n",
        "\n",
        "        #👇 Paste the code created in activity 3.2 to produce a DataFrame with details 'parent_theme_name','theme_name',\n",
        "        #                                                                              'year','set_num',\n",
        "        #                                                                              'set_name','num_parts',\n",
        "        #                                                                              'part_num','part_name',\n",
        "        #                                                                              'part_category_name','quantity',\n",
        "        #                                                                              'color_name','is_trans'\n",
        "\n",
        "        df_table_sets = df_filtered[['parent_theme_name','theme_name','year','set_num','set_name','num_parts','part_num','part_name','part_category_name','quantity','color_name','is_trans']].drop_duplicates()\n",
        "        df_table_sets = df_table_sets[df_table_sets.parent_theme_name.isin([option])]\n",
        "\n",
        "\n",
        "        #👇 Use a plotly widget from Streamlit to output an interactive table with df_table_sets. Pass the parameter use_container_width =True to ensure the visualization expands to the container width.\n",
        "        st.dataframe(data=df_table_sets, use_container_width =True)"
      ]
    },
    {
      "cell_type": "markdown",
      "metadata": {
        "id": "oJv93PFQfCcw"
      },
      "source": [
        "Now, launch the Dashboard again! Do you see the page? Is it working as intended?"
      ]
    },
    {
      "cell_type": "code",
      "source": [
        "!curl ipv4.icanhazip.com"
      ],
      "metadata": {
        "colab": {
          "base_uri": "https://localhost:8080/"
        },
        "id": "KcyopQDNzmxy",
        "outputId": "9943ab84-7696-4ccb-c424-a362a9c0263b"
      },
      "execution_count": null,
      "outputs": [
        {
          "output_type": "stream",
          "name": "stdout",
          "text": [
            "35.245.207.209\n"
          ]
        }
      ]
    },
    {
      "cell_type": "code",
      "execution_count": null,
      "metadata": {
        "id": "534nnDLJfCcw",
        "colab": {
          "base_uri": "https://localhost:8080/"
        },
        "outputId": "11519f8d-d46e-4dc6-a123-8d0ef523190d"
      },
      "outputs": [
        {
          "output_type": "stream",
          "name": "stdout",
          "text": [
            "\u001b[K\u001b[?25hnpx: installed 22 in 2.01s\n",
            "your url is: https://better-rockets-ask.loca.lt\n",
            "^C\n"
          ]
        }
      ],
      "source": [
        "#Run the Home.py and create a logs.txt file with logging\n",
        "!streamlit run /content/Home.py &>/content/logs.txt &\n",
        "#Expose the app on port 8501\n",
        "!npx localtunnel --port 8501\n",
        "#This will produce a URL that you can use to reach the Dashboard"
      ]
    },
    {
      "cell_type": "markdown",
      "metadata": {
        "id": "ylaexS8MrGw3"
      },
      "source": [
        "It worked well!"
      ]
    },
    {
      "cell_type": "markdown",
      "metadata": {
        "id": "P9udcoqffCcw"
      },
      "source": [
        "# 4. Forecasts Served to Go"
      ]
    },
    {
      "cell_type": "markdown",
      "metadata": {
        "id": "QUT2Z2arzfJF"
      },
      "source": [
        "## The ARIMA Flow"
      ]
    },
    {
      "cell_type": "markdown",
      "metadata": {
        "id": "XggKWYcprbBN"
      },
      "source": [
        "A Dashboard can be used for more than displaying graphs. We can also do things like run ML models and present forecasts! Let's put this to practice by training and using an ARIMA model.\n",
        "\n",
        "The goal in this mission is not to train an awesome ARIMA again so the code that relates to that is already supplied for you. Your attention will be mostly devoted to ensuring you can send the graph with the ARIMA model and a message to a Discord Channel via a Webhook!"
      ]
    },
    {
      "cell_type": "code",
      "execution_count": 36,
      "metadata": {
        "id": "RyYYrqRDcBPu"
      },
      "outputs": [],
      "source": [
        "# A Function to create an ACF or PACF plots\n",
        "def create_corr_plot(series, plot_pacf=False):\n",
        "    corr_array = pacf(series.dropna(), alpha=0.05) if plot_pacf else acf(series.dropna(), alpha=0.05)\n",
        "    lower_y = corr_array[1][:,0] - corr_array[0]\n",
        "    upper_y = corr_array[1][:,1] - corr_array[0]\n",
        "\n",
        "    fig = go.Figure()\n",
        "    for i in range(len(corr_array[0])):\n",
        "        fig.add_scatter(x=(i,i), y=(0,corr_array[0][i]), mode='lines',line_color='#3f3f3f')\n",
        "    fig.add_scatter(x=np.arange(len(corr_array[0])), y=corr_array[0], mode='markers', marker_color='#1f77b4',\n",
        "                marker_size=12)\n",
        "    fig.add_scatter(x=np.arange(len(corr_array[0])), y=upper_y, mode='lines', line_color='rgba(255,255,255,0)')\n",
        "    fig.add_scatter(x=np.arange(len(corr_array[0])), y=lower_y, mode='lines',fillcolor='rgba(32, 146, 230,0.3)',\n",
        "            fill='tonexty', line_color='rgba(255,255,255,0)')\n",
        "    fig.update_traces(showlegend=False)\n",
        "    fig.update_xaxes(range=[-1,15])\n",
        "    fig.update_yaxes(zerolinecolor='#000000')\n",
        "    \n",
        "    title='Partial Autocorrelation (PACF)' if plot_pacf else 'Autocorrelation (ACF)'\n",
        "    fig.update_layout(title=title)\n",
        "    return fig"
      ]
    },
    {
      "cell_type": "markdown",
      "metadata": {
        "id": "lYIid2zV1jqF"
      },
      "source": [
        "The ARIMA model will now be trained. It will be trying to forecast the `nbr_sets` that are launched every `year`.\n"
      ]
    },
    {
      "cell_type": "code",
      "execution_count": 37,
      "metadata": {
        "id": "mnv0F1bWcRE1",
        "colab": {
          "base_uri": "https://localhost:8080/",
          "height": 741
        },
        "outputId": "f4b843e9-32e6-48c5-e66a-c16769c181b8"
      },
      "outputs": [
        {
          "output_type": "stream",
          "name": "stdout",
          "text": [
            "ADF Statistic: -8.72839233938681\n",
            "p-value: 3.241386694569096e-14\n"
          ]
        },
        {
          "output_type": "stream",
          "name": "stderr",
          "text": [
            "<ipython-input-37-b09e0e299bf1>:13: SettingWithCopyWarning:\n",
            "\n",
            "\n",
            "A value is trying to be set on a copy of a slice from a DataFrame.\n",
            "Try using .loc[row_indexer,col_indexer] = value instead\n",
            "\n",
            "See the caveats in the documentation: https://pandas.pydata.org/pandas-docs/stable/user_guide/indexing.html#returning-a-view-versus-a-copy\n",
            "\n"
          ]
        },
        {
          "output_type": "display_data",
          "data": {
            "text/html": [
              "<html>\n",
              "<head><meta charset=\"utf-8\" /></head>\n",
              "<body>\n",
              "    <div>            <script src=\"https://cdnjs.cloudflare.com/ajax/libs/mathjax/2.7.5/MathJax.js?config=TeX-AMS-MML_SVG\"></script><script type=\"text/javascript\">if (window.MathJax && window.MathJax.Hub && window.MathJax.Hub.Config) {window.MathJax.Hub.Config({SVG: {font: \"STIX-Web\"}});}</script>                <script type=\"text/javascript\">window.PlotlyConfig = {MathJaxConfig: 'local'};</script>\n",
              "        <script src=\"https://cdn.plot.ly/plotly-2.18.2.min.js\"></script>                <div id=\"837d9a26-8a2a-4a7e-8bfa-bfdae3ccfbe6\" class=\"plotly-graph-div\" style=\"height:525px; width:100%;\"></div>            <script type=\"text/javascript\">                                    window.PLOTLYENV=window.PLOTLYENV || {};                                    if (document.getElementById(\"837d9a26-8a2a-4a7e-8bfa-bfdae3ccfbe6\")) {                    Plotly.newPlot(                        \"837d9a26-8a2a-4a7e-8bfa-bfdae3ccfbe6\",                        [{\"hovertemplate\":\"year=%{x}<br>nbr_sets_diff=%{y}<extra></extra>\",\"legendgroup\":\"\",\"line\":{\"color\":\"#636EFA\",\"dash\":\"solid\"},\"marker\":{\"symbol\":\"circle\"},\"mode\":\"lines\",\"name\":\"\",\"orientation\":\"v\",\"showlegend\":false,\"x\":[1950.0,null,null,1953.0,1954.0,1955.0,1956.0,1957.0,1958.0,1959.0,1960.0,1961.0,1962.0,1963.0,1964.0,1965.0,1966.0,1967.0,1968.0,1969.0,1970.0,1971.0,1972.0,1973.0,1974.0,1975.0,1976.0,1977.0,1978.0,1979.0,1980.0,1981.0,1982.0,1983.0,1984.0,1985.0,1986.0,1987.0,1988.0,1989.0,1990.0,1991.0,1992.0,1993.0,1994.0,1995.0,1996.0,1997.0,1998.0,1999.0,2000.0,2001.0,2002.0,2003.0,2004.0,2005.0,2006.0,2007.0,2008.0,2009.0,2010.0,2011.0,2012.0],\"xaxis\":\"x\",\"y\":[null,-7.0,0.0,4.0,10.0,14.0,-16.0,9.0,21.0,-38.0,-1.0,14.0,23.0,-22.0,-7.0,-1.0,79.0,-68.0,4.0,44.0,-40.0,16.0,-7.0,29.0,-28.0,-8.0,37.0,24.0,-19.0,9.0,6.0,-9.0,-3.0,-19.0,19.0,63.0,-16.0,86.0,-141.0,47.0,-30.0,22.0,8.0,-4.0,17.0,0.0,16.0,48.0,133.0,-25.0,27.0,12.0,108.0,-32.0,-44.0,-41.0,-47.0,38.0,28.0,53.0,42.0,59.0,112.0],\"yaxis\":\"y\",\"type\":\"scatter\"}],                        {\"template\":{\"data\":{\"candlestick\":[{\"decreasing\":{\"line\":{\"color\":\"#000033\"}},\"increasing\":{\"line\":{\"color\":\"#000032\"}},\"type\":\"candlestick\"}],\"contourcarpet\":[{\"colorscale\":[[0.0,\"#000011\"],[0.1111111111111111,\"#000012\"],[0.2222222222222222,\"#000013\"],[0.3333333333333333,\"#000014\"],[0.4444444444444444,\"#000015\"],[0.5555555555555556,\"#000016\"],[0.6666666666666666,\"#000017\"],[0.7777777777777778,\"#000018\"],[0.8888888888888888,\"#000019\"],[1.0,\"#000020\"]],\"type\":\"contourcarpet\"}],\"contour\":[{\"colorscale\":[[0.0,\"#000011\"],[0.1111111111111111,\"#000012\"],[0.2222222222222222,\"#000013\"],[0.3333333333333333,\"#000014\"],[0.4444444444444444,\"#000015\"],[0.5555555555555556,\"#000016\"],[0.6666666666666666,\"#000017\"],[0.7777777777777778,\"#000018\"],[0.8888888888888888,\"#000019\"],[1.0,\"#000020\"]],\"type\":\"contour\"}],\"heatmap\":[{\"colorscale\":[[0.0,\"#000011\"],[0.1111111111111111,\"#000012\"],[0.2222222222222222,\"#000013\"],[0.3333333333333333,\"#000014\"],[0.4444444444444444,\"#000015\"],[0.5555555555555556,\"#000016\"],[0.6666666666666666,\"#000017\"],[0.7777777777777778,\"#000018\"],[0.8888888888888888,\"#000019\"],[1.0,\"#000020\"]],\"type\":\"heatmap\"}],\"histogram2d\":[{\"colorscale\":[[0.0,\"#000011\"],[0.1111111111111111,\"#000012\"],[0.2222222222222222,\"#000013\"],[0.3333333333333333,\"#000014\"],[0.4444444444444444,\"#000015\"],[0.5555555555555556,\"#000016\"],[0.6666666666666666,\"#000017\"],[0.7777777777777778,\"#000018\"],[0.8888888888888888,\"#000019\"],[1.0,\"#000020\"]],\"type\":\"histogram2d\"}],\"icicle\":[{\"textfont\":{\"color\":\"white\"},\"type\":\"icicle\"}],\"sankey\":[{\"textfont\":{\"color\":\"#000036\"},\"type\":\"sankey\"}],\"scatter\":[{\"marker\":{\"line\":{\"width\":0}},\"type\":\"scatter\"}],\"table\":[{\"cells\":{\"fill\":{\"color\":\"#000038\"},\"font\":{\"color\":\"#000037\"},\"line\":{\"color\":\"#000039\"}},\"header\":{\"fill\":{\"color\":\"#000040\"},\"font\":{\"color\":\"#000036\"},\"line\":{\"color\":\"#000039\"}},\"type\":\"table\"}],\"waterfall\":[{\"connector\":{\"line\":{\"color\":\"#000036\",\"width\":2}},\"decreasing\":{\"marker\":{\"color\":\"#000033\"}},\"increasing\":{\"marker\":{\"color\":\"#000032\"}},\"totals\":{\"marker\":{\"color\":\"#000034\"}},\"type\":\"waterfall\"}]},\"layout\":{\"coloraxis\":{\"colorscale\":[[0.0,\"#000011\"],[0.1111111111111111,\"#000012\"],[0.2222222222222222,\"#000013\"],[0.3333333333333333,\"#000014\"],[0.4444444444444444,\"#000015\"],[0.5555555555555556,\"#000016\"],[0.6666666666666666,\"#000017\"],[0.7777777777777778,\"#000018\"],[0.8888888888888888,\"#000019\"],[1.0,\"#000020\"]]},\"colorscale\":{\"diverging\":[[0.0,\"#000021\"],[0.1,\"#000022\"],[0.2,\"#000023\"],[0.3,\"#000024\"],[0.4,\"#000025\"],[0.5,\"#000026\"],[0.6,\"#000027\"],[0.7,\"#000028\"],[0.8,\"#000029\"],[0.9,\"#000030\"],[1.0,\"#000031\"]],\"sequential\":[[0.0,\"#000011\"],[0.1111111111111111,\"#000012\"],[0.2222222222222222,\"#000013\"],[0.3333333333333333,\"#000014\"],[0.4444444444444444,\"#000015\"],[0.5555555555555556,\"#000016\"],[0.6666666666666666,\"#000017\"],[0.7777777777777778,\"#000018\"],[0.8888888888888888,\"#000019\"],[1.0,\"#000020\"]],\"sequentialminus\":[[0.0,\"#000011\"],[0.1111111111111111,\"#000012\"],[0.2222222222222222,\"#000013\"],[0.3333333333333333,\"#000014\"],[0.4444444444444444,\"#000015\"],[0.5555555555555556,\"#000016\"],[0.6666666666666666,\"#000017\"],[0.7777777777777778,\"#000018\"],[0.8888888888888888,\"#000019\"],[1.0,\"#000020\"]]},\"colorway\":[\"#000001\",\"#000002\",\"#000003\",\"#000004\",\"#000005\",\"#000006\",\"#000007\",\"#000008\",\"#000009\",\"#000010\"]}},\"xaxis\":{\"anchor\":\"y\",\"domain\":[0.0,1.0],\"title\":{\"text\":\"Year\"}},\"yaxis\":{\"anchor\":\"x\",\"domain\":[0.0,1.0],\"title\":{\"text\":\"Differenced Number of Parts per Set\"}},\"legend\":{\"tracegroupgap\":0},\"title\":{\"text\":\"Number of Sets After 1 Order Differencing\"}},                        {\"responsive\": true}                    ).then(function(){\n",
              "                            \n",
              "var gd = document.getElementById('837d9a26-8a2a-4a7e-8bfa-bfdae3ccfbe6');\n",
              "var x = new MutationObserver(function (mutations, observer) {{\n",
              "        var display = window.getComputedStyle(gd).display;\n",
              "        if (!display || display === 'none') {{\n",
              "            console.log([gd, 'removed!']);\n",
              "            Plotly.purge(gd);\n",
              "            observer.disconnect();\n",
              "        }}\n",
              "}});\n",
              "\n",
              "// Listen for the removal of the full notebook cells\n",
              "var notebookContainer = gd.closest('#notebook-container');\n",
              "if (notebookContainer) {{\n",
              "    x.observe(notebookContainer, {childList: true});\n",
              "}}\n",
              "\n",
              "// Listen for the clearing of the current output cell\n",
              "var outputEl = gd.closest('.output');\n",
              "if (outputEl) {{\n",
              "    x.observe(outputEl, {childList: true});\n",
              "}}\n",
              "\n",
              "                        })                };                            </script>        </div>\n",
              "</body>\n",
              "</html>"
            ]
          },
          "metadata": {}
        }
      ],
      "source": [
        "#Prepare Data for Model\n",
        "df_nbr_sets_year = df_filtered[['year','set_num']].drop_duplicates().groupby('year').count().reset_index().rename(columns={'set_num':'nbr_sets'})\n",
        "df_nbr_sets_year['date']= '31-12-'+df_nbr_sets_year.year.astype(int).astype(str)\n",
        "df_nbr_sets_year['date'] = pd.to_datetime(df_nbr_sets_year['date'],dayfirst=True)\n",
        "df_nbr_sets_year = df_nbr_sets_year.set_index('date')\n",
        "df_nbr_sets_year = df_nbr_sets_year.asfreq(freq='Y')\n",
        "df_nbr_sets_year['nbr_sets'] = df_nbr_sets_year.nbr_sets.fillna(0)\n",
        "#Make Train and Test Sets\n",
        "df_train = df_nbr_sets_year.iloc[:-5]\n",
        "df_test = df_nbr_sets_year.iloc[-5:]\n",
        "#Set Order of Differencing\n",
        "order_differencing = 1\n",
        "df_train['nbr_sets_diff'] = df_train.nbr_sets.diff(order_differencing)\n",
        "#Use Augmented Dickey-Fuller test for stationarity check\n",
        "results_adfuller = adfuller(df_train.nbr_sets_diff.dropna())\n",
        "print(f'ADF Statistic: {results_adfuller[0]}')\n",
        "print(f'p-value: {results_adfuller[1]}')\n",
        "\n",
        "#Print the Differenced timeseries\n",
        "fig_diff = px.line(df_train, \n",
        "          x=\"year\", \n",
        "          y=\"nbr_sets_diff\", \n",
        "          title=f'Number of Sets After {order_differencing} Order Differencing',\n",
        "          color_discrete_sequence=px.colors.qualitative.Plotly)\n",
        "fig_diff.update_layout(xaxis_title='Year', yaxis_title='Differenced Number of Parts per Set')\n",
        "fig_diff.show()"
      ]
    },
    {
      "cell_type": "code",
      "execution_count": 38,
      "metadata": {
        "id": "OLER1SVm1cy9"
      },
      "outputs": [],
      "source": [
        "#Code to create the ACF and PACF plots\n",
        "fig_acf = create_corr_plot(df_train['nbr_sets_diff'].dropna(),plot_pacf=False)\n",
        "fig_pacf = create_corr_plot(df_train['nbr_sets_diff'],plot_pacf=True)"
      ]
    },
    {
      "cell_type": "code",
      "execution_count": 39,
      "metadata": {
        "id": "QFau0-bxd_hd",
        "colab": {
          "base_uri": "https://localhost:8080/",
          "height": 542
        },
        "outputId": "13b74953-de72-4da5-a77e-5cba9b7b564e"
      },
      "outputs": [
        {
          "output_type": "display_data",
          "data": {
            "text/html": [
              "<html>\n",
              "<head><meta charset=\"utf-8\" /></head>\n",
              "<body>\n",
              "    <div>            <script src=\"https://cdnjs.cloudflare.com/ajax/libs/mathjax/2.7.5/MathJax.js?config=TeX-AMS-MML_SVG\"></script><script type=\"text/javascript\">if (window.MathJax && window.MathJax.Hub && window.MathJax.Hub.Config) {window.MathJax.Hub.Config({SVG: {font: \"STIX-Web\"}});}</script>                <script type=\"text/javascript\">window.PlotlyConfig = {MathJaxConfig: 'local'};</script>\n",
              "        <script src=\"https://cdn.plot.ly/plotly-2.18.2.min.js\"></script>                <div id=\"4beed9d2-91f6-4a3b-a66f-49b12ca11654\" class=\"plotly-graph-div\" style=\"height:525px; width:100%;\"></div>            <script type=\"text/javascript\">                                    window.PLOTLYENV=window.PLOTLYENV || {};                                    if (document.getElementById(\"4beed9d2-91f6-4a3b-a66f-49b12ca11654\")) {                    Plotly.newPlot(                        \"4beed9d2-91f6-4a3b-a66f-49b12ca11654\",                        [{\"line\":{\"color\":\"#3f3f3f\"},\"mode\":\"lines\",\"x\":[0,0],\"y\":[0,1.0],\"type\":\"scatter\",\"showlegend\":false},{\"line\":{\"color\":\"#3f3f3f\"},\"mode\":\"lines\",\"x\":[1,1],\"y\":[0,-0.15844400115004262],\"type\":\"scatter\",\"showlegend\":false},{\"line\":{\"color\":\"#3f3f3f\"},\"mode\":\"lines\",\"x\":[2,2],\"y\":[0,0.1646190975062736],\"type\":\"scatter\",\"showlegend\":false},{\"line\":{\"color\":\"#3f3f3f\"},\"mode\":\"lines\",\"x\":[3,3],\"y\":[0,-0.10850895281217912],\"type\":\"scatter\",\"showlegend\":false},{\"line\":{\"color\":\"#3f3f3f\"},\"mode\":\"lines\",\"x\":[4,4],\"y\":[0,0.0741501116156672],\"type\":\"scatter\",\"showlegend\":false},{\"line\":{\"color\":\"#3f3f3f\"},\"mode\":\"lines\",\"x\":[5,5],\"y\":[0,0.005822628659225673],\"type\":\"scatter\",\"showlegend\":false},{\"line\":{\"color\":\"#3f3f3f\"},\"mode\":\"lines\",\"x\":[6,6],\"y\":[0,-0.21170777959084555],\"type\":\"scatter\",\"showlegend\":false},{\"line\":{\"color\":\"#3f3f3f\"},\"mode\":\"lines\",\"x\":[7,7],\"y\":[0,-0.021032114488478856],\"type\":\"scatter\",\"showlegend\":false},{\"line\":{\"color\":\"#3f3f3f\"},\"mode\":\"lines\",\"x\":[8,8],\"y\":[0,-0.10032639164946848],\"type\":\"scatter\",\"showlegend\":false},{\"line\":{\"color\":\"#3f3f3f\"},\"mode\":\"lines\",\"x\":[9,9],\"y\":[0,-0.018607798674553633],\"type\":\"scatter\",\"showlegend\":false},{\"line\":{\"color\":\"#3f3f3f\"},\"mode\":\"lines\",\"x\":[10,10],\"y\":[0,-0.035301614742748975],\"type\":\"scatter\",\"showlegend\":false},{\"line\":{\"color\":\"#3f3f3f\"},\"mode\":\"lines\",\"x\":[11,11],\"y\":[0,0.2694617246867091],\"type\":\"scatter\",\"showlegend\":false},{\"line\":{\"color\":\"#3f3f3f\"},\"mode\":\"lines\",\"x\":[12,12],\"y\":[0,-0.07696957529103728],\"type\":\"scatter\",\"showlegend\":false},{\"line\":{\"color\":\"#3f3f3f\"},\"mode\":\"lines\",\"x\":[13,13],\"y\":[0,0.14393306796389033],\"type\":\"scatter\",\"showlegend\":false},{\"line\":{\"color\":\"#3f3f3f\"},\"mode\":\"lines\",\"x\":[14,14],\"y\":[0,0.038641738773225284],\"type\":\"scatter\",\"showlegend\":false},{\"line\":{\"color\":\"#3f3f3f\"},\"mode\":\"lines\",\"x\":[15,15],\"y\":[0,0.08099514581035876],\"type\":\"scatter\",\"showlegend\":false},{\"line\":{\"color\":\"#3f3f3f\"},\"mode\":\"lines\",\"x\":[16,16],\"y\":[0,0.10766911905343662],\"type\":\"scatter\",\"showlegend\":false},{\"line\":{\"color\":\"#3f3f3f\"},\"mode\":\"lines\",\"x\":[17,17],\"y\":[0,-0.07706150662612013],\"type\":\"scatter\",\"showlegend\":false},{\"marker\":{\"color\":\"#1f77b4\",\"size\":12},\"mode\":\"markers\",\"x\":[0,1,2,3,4,5,6,7,8,9,10,11,12,13,14,15,16,17],\"y\":[1.0,-0.15844400115004262,0.1646190975062736,-0.10850895281217912,0.0741501116156672,0.005822628659225673,-0.21170777959084555,-0.021032114488478856,-0.10032639164946848,-0.018607798674553633,-0.035301614742748975,0.2694617246867091,-0.07696957529103728,0.14393306796389033,0.038641738773225284,0.08099514581035876,0.10766911905343662,-0.07706150662612013],\"type\":\"scatter\",\"showlegend\":false},{\"line\":{\"color\":\"rgba(255,255,255,0)\"},\"mode\":\"lines\",\"x\":[0,1,2,3,4,5,6,7,8,9,10,11,12,13,14,15,16,17],\"y\":[0.0,0.24891567495238628,0.2550880505208928,0.2615875064715697,0.26436160515876683,0.2656471140716612,0.2656550214244251,0.2759105274323,0.2760098445112711,0.27826016045216095,0.27833724783575503,0.27861451985399727,0.294319030338906,0.29556356525651367,0.29987496921638773,0.3001833266088007,0.30153434017047287,0.30390705038391586],\"type\":\"scatter\",\"showlegend\":false},{\"fill\":\"tonexty\",\"fillcolor\":\"rgba(32, 146, 230,0.3)\",\"line\":{\"color\":\"rgba(255,255,255,0)\"},\"mode\":\"lines\",\"x\":[0,1,2,3,4,5,6,7,8,9,10,11,12,13,14,15,16,17],\"y\":[0.0,-0.24891567495238628,-0.2550880505208928,-0.2615875064715697,-0.26436160515876683,-0.2656471140716612,-0.2656550214244251,-0.2759105274323,-0.2760098445112711,-0.27826016045216095,-0.27833724783575503,-0.2786145198539973,-0.294319030338906,-0.29556356525651367,-0.29987496921638773,-0.3001833266088007,-0.30153434017047287,-0.30390705038391586],\"type\":\"scatter\",\"showlegend\":false}],                        {\"template\":{\"data\":{\"candlestick\":[{\"decreasing\":{\"line\":{\"color\":\"#000033\"}},\"increasing\":{\"line\":{\"color\":\"#000032\"}},\"type\":\"candlestick\"}],\"contourcarpet\":[{\"colorscale\":[[0.0,\"#000011\"],[0.1111111111111111,\"#000012\"],[0.2222222222222222,\"#000013\"],[0.3333333333333333,\"#000014\"],[0.4444444444444444,\"#000015\"],[0.5555555555555556,\"#000016\"],[0.6666666666666666,\"#000017\"],[0.7777777777777778,\"#000018\"],[0.8888888888888888,\"#000019\"],[1.0,\"#000020\"]],\"type\":\"contourcarpet\"}],\"contour\":[{\"colorscale\":[[0.0,\"#000011\"],[0.1111111111111111,\"#000012\"],[0.2222222222222222,\"#000013\"],[0.3333333333333333,\"#000014\"],[0.4444444444444444,\"#000015\"],[0.5555555555555556,\"#000016\"],[0.6666666666666666,\"#000017\"],[0.7777777777777778,\"#000018\"],[0.8888888888888888,\"#000019\"],[1.0,\"#000020\"]],\"type\":\"contour\"}],\"heatmap\":[{\"colorscale\":[[0.0,\"#000011\"],[0.1111111111111111,\"#000012\"],[0.2222222222222222,\"#000013\"],[0.3333333333333333,\"#000014\"],[0.4444444444444444,\"#000015\"],[0.5555555555555556,\"#000016\"],[0.6666666666666666,\"#000017\"],[0.7777777777777778,\"#000018\"],[0.8888888888888888,\"#000019\"],[1.0,\"#000020\"]],\"type\":\"heatmap\"}],\"histogram2d\":[{\"colorscale\":[[0.0,\"#000011\"],[0.1111111111111111,\"#000012\"],[0.2222222222222222,\"#000013\"],[0.3333333333333333,\"#000014\"],[0.4444444444444444,\"#000015\"],[0.5555555555555556,\"#000016\"],[0.6666666666666666,\"#000017\"],[0.7777777777777778,\"#000018\"],[0.8888888888888888,\"#000019\"],[1.0,\"#000020\"]],\"type\":\"histogram2d\"}],\"icicle\":[{\"textfont\":{\"color\":\"white\"},\"type\":\"icicle\"}],\"sankey\":[{\"textfont\":{\"color\":\"#000036\"},\"type\":\"sankey\"}],\"scatter\":[{\"marker\":{\"line\":{\"width\":0}},\"type\":\"scatter\"}],\"table\":[{\"cells\":{\"fill\":{\"color\":\"#000038\"},\"font\":{\"color\":\"#000037\"},\"line\":{\"color\":\"#000039\"}},\"header\":{\"fill\":{\"color\":\"#000040\"},\"font\":{\"color\":\"#000036\"},\"line\":{\"color\":\"#000039\"}},\"type\":\"table\"}],\"waterfall\":[{\"connector\":{\"line\":{\"color\":\"#000036\",\"width\":2}},\"decreasing\":{\"marker\":{\"color\":\"#000033\"}},\"increasing\":{\"marker\":{\"color\":\"#000032\"}},\"totals\":{\"marker\":{\"color\":\"#000034\"}},\"type\":\"waterfall\"}]},\"layout\":{\"coloraxis\":{\"colorscale\":[[0.0,\"#000011\"],[0.1111111111111111,\"#000012\"],[0.2222222222222222,\"#000013\"],[0.3333333333333333,\"#000014\"],[0.4444444444444444,\"#000015\"],[0.5555555555555556,\"#000016\"],[0.6666666666666666,\"#000017\"],[0.7777777777777778,\"#000018\"],[0.8888888888888888,\"#000019\"],[1.0,\"#000020\"]]},\"colorscale\":{\"diverging\":[[0.0,\"#000021\"],[0.1,\"#000022\"],[0.2,\"#000023\"],[0.3,\"#000024\"],[0.4,\"#000025\"],[0.5,\"#000026\"],[0.6,\"#000027\"],[0.7,\"#000028\"],[0.8,\"#000029\"],[0.9,\"#000030\"],[1.0,\"#000031\"]],\"sequential\":[[0.0,\"#000011\"],[0.1111111111111111,\"#000012\"],[0.2222222222222222,\"#000013\"],[0.3333333333333333,\"#000014\"],[0.4444444444444444,\"#000015\"],[0.5555555555555556,\"#000016\"],[0.6666666666666666,\"#000017\"],[0.7777777777777778,\"#000018\"],[0.8888888888888888,\"#000019\"],[1.0,\"#000020\"]],\"sequentialminus\":[[0.0,\"#000011\"],[0.1111111111111111,\"#000012\"],[0.2222222222222222,\"#000013\"],[0.3333333333333333,\"#000014\"],[0.4444444444444444,\"#000015\"],[0.5555555555555556,\"#000016\"],[0.6666666666666666,\"#000017\"],[0.7777777777777778,\"#000018\"],[0.8888888888888888,\"#000019\"],[1.0,\"#000020\"]]},\"colorway\":[\"#000001\",\"#000002\",\"#000003\",\"#000004\",\"#000005\",\"#000006\",\"#000007\",\"#000008\",\"#000009\",\"#000010\"]}},\"xaxis\":{\"range\":[-1,15]},\"yaxis\":{\"zerolinecolor\":\"#000000\"},\"title\":{\"text\":\"Autocorrelation (ACF)\"}},                        {\"responsive\": true}                    ).then(function(){\n",
              "                            \n",
              "var gd = document.getElementById('4beed9d2-91f6-4a3b-a66f-49b12ca11654');\n",
              "var x = new MutationObserver(function (mutations, observer) {{\n",
              "        var display = window.getComputedStyle(gd).display;\n",
              "        if (!display || display === 'none') {{\n",
              "            console.log([gd, 'removed!']);\n",
              "            Plotly.purge(gd);\n",
              "            observer.disconnect();\n",
              "        }}\n",
              "}});\n",
              "\n",
              "// Listen for the removal of the full notebook cells\n",
              "var notebookContainer = gd.closest('#notebook-container');\n",
              "if (notebookContainer) {{\n",
              "    x.observe(notebookContainer, {childList: true});\n",
              "}}\n",
              "\n",
              "// Listen for the clearing of the current output cell\n",
              "var outputEl = gd.closest('.output');\n",
              "if (outputEl) {{\n",
              "    x.observe(outputEl, {childList: true});\n",
              "}}\n",
              "\n",
              "                        })                };                            </script>        </div>\n",
              "</body>\n",
              "</html>"
            ]
          },
          "metadata": {}
        }
      ],
      "source": [
        "#Plot the ACF\n",
        "fig_acf.show()"
      ]
    },
    {
      "cell_type": "code",
      "execution_count": 40,
      "metadata": {
        "id": "TVoZ37MXeCFs",
        "colab": {
          "base_uri": "https://localhost:8080/",
          "height": 542
        },
        "outputId": "f1595fcd-5c19-44a1-a2dd-b6956b237fcb"
      },
      "outputs": [
        {
          "output_type": "display_data",
          "data": {
            "text/html": [
              "<html>\n",
              "<head><meta charset=\"utf-8\" /></head>\n",
              "<body>\n",
              "    <div>            <script src=\"https://cdnjs.cloudflare.com/ajax/libs/mathjax/2.7.5/MathJax.js?config=TeX-AMS-MML_SVG\"></script><script type=\"text/javascript\">if (window.MathJax && window.MathJax.Hub && window.MathJax.Hub.Config) {window.MathJax.Hub.Config({SVG: {font: \"STIX-Web\"}});}</script>                <script type=\"text/javascript\">window.PlotlyConfig = {MathJaxConfig: 'local'};</script>\n",
              "        <script src=\"https://cdn.plot.ly/plotly-2.18.2.min.js\"></script>                <div id=\"0b33f791-65bf-4b66-b321-46d07ca0d7d9\" class=\"plotly-graph-div\" style=\"height:525px; width:100%;\"></div>            <script type=\"text/javascript\">                                    window.PLOTLYENV=window.PLOTLYENV || {};                                    if (document.getElementById(\"0b33f791-65bf-4b66-b321-46d07ca0d7d9\")) {                    Plotly.newPlot(                        \"0b33f791-65bf-4b66-b321-46d07ca0d7d9\",                        [{\"line\":{\"color\":\"#3f3f3f\"},\"mode\":\"lines\",\"x\":[0,0],\"y\":[0,1.0],\"type\":\"scatter\",\"showlegend\":false},{\"line\":{\"color\":\"#3f3f3f\"},\"mode\":\"lines\",\"x\":[1,1],\"y\":[0,-0.16104144379184665],\"type\":\"scatter\",\"showlegend\":false},{\"line\":{\"color\":\"#3f3f3f\"},\"mode\":\"lines\",\"x\":[2,2],\"y\":[0,0.14801061267013327],\"type\":\"scatter\",\"showlegend\":false},{\"line\":{\"color\":\"#3f3f3f\"},\"mode\":\"lines\",\"x\":[3,3],\"y\":[0,-0.0701680411927991],\"type\":\"scatter\",\"showlegend\":false},{\"line\":{\"color\":\"#3f3f3f\"},\"mode\":\"lines\",\"x\":[4,4],\"y\":[0,0.03160562590748357],\"type\":\"scatter\",\"showlegend\":false},{\"line\":{\"color\":\"#3f3f3f\"},\"mode\":\"lines\",\"x\":[5,5],\"y\":[0,0.05050686245619388],\"type\":\"scatter\",\"showlegend\":false},{\"line\":{\"color\":\"#3f3f3f\"},\"mode\":\"lines\",\"x\":[6,6],\"y\":[0,-0.265814082429632],\"type\":\"scatter\",\"showlegend\":false},{\"line\":{\"color\":\"#3f3f3f\"},\"mode\":\"lines\",\"x\":[7,7],\"y\":[0,-0.09222458042582399],\"type\":\"scatter\",\"showlegend\":false},{\"line\":{\"color\":\"#3f3f3f\"},\"mode\":\"lines\",\"x\":[8,8],\"y\":[0,-0.06041237316573471],\"type\":\"scatter\",\"showlegend\":false},{\"line\":{\"color\":\"#3f3f3f\"},\"mode\":\"lines\",\"x\":[9,9],\"y\":[0,-0.0925167216034209],\"type\":\"scatter\",\"showlegend\":false},{\"line\":{\"color\":\"#3f3f3f\"},\"mode\":\"lines\",\"x\":[10,10],\"y\":[0,-0.008886319061124586],\"type\":\"scatter\",\"showlegend\":false},{\"line\":{\"color\":\"#3f3f3f\"},\"mode\":\"lines\",\"x\":[11,11],\"y\":[0,0.39038867279126616],\"type\":\"scatter\",\"showlegend\":false},{\"line\":{\"color\":\"#3f3f3f\"},\"mode\":\"lines\",\"x\":[12,12],\"y\":[0,-0.07299994926669619],\"type\":\"scatter\",\"showlegend\":false},{\"line\":{\"color\":\"#3f3f3f\"},\"mode\":\"lines\",\"x\":[13,13],\"y\":[0,0.05702011617082462],\"type\":\"scatter\",\"showlegend\":false},{\"line\":{\"color\":\"#3f3f3f\"},\"mode\":\"lines\",\"x\":[14,14],\"y\":[0,0.1897461807932841],\"type\":\"scatter\",\"showlegend\":false},{\"line\":{\"color\":\"#3f3f3f\"},\"mode\":\"lines\",\"x\":[15,15],\"y\":[0,-0.052333570666249114],\"type\":\"scatter\",\"showlegend\":false},{\"line\":{\"color\":\"#3f3f3f\"},\"mode\":\"lines\",\"x\":[16,16],\"y\":[0,0.15875376738518632],\"type\":\"scatter\",\"showlegend\":false},{\"line\":{\"color\":\"#3f3f3f\"},\"mode\":\"lines\",\"x\":[17,17],\"y\":[0,0.1477430863249851],\"type\":\"scatter\",\"showlegend\":false},{\"marker\":{\"color\":\"#1f77b4\",\"size\":12},\"mode\":\"markers\",\"x\":[0,1,2,3,4,5,6,7,8,9,10,11,12,13,14,15,16,17],\"y\":[1.0,-0.16104144379184665,0.14801061267013327,-0.0701680411927991,0.03160562590748357,0.05050686245619388,-0.265814082429632,-0.09222458042582399,-0.06041237316573471,-0.0925167216034209,-0.008886319061124586,0.39038867279126616,-0.07299994926669619,0.05702011617082462,0.1897461807932841,-0.052333570666249114,0.15875376738518632,0.1477430863249851],\"type\":\"scatter\",\"showlegend\":false},{\"line\":{\"color\":\"rgba(255,255,255,0)\"},\"mode\":\"lines\",\"x\":[0,1,2,3,4,5,6,7,8,9,10,11,12,13,14,15,16,17],\"y\":[0.0,0.24891567495238628,0.2489156749523863,0.24891567495238628,0.2489156749523863,0.24891567495238628,0.24891567495238628,0.24891567495238628,0.2489156749523863,0.24891567495238626,0.24891567495238628,0.24891567495238626,0.24891567495238626,0.24891567495238628,0.2489156749523863,0.24891567495238628,0.2489156749523863,0.24891567495238628],\"type\":\"scatter\",\"showlegend\":false},{\"fill\":\"tonexty\",\"fillcolor\":\"rgba(32, 146, 230,0.3)\",\"line\":{\"color\":\"rgba(255,255,255,0)\"},\"mode\":\"lines\",\"x\":[0,1,2,3,4,5,6,7,8,9,10,11,12,13,14,15,16,17],\"y\":[0.0,-0.24891567495238626,-0.24891567495238628,-0.24891567495238628,-0.24891567495238626,-0.24891567495238628,-0.2489156749523863,-0.24891567495238626,-0.24891567495238626,-0.2489156749523863,-0.2489156749523863,-0.24891567495238628,-0.2489156749523863,-0.24891567495238628,-0.24891567495238628,-0.2489156749523863,-0.24891567495238628,-0.24891567495238628],\"type\":\"scatter\",\"showlegend\":false}],                        {\"template\":{\"data\":{\"candlestick\":[{\"decreasing\":{\"line\":{\"color\":\"#000033\"}},\"increasing\":{\"line\":{\"color\":\"#000032\"}},\"type\":\"candlestick\"}],\"contourcarpet\":[{\"colorscale\":[[0.0,\"#000011\"],[0.1111111111111111,\"#000012\"],[0.2222222222222222,\"#000013\"],[0.3333333333333333,\"#000014\"],[0.4444444444444444,\"#000015\"],[0.5555555555555556,\"#000016\"],[0.6666666666666666,\"#000017\"],[0.7777777777777778,\"#000018\"],[0.8888888888888888,\"#000019\"],[1.0,\"#000020\"]],\"type\":\"contourcarpet\"}],\"contour\":[{\"colorscale\":[[0.0,\"#000011\"],[0.1111111111111111,\"#000012\"],[0.2222222222222222,\"#000013\"],[0.3333333333333333,\"#000014\"],[0.4444444444444444,\"#000015\"],[0.5555555555555556,\"#000016\"],[0.6666666666666666,\"#000017\"],[0.7777777777777778,\"#000018\"],[0.8888888888888888,\"#000019\"],[1.0,\"#000020\"]],\"type\":\"contour\"}],\"heatmap\":[{\"colorscale\":[[0.0,\"#000011\"],[0.1111111111111111,\"#000012\"],[0.2222222222222222,\"#000013\"],[0.3333333333333333,\"#000014\"],[0.4444444444444444,\"#000015\"],[0.5555555555555556,\"#000016\"],[0.6666666666666666,\"#000017\"],[0.7777777777777778,\"#000018\"],[0.8888888888888888,\"#000019\"],[1.0,\"#000020\"]],\"type\":\"heatmap\"}],\"histogram2d\":[{\"colorscale\":[[0.0,\"#000011\"],[0.1111111111111111,\"#000012\"],[0.2222222222222222,\"#000013\"],[0.3333333333333333,\"#000014\"],[0.4444444444444444,\"#000015\"],[0.5555555555555556,\"#000016\"],[0.6666666666666666,\"#000017\"],[0.7777777777777778,\"#000018\"],[0.8888888888888888,\"#000019\"],[1.0,\"#000020\"]],\"type\":\"histogram2d\"}],\"icicle\":[{\"textfont\":{\"color\":\"white\"},\"type\":\"icicle\"}],\"sankey\":[{\"textfont\":{\"color\":\"#000036\"},\"type\":\"sankey\"}],\"scatter\":[{\"marker\":{\"line\":{\"width\":0}},\"type\":\"scatter\"}],\"table\":[{\"cells\":{\"fill\":{\"color\":\"#000038\"},\"font\":{\"color\":\"#000037\"},\"line\":{\"color\":\"#000039\"}},\"header\":{\"fill\":{\"color\":\"#000040\"},\"font\":{\"color\":\"#000036\"},\"line\":{\"color\":\"#000039\"}},\"type\":\"table\"}],\"waterfall\":[{\"connector\":{\"line\":{\"color\":\"#000036\",\"width\":2}},\"decreasing\":{\"marker\":{\"color\":\"#000033\"}},\"increasing\":{\"marker\":{\"color\":\"#000032\"}},\"totals\":{\"marker\":{\"color\":\"#000034\"}},\"type\":\"waterfall\"}]},\"layout\":{\"coloraxis\":{\"colorscale\":[[0.0,\"#000011\"],[0.1111111111111111,\"#000012\"],[0.2222222222222222,\"#000013\"],[0.3333333333333333,\"#000014\"],[0.4444444444444444,\"#000015\"],[0.5555555555555556,\"#000016\"],[0.6666666666666666,\"#000017\"],[0.7777777777777778,\"#000018\"],[0.8888888888888888,\"#000019\"],[1.0,\"#000020\"]]},\"colorscale\":{\"diverging\":[[0.0,\"#000021\"],[0.1,\"#000022\"],[0.2,\"#000023\"],[0.3,\"#000024\"],[0.4,\"#000025\"],[0.5,\"#000026\"],[0.6,\"#000027\"],[0.7,\"#000028\"],[0.8,\"#000029\"],[0.9,\"#000030\"],[1.0,\"#000031\"]],\"sequential\":[[0.0,\"#000011\"],[0.1111111111111111,\"#000012\"],[0.2222222222222222,\"#000013\"],[0.3333333333333333,\"#000014\"],[0.4444444444444444,\"#000015\"],[0.5555555555555556,\"#000016\"],[0.6666666666666666,\"#000017\"],[0.7777777777777778,\"#000018\"],[0.8888888888888888,\"#000019\"],[1.0,\"#000020\"]],\"sequentialminus\":[[0.0,\"#000011\"],[0.1111111111111111,\"#000012\"],[0.2222222222222222,\"#000013\"],[0.3333333333333333,\"#000014\"],[0.4444444444444444,\"#000015\"],[0.5555555555555556,\"#000016\"],[0.6666666666666666,\"#000017\"],[0.7777777777777778,\"#000018\"],[0.8888888888888888,\"#000019\"],[1.0,\"#000020\"]]},\"colorway\":[\"#000001\",\"#000002\",\"#000003\",\"#000004\",\"#000005\",\"#000006\",\"#000007\",\"#000008\",\"#000009\",\"#000010\"]}},\"xaxis\":{\"range\":[-1,15]},\"yaxis\":{\"zerolinecolor\":\"#000000\"},\"title\":{\"text\":\"Partial Autocorrelation (PACF)\"}},                        {\"responsive\": true}                    ).then(function(){\n",
              "                            \n",
              "var gd = document.getElementById('0b33f791-65bf-4b66-b321-46d07ca0d7d9');\n",
              "var x = new MutationObserver(function (mutations, observer) {{\n",
              "        var display = window.getComputedStyle(gd).display;\n",
              "        if (!display || display === 'none') {{\n",
              "            console.log([gd, 'removed!']);\n",
              "            Plotly.purge(gd);\n",
              "            observer.disconnect();\n",
              "        }}\n",
              "}});\n",
              "\n",
              "// Listen for the removal of the full notebook cells\n",
              "var notebookContainer = gd.closest('#notebook-container');\n",
              "if (notebookContainer) {{\n",
              "    x.observe(notebookContainer, {childList: true});\n",
              "}}\n",
              "\n",
              "// Listen for the clearing of the current output cell\n",
              "var outputEl = gd.closest('.output');\n",
              "if (outputEl) {{\n",
              "    x.observe(outputEl, {childList: true});\n",
              "}}\n",
              "\n",
              "                        })                };                            </script>        </div>\n",
              "</body>\n",
              "</html>"
            ]
          },
          "metadata": {}
        }
      ],
      "source": [
        "#Plot the PACF\n",
        "fig_pacf.show()"
      ]
    },
    {
      "cell_type": "markdown",
      "metadata": {
        "id": "dmuI6h-J5KwQ"
      },
      "source": [
        "Now that differencing has been applied and the ACF and PACF plots were visualized, the model will be initialized and fitted. Finally a visualization will be made."
      ]
    },
    {
      "cell_type": "code",
      "execution_count": 41,
      "metadata": {
        "id": "QBtRmQJMeIc9",
        "colab": {
          "base_uri": "https://localhost:8080/",
          "height": 562
        },
        "outputId": "0380736b-fef6-4f90-86fa-88dbbda00ec1"
      },
      "outputs": [
        {
          "output_type": "display_data",
          "data": {
            "text/html": [
              "<html>\n",
              "<head><meta charset=\"utf-8\" /></head>\n",
              "<body>\n",
              "    <div>            <script src=\"https://cdnjs.cloudflare.com/ajax/libs/mathjax/2.7.5/MathJax.js?config=TeX-AMS-MML_SVG\"></script><script type=\"text/javascript\">if (window.MathJax && window.MathJax.Hub && window.MathJax.Hub.Config) {window.MathJax.Hub.Config({SVG: {font: \"STIX-Web\"}});}</script>                <script type=\"text/javascript\">window.PlotlyConfig = {MathJaxConfig: 'local'};</script>\n",
              "        <script src=\"https://cdn.plot.ly/plotly-2.18.2.min.js\"></script>                <div id=\"cc8f0d9e-965e-4b02-ba6e-4a61ae589ebd\" class=\"plotly-graph-div\" style=\"height:525px; width:100%;\"></div>            <script type=\"text/javascript\">                                    window.PLOTLYENV=window.PLOTLYENV || {};                                    if (document.getElementById(\"cc8f0d9e-965e-4b02-ba6e-4a61ae589ebd\")) {                    Plotly.newPlot(                        \"cc8f0d9e-965e-4b02-ba6e-4a61ae589ebd\",                        [{\"line\":{\"color\":\"#636EFA\"},\"mode\":\"lines\",\"name\":\"Actual Values\",\"x\":[\"1950-12-31T00:00:00\",\"1951-12-31T00:00:00\",\"1952-12-31T00:00:00\",\"1953-12-31T00:00:00\",\"1954-12-31T00:00:00\",\"1955-12-31T00:00:00\",\"1956-12-31T00:00:00\",\"1957-12-31T00:00:00\",\"1958-12-31T00:00:00\",\"1959-12-31T00:00:00\",\"1960-12-31T00:00:00\",\"1961-12-31T00:00:00\",\"1962-12-31T00:00:00\",\"1963-12-31T00:00:00\",\"1964-12-31T00:00:00\",\"1965-12-31T00:00:00\",\"1966-12-31T00:00:00\",\"1967-12-31T00:00:00\",\"1968-12-31T00:00:00\",\"1969-12-31T00:00:00\",\"1970-12-31T00:00:00\",\"1971-12-31T00:00:00\",\"1972-12-31T00:00:00\",\"1973-12-31T00:00:00\",\"1974-12-31T00:00:00\",\"1975-12-31T00:00:00\",\"1976-12-31T00:00:00\",\"1977-12-31T00:00:00\",\"1978-12-31T00:00:00\",\"1979-12-31T00:00:00\",\"1980-12-31T00:00:00\",\"1981-12-31T00:00:00\",\"1982-12-31T00:00:00\",\"1983-12-31T00:00:00\",\"1984-12-31T00:00:00\",\"1985-12-31T00:00:00\",\"1986-12-31T00:00:00\",\"1987-12-31T00:00:00\",\"1988-12-31T00:00:00\",\"1989-12-31T00:00:00\",\"1990-12-31T00:00:00\",\"1991-12-31T00:00:00\",\"1992-12-31T00:00:00\",\"1993-12-31T00:00:00\",\"1994-12-31T00:00:00\",\"1995-12-31T00:00:00\",\"1996-12-31T00:00:00\",\"1997-12-31T00:00:00\",\"1998-12-31T00:00:00\",\"1999-12-31T00:00:00\",\"2000-12-31T00:00:00\",\"2001-12-31T00:00:00\",\"2002-12-31T00:00:00\",\"2003-12-31T00:00:00\",\"2004-12-31T00:00:00\",\"2005-12-31T00:00:00\",\"2006-12-31T00:00:00\",\"2007-12-31T00:00:00\",\"2008-12-31T00:00:00\",\"2009-12-31T00:00:00\",\"2010-12-31T00:00:00\",\"2011-12-31T00:00:00\",\"2012-12-31T00:00:00\",\"2013-12-31T00:00:00\",\"2014-12-31T00:00:00\",\"2015-12-31T00:00:00\",\"2016-12-31T00:00:00\",\"2017-12-31T00:00:00\"],\"y\":[7.0,0.0,0.0,4.0,14.0,28.0,12.0,21.0,42.0,4.0,3.0,17.0,40.0,18.0,11.0,10.0,89.0,21.0,25.0,69.0,29.0,45.0,38.0,67.0,39.0,31.0,68.0,92.0,73.0,82.0,88.0,79.0,76.0,57.0,76.0,139.0,123.0,209.0,68.0,115.0,85.0,107.0,115.0,111.0,128.0,128.0,144.0,192.0,325.0,300.0,327.0,339.0,447.0,415.0,371.0,330.0,283.0,321.0,349.0,402.0,444.0,503.0,615.0,593.0,713.0,665.0,596.0,296.0],\"type\":\"scatter\"},{\"line\":{\"color\":\"#EF553B\",\"dash\":\"dash\"},\"mode\":\"lines\",\"name\":\"ARIMA Predicted Values\",\"x\":[\"1950-12-31T00:00:00\",\"1951-12-31T00:00:00\",\"1952-12-31T00:00:00\",\"1953-12-31T00:00:00\",\"1954-12-31T00:00:00\",\"1955-12-31T00:00:00\",\"1956-12-31T00:00:00\",\"1957-12-31T00:00:00\",\"1958-12-31T00:00:00\",\"1959-12-31T00:00:00\",\"1960-12-31T00:00:00\",\"1961-12-31T00:00:00\",\"1962-12-31T00:00:00\",\"1963-12-31T00:00:00\",\"1964-12-31T00:00:00\",\"1965-12-31T00:00:00\",\"1966-12-31T00:00:00\",\"1967-12-31T00:00:00\",\"1968-12-31T00:00:00\",\"1969-12-31T00:00:00\",\"1970-12-31T00:00:00\",\"1971-12-31T00:00:00\",\"1972-12-31T00:00:00\",\"1973-12-31T00:00:00\",\"1974-12-31T00:00:00\",\"1975-12-31T00:00:00\",\"1976-12-31T00:00:00\",\"1977-12-31T00:00:00\",\"1978-12-31T00:00:00\",\"1979-12-31T00:00:00\",\"1980-12-31T00:00:00\",\"1981-12-31T00:00:00\",\"1982-12-31T00:00:00\",\"1983-12-31T00:00:00\",\"1984-12-31T00:00:00\",\"1985-12-31T00:00:00\",\"1986-12-31T00:00:00\",\"1987-12-31T00:00:00\",\"1988-12-31T00:00:00\",\"1989-12-31T00:00:00\",\"1990-12-31T00:00:00\",\"1991-12-31T00:00:00\",\"1992-12-31T00:00:00\",\"1993-12-31T00:00:00\",\"1994-12-31T00:00:00\",\"1995-12-31T00:00:00\",\"1996-12-31T00:00:00\",\"1997-12-31T00:00:00\",\"1998-12-31T00:00:00\",\"1999-12-31T00:00:00\",\"2000-12-31T00:00:00\",\"2001-12-31T00:00:00\",\"2002-12-31T00:00:00\",\"2003-12-31T00:00:00\",\"2004-12-31T00:00:00\",\"2005-12-31T00:00:00\",\"2006-12-31T00:00:00\",\"2007-12-31T00:00:00\",\"2008-12-31T00:00:00\",\"2009-12-31T00:00:00\",\"2010-12-31T00:00:00\",\"2011-12-31T00:00:00\",\"2012-12-31T00:00:00\",\"2013-12-31T00:00:00\",\"2014-12-31T00:00:00\",\"2015-12-31T00:00:00\",\"2016-12-31T00:00:00\",\"2017-12-31T00:00:00\"],\"y\":[0.0,6.999999999999998,8.881784197001252e-16,3.520291789548765e-29,4.0,13.999999999999998,28.0,12.000000000000002,21.0,42.0,4.0,3.0,17.0,40.0,17.999999999999996,11.0,10.0,89.0,21.0,25.0,69.0,29.0,45.0,38.0,67.0,39.0,30.999999999999996,68.0,92.0,73.0,82.0,88.0,79.0,76.0,57.0,76.0,139.0,123.00000000000001,209.0,68.0,115.0,85.0,107.0,115.0,111.0,128.0,128.0,144.0,192.0,325.0,300.0,327.0,339.0,447.0,415.0,371.0,330.0,283.0,321.0,349.0,402.0,444.0,503.0,615.0,615.0,615.0,615.0,615.0],\"type\":\"scatter\"}],                        {\"template\":{\"data\":{\"candlestick\":[{\"decreasing\":{\"line\":{\"color\":\"#000033\"}},\"increasing\":{\"line\":{\"color\":\"#000032\"}},\"type\":\"candlestick\"}],\"contourcarpet\":[{\"colorscale\":[[0.0,\"#000011\"],[0.1111111111111111,\"#000012\"],[0.2222222222222222,\"#000013\"],[0.3333333333333333,\"#000014\"],[0.4444444444444444,\"#000015\"],[0.5555555555555556,\"#000016\"],[0.6666666666666666,\"#000017\"],[0.7777777777777778,\"#000018\"],[0.8888888888888888,\"#000019\"],[1.0,\"#000020\"]],\"type\":\"contourcarpet\"}],\"contour\":[{\"colorscale\":[[0.0,\"#000011\"],[0.1111111111111111,\"#000012\"],[0.2222222222222222,\"#000013\"],[0.3333333333333333,\"#000014\"],[0.4444444444444444,\"#000015\"],[0.5555555555555556,\"#000016\"],[0.6666666666666666,\"#000017\"],[0.7777777777777778,\"#000018\"],[0.8888888888888888,\"#000019\"],[1.0,\"#000020\"]],\"type\":\"contour\"}],\"heatmap\":[{\"colorscale\":[[0.0,\"#000011\"],[0.1111111111111111,\"#000012\"],[0.2222222222222222,\"#000013\"],[0.3333333333333333,\"#000014\"],[0.4444444444444444,\"#000015\"],[0.5555555555555556,\"#000016\"],[0.6666666666666666,\"#000017\"],[0.7777777777777778,\"#000018\"],[0.8888888888888888,\"#000019\"],[1.0,\"#000020\"]],\"type\":\"heatmap\"}],\"histogram2d\":[{\"colorscale\":[[0.0,\"#000011\"],[0.1111111111111111,\"#000012\"],[0.2222222222222222,\"#000013\"],[0.3333333333333333,\"#000014\"],[0.4444444444444444,\"#000015\"],[0.5555555555555556,\"#000016\"],[0.6666666666666666,\"#000017\"],[0.7777777777777778,\"#000018\"],[0.8888888888888888,\"#000019\"],[1.0,\"#000020\"]],\"type\":\"histogram2d\"}],\"icicle\":[{\"textfont\":{\"color\":\"white\"},\"type\":\"icicle\"}],\"sankey\":[{\"textfont\":{\"color\":\"#000036\"},\"type\":\"sankey\"}],\"scatter\":[{\"marker\":{\"line\":{\"width\":0}},\"type\":\"scatter\"}],\"table\":[{\"cells\":{\"fill\":{\"color\":\"#000038\"},\"font\":{\"color\":\"#000037\"},\"line\":{\"color\":\"#000039\"}},\"header\":{\"fill\":{\"color\":\"#000040\"},\"font\":{\"color\":\"#000036\"},\"line\":{\"color\":\"#000039\"}},\"type\":\"table\"}],\"waterfall\":[{\"connector\":{\"line\":{\"color\":\"#000036\",\"width\":2}},\"decreasing\":{\"marker\":{\"color\":\"#000033\"}},\"increasing\":{\"marker\":{\"color\":\"#000032\"}},\"totals\":{\"marker\":{\"color\":\"#000034\"}},\"type\":\"waterfall\"}]},\"layout\":{\"coloraxis\":{\"colorscale\":[[0.0,\"#000011\"],[0.1111111111111111,\"#000012\"],[0.2222222222222222,\"#000013\"],[0.3333333333333333,\"#000014\"],[0.4444444444444444,\"#000015\"],[0.5555555555555556,\"#000016\"],[0.6666666666666666,\"#000017\"],[0.7777777777777778,\"#000018\"],[0.8888888888888888,\"#000019\"],[1.0,\"#000020\"]]},\"colorscale\":{\"diverging\":[[0.0,\"#000021\"],[0.1,\"#000022\"],[0.2,\"#000023\"],[0.3,\"#000024\"],[0.4,\"#000025\"],[0.5,\"#000026\"],[0.6,\"#000027\"],[0.7,\"#000028\"],[0.8,\"#000029\"],[0.9,\"#000030\"],[1.0,\"#000031\"]],\"sequential\":[[0.0,\"#000011\"],[0.1111111111111111,\"#000012\"],[0.2222222222222222,\"#000013\"],[0.3333333333333333,\"#000014\"],[0.4444444444444444,\"#000015\"],[0.5555555555555556,\"#000016\"],[0.6666666666666666,\"#000017\"],[0.7777777777777778,\"#000018\"],[0.8888888888888888,\"#000019\"],[1.0,\"#000020\"]],\"sequentialminus\":[[0.0,\"#000011\"],[0.1111111111111111,\"#000012\"],[0.2222222222222222,\"#000013\"],[0.3333333333333333,\"#000014\"],[0.4444444444444444,\"#000015\"],[0.5555555555555556,\"#000016\"],[0.6666666666666666,\"#000017\"],[0.7777777777777778,\"#000018\"],[0.8888888888888888,\"#000019\"],[1.0,\"#000020\"]]},\"colorway\":[\"#000001\",\"#000002\",\"#000003\",\"#000004\",\"#000005\",\"#000006\",\"#000007\",\"#000008\",\"#000009\",\"#000010\"]}},\"title\":{\"text\":\"Number of New Sets per Year and ARIMA Predictions\"},\"xaxis\":{\"title\":{\"text\":\"Year\"}},\"yaxis\":{\"title\":{\"text\":\"Number of New Sets\"}}},                        {\"responsive\": true}                    ).then(function(){\n",
              "                            \n",
              "var gd = document.getElementById('cc8f0d9e-965e-4b02-ba6e-4a61ae589ebd');\n",
              "var x = new MutationObserver(function (mutations, observer) {{\n",
              "        var display = window.getComputedStyle(gd).display;\n",
              "        if (!display || display === 'none') {{\n",
              "            console.log([gd, 'removed!']);\n",
              "            Plotly.purge(gd);\n",
              "            observer.disconnect();\n",
              "        }}\n",
              "}});\n",
              "\n",
              "// Listen for the removal of the full notebook cells\n",
              "var notebookContainer = gd.closest('#notebook-container');\n",
              "if (notebookContainer) {{\n",
              "    x.observe(notebookContainer, {childList: true});\n",
              "}}\n",
              "\n",
              "// Listen for the clearing of the current output cell\n",
              "var outputEl = gd.closest('.output');\n",
              "if (outputEl) {{\n",
              "    x.observe(outputEl, {childList: true});\n",
              "}}\n",
              "\n",
              "                        })                };                            </script>        </div>\n",
              "</body>\n",
              "</html>"
            ]
          },
          "metadata": {}
        },
        {
          "output_type": "stream",
          "name": "stdout",
          "text": [
            "On the test set, for RMSE is 151.47\n"
          ]
        }
      ],
      "source": [
        "#Set Hyperparameters p and q\n",
        "param_p = 0\n",
        "param_q = 0\n",
        "\n",
        "#Initialize and fit your guess for ARIMA hyperparameters\n",
        "arima = ARIMA(df_train.nbr_sets,order=(param_p,order_differencing,param_q))\n",
        "arima_model = arima.fit()\n",
        "\n",
        "#Code for the ARIMA model visualization\n",
        "fig_arima = go.Figure()\n",
        "fig_arima.add_trace(\n",
        "    go.Scatter(\n",
        "        x=df_nbr_sets_year.index, \n",
        "        y=df_nbr_sets_year.nbr_sets,\n",
        "        mode='lines', \n",
        "        line={'color':px.colors.qualitative.Plotly[0]},\n",
        "        name=\"Actual Values\"\n",
        "    ))\n",
        "fig_arima.add_trace(\n",
        "    go.Scatter(\n",
        "        x=df_nbr_sets_year.index, \n",
        "        y=arima_model.predict(start=0,end=67),\n",
        "        mode='lines', \n",
        "        line={'dash': 'dash', 'color': px.colors.qualitative.Plotly[1]},\n",
        "        name=\"ARIMA Predicted Values\"\n",
        "    ))\n",
        "\n",
        "fig_arima.update_layout(title= 'Number of New Sets per Year and ARIMA Predictions', xaxis_title='Year', yaxis_title='Number of New Sets')\n",
        "fig_arima.show()\n",
        "#Print Test Set RMSE\n",
        "preds_arima = arima_model.forecast(5)\n",
        "print(f\"On the test set, for RMSE is {np.sqrt(mean_squared_error(df_test.nbr_sets,preds_arima)):.2f}\")"
      ]
    },
    {
      "cell_type": "markdown",
      "metadata": {
        "id": "2lHSpzw_NW7v"
      },
      "source": [
        "Note something about the ARIMA? What type of simple model is it approximating, given that it has (0,1,0) hyperparameters and considering the output displayed on the graph?"
      ]
    },
    {
      "cell_type": "markdown",
      "metadata": {
        "id": "n_BWASWPfCcy"
      },
      "source": [
        "## 4.1. Saving Plot and sending it to Discord"
      ]
    },
    {
      "cell_type": "markdown",
      "metadata": {
        "id": "BlVOKwARfCcy"
      },
      "source": [
        "In the Dashboard, we want to be able to send the actual number of new sets per year, as well as the ARIMA model's forecasts to a Discord Channel. We will do this via a Webhook!\n",
        "\n",
        "By now you will already have created a Channel for this and obtained the corresponding Discord Webhook URL. Now all that remains is saving the Plotly plot, connecting to the Discord Webhook and send a String as well as the file!\n",
        "\n",
        "To achieve this:\n",
        " \n",
        "1.   Apply the `.write_image` method from `fig_arima` and pass the ´arima_forecast.png´ string to specify the resulting file name;\n",
        "2.   Store the Discord Webhook URL to a variable named `webhook_url`;\n",
        "3.   Connect to the Webook by using `SyncWebhook.from_url` method, passing the `webhook_url` variable. Save the resulting object to a variable named `webhook`;\n",
        "4.   Now use the `.send` method of the `webhook` object to send a string with 'The latest ARIMA forecast is in!';\n",
        "5.   Use the `.send` method of the `webhook` object to send the `fig_arima`. To do so you will need to pass a variable `file=File()` containing the name of the image you saved on point 1.\n",
        "6.   Finally print a string that says 'Forecasts sent!' to confirm the correct execution of these lines of code! Then check the Discord Channel and look for the message and image there.\n",
        "\n"
      ]
    },
    {
      "cell_type": "code",
      "execution_count": 51,
      "metadata": {
        "id": "7MPrdva4fCcz",
        "colab": {
          "base_uri": "https://localhost:8080/"
        },
        "outputId": "bfd03a43-1d4d-4316-cd89-2c9c7b306653"
      },
      "outputs": [
        {
          "output_type": "stream",
          "name": "stdout",
          "text": [
            "Forecast sent!\n"
          ]
        }
      ],
      "source": [
        "#Save the ARIMA image to send to Discord\n",
        "fig_arima.write_image(\"arima_forecast.png\")\n",
        "#Store your Discord Webhook URL here\n",
        "webhook_url = 'https://discord.com/api/webhooks/1112322739869597697/j9wGBTgbmg4y6IEUb5Kkwu-ilrQu8sVGfxNlql0RZOM6SVzwu4Tub19hm1HjYVCydsIq'\n",
        "#Connect to Discord Webhook and send a string as well as the arima_forcast.png file you previously saved.\n",
        "webhook = SyncWebhook.from_url(webhook_url)\n",
        "webhook.send(\"The latest ARIMA forecast is in!\")\n",
        "webhook.send(file=File(\"arima_forecast.png\"))\n",
        "#Print Forecasts sent!\n",
        "print(\"Forecast sent!\")"
      ]
    },
    {
      "cell_type": "markdown",
      "metadata": {
        "id": "cDQXzdChfCcz"
      },
      "source": [
        "## 4.2. Launching the Forecaster Page of the Dashboard"
      ]
    },
    {
      "cell_type": "markdown",
      "metadata": {
        "id": "Gf0pTpjOfCcz"
      },
      "source": [
        "Almost done! It is time to create the final page on the Dashboard. \n",
        "\n",
        "This one will allow users to apply differencing to the `df_nbr_sets_year` time series, outputing the results of the Augmented Dickey-Fuller test as well as ACF and PACF plots.\n",
        "\n",
        "The user can then choose its `p`, `d` and `q` hyperparameters which will train an ARIMA model on the training set and make forecasts.\n",
        "\n",
        "Finally, the user can input a Discord Webhook URL and requests the sending of the ARIMA model image to Discord via Webhook!\n",
        "\n",
        "This file will be called `02_Forecaster`.\n",
        "\n",
        "As before, follow the emojis to find where your intervention is needed!"
      ]
    },
    {
      "cell_type": "code",
      "execution_count": 55,
      "metadata": {
        "id": "_CLj4PNnfCcz",
        "colab": {
          "base_uri": "https://localhost:8080/"
        },
        "outputId": "db4152d0-5ff9-40a4-bd30-645c26e998f9"
      },
      "outputs": [
        {
          "output_type": "stream",
          "name": "stdout",
          "text": [
            "Overwriting pages/02_Forecaster.py\n"
          ]
        }
      ],
      "source": [
        "%%writefile pages/02_Forecaster.py\n",
        "import streamlit as st\n",
        "import numpy as np\n",
        "import pandas as pd\n",
        "import plotly.express as px\n",
        "import plotly.graph_objects as go\n",
        "from plotly.express.colors import sample_colorscale\n",
        "from datetime import datetime, timedelta\n",
        "from discord import SyncWebhook, File\n",
        "from statsmodels.tsa.arima.model import ARIMA\n",
        "from statsmodels.tsa.stattools import adfuller\n",
        "from statsmodels.tsa.stattools import pacf, acf\n",
        "from sklearn.metrics import mean_squared_error\n",
        "\n",
        "def do_stuff_on_page_load():\n",
        "    st.set_page_config(layout=\"wide\")\n",
        "\n",
        "def create_corr_plot(series, plot_pacf=False):\n",
        "    corr_array = pacf(series.dropna(), alpha=0.05) if plot_pacf else acf(series.dropna(), alpha=0.05)\n",
        "    lower_y = corr_array[1][:,0] - corr_array[0]\n",
        "    upper_y = corr_array[1][:,1] - corr_array[0]\n",
        "\n",
        "    fig = go.Figure()\n",
        "    for i in range(len(corr_array[0])):\n",
        "        fig.add_scatter(x=(i,i), y=(0,corr_array[0][i]), mode='lines',line_color='#3f3f3f')\n",
        "    fig.add_scatter(x=np.arange(len(corr_array[0])), y=corr_array[0], mode='markers', marker_color='#1f77b4',\n",
        "                marker_size=12)\n",
        "    fig.add_scatter(x=np.arange(len(corr_array[0])), y=upper_y, mode='lines', line_color='rgba(255,255,255,0)')\n",
        "    fig.add_scatter(x=np.arange(len(corr_array[0])), y=lower_y, mode='lines',fillcolor='rgba(32, 146, 230,0.3)',\n",
        "            fill='tonexty', line_color='rgba(255,255,255,0)')\n",
        "    fig.update_traces(showlegend=False)\n",
        "    fig.update_xaxes(range=[-1,15])\n",
        "    fig.update_yaxes(zerolinecolor='#000000')\n",
        "    \n",
        "    title='Partial Autocorrelation (PACF)' if plot_pacf else 'Autocorrelation (ACF)'\n",
        "    fig.update_layout(title=title)\n",
        "    return fig\n",
        "\n",
        "do_stuff_on_page_load()\n",
        "\n",
        "st.header('ARIMA Model Forecaster', anchor=None)\n",
        "st.text('In this page you will be able to perform the entire ARIMA flow. Start by choosing the order of differencing that ensures stationarity.')\n",
        "\n",
        "#Set Sidebar Elements\n",
        "with st.sidebar:\n",
        "    st.header('Filters', anchor=None)\n",
        "    values = st.slider(\n",
        "        'Select the Start and End Years',\n",
        "        1950, 2017, (1950, 2017))\n",
        "    st.write('Date Range: '+str(values[0])+'-01-01 to '+str(values[1])+'-01-01')\n",
        "\n",
        "#Import Data\n",
        "df = st.session_state['df']\n",
        "df_filtered = df[(df.year >= values[0]) & (df.year <= values[1])]\n",
        "\n",
        "#Make Forecaster (simple ARIMA) and display\n",
        "#Prepare Data for Model\n",
        "df_nbr_sets_year = df_filtered[['year','set_num']].drop_duplicates().groupby('year').count().reset_index().rename(columns={'set_num':'nbr_sets'})\n",
        "df_nbr_sets_year['date']= '31-12-'+df_nbr_sets_year.year.astype(int).astype(str)\n",
        "df_nbr_sets_year['date'] = pd.to_datetime(df_nbr_sets_year['date'],dayfirst=True)\n",
        "df_nbr_sets_year = df_nbr_sets_year.set_index('date')\n",
        "df_nbr_sets_year = df_nbr_sets_year.asfreq(freq='Y')\n",
        "df_nbr_sets_year['nbr_sets'] = df_nbr_sets_year.nbr_sets.fillna(0)\n",
        "df_train = df_nbr_sets_year.iloc[:-5]\n",
        "df_test = df_nbr_sets_year.iloc[-5:]\n",
        "\n",
        "with st.container():\n",
        "    order_differencing = st.slider('Order of Differencing:',min_value=0, max_value=2, value=0)\n",
        "    if order_differencing == 0:\n",
        "        df_train['nbr_sets_diff'] = df_train.nbr_sets\n",
        "    else:\n",
        "        df_train['nbr_sets_diff'] = df_train.nbr_sets.diff(order_differencing)\n",
        "    #Use Augmented Dickey-Fuller test for stationarity check\n",
        "    results_adfuller = adfuller(df_train.nbr_sets_diff.dropna())\n",
        "    st.text(f'ADF Statistic: {results_adfuller[0]}')\n",
        "    st.text(f'p-value: {results_adfuller[1]}')\n",
        "\n",
        "    #Print the Differenced timeseries\n",
        "    fig_diff = px.line(df_train, \n",
        "              x=\"year\", \n",
        "              y=\"nbr_sets_diff\", \n",
        "              title=f'Number of Sets After {order_differencing} Order Differencing',\n",
        "              color_discrete_sequence=px.colors.qualitative.Plotly)\n",
        "    fig_diff.update_layout(xaxis_title='Year', yaxis_title='Differenced Number of Parts per Set')\n",
        "    st.plotly_chart(fig_diff,use_container_width =True)\n",
        "\n",
        "    #Plot the ACF and PACF\n",
        "    fig_acf = create_corr_plot(df_train['nbr_sets_diff'].dropna(),plot_pacf=False)\n",
        "    fig_pacf = create_corr_plot(df_train['nbr_sets_diff'],plot_pacf=True)\n",
        "\n",
        "    col1, col2 = st.columns(2)\n",
        "\n",
        "    with col1:\n",
        "        st.plotly_chart(fig_acf,use_container_width =True)\n",
        "    with col2:\n",
        "        st.plotly_chart(fig_pacf,use_container_width =True)\n",
        "\n",
        "    #Accept user inputs for the ARIMA\n",
        "    #👇Create two columns and save them as col1 and col2\n",
        "    col1, col2 = st.columns(2)\n",
        "\n",
        "    #👇Print a string with 'With the ACF and PACF you should have hints to the hyperparameters that could be used on the ARIMA.' using the st.text method.\n",
        "    #https://docs.streamlit.io/library/api-reference/text/st.text\n",
        "    st.text('With the ACF and PACF you should have hints to the hyperparameters that could be used on the ARIMA.')\n",
        "\n",
        "    with col1:\n",
        "        #👇Collect the numeric user input from the user via the number_input method. Set minimum value as 0, maximum as 10, set base value as 0 and step as 1. Pass format='%i' and\n",
        "        #print the string 'Insert the value of hyperparameter p' to explain the purpose of this request to the user Store as param_p\n",
        "        #https://docs.streamlit.io/library/api-reference/widgets/st.number_input\n",
        "        param_p = st.number_input('Insert the value of hyperparameter p',min_value=0,max_value=10,value=0,step=1, format='%i')\n",
        "\n",
        "    with col2:\n",
        "        #👇Collect the numeric user input from the user via the number_input method. Set minimum value as 0, maximum as 10, set base value as 0 and ste as 1. Pass format='%i' and\n",
        "        #print the string 'Insert the value of hyperparameter q' to explain the purpose of this request to the user Store as param_q\n",
        "        param_q = st.number_input('Insert the value of hyperparameter q',min_value=0,max_value=10,value=0,step=1, format='%i')\n",
        "    \n",
        "    #Initialize and fit your first guess for ARIMA hyperparameters\n",
        "    arima = ARIMA(df_train.nbr_sets,order=(param_p,order_differencing,param_q))\n",
        "    arima_model = arima.fit()\n",
        "\n",
        "    fig_arima = go.Figure()\n",
        "    fig_arima.add_trace(\n",
        "        go.Scatter(\n",
        "            x=df_nbr_sets_year.index, \n",
        "            y=df_nbr_sets_year.nbr_sets,\n",
        "            mode='lines', \n",
        "            line={'color':px.colors.qualitative.Plotly[0]},\n",
        "            name=\"Actual Values\"\n",
        "        ))\n",
        "    fig_arima.add_trace(\n",
        "        go.Scatter(\n",
        "            x=df_nbr_sets_year.index, \n",
        "            y=arima_model.predict(start=0,end=67),\n",
        "            mode='lines', \n",
        "            line={'dash': 'dash', 'color': px.colors.qualitative.Plotly[1]},\n",
        "            name=\"ARIMA Predicted Values\"\n",
        "        ))\n",
        "\n",
        "    fig_arima.update_layout(title= 'Number of New Sets per Year and ARIMA Predictions', xaxis_title='Year', yaxis_title='Number of New Sets')\n",
        "    st.plotly_chart(fig_arima,use_container_width =True)\n",
        "    #👇Save the fig_arima figure using the same method you applied in 4.1. Save as \"arima_forecast.png\"\n",
        "    #Save the ARIMA image to send to Discord\n",
        "    fig_arima.write_image(\"arima_forecast.png\")\n",
        "\n",
        "    #Print Test Set RMSE\n",
        "    preds_arima = arima_model.forecast(5)\n",
        "    #👇Output a string with \"On the test set, for RMSE is \" with the RMSE of the ARIMA predictions at the end of the string. Do this using the text element.\n",
        "    st.text(f\"On the test set, for RMSE is {np.sqrt(mean_squared_error(df_test.nbr_sets,preds_arima)):.2f}\")\n",
        "\n",
        "    #👇Create a text_input element that displays 'Insert the Discord Webhook URL here!' to the user and collects its input into a variable named webhook_url\n",
        "    #https://docs.streamlit.io/library/api-reference/widgets/st.text_input\n",
        "    webhook_url = st.text_input('Insert the Discord Webhook URL here!')\n",
        "\n",
        "#👇Create a button that says 'Send Forecasts to Discord'. Once this button is pressed, run the code that connects to the Webhook using the webhook_url variable. \n",
        "#👇Then send the string 'The latest ARIMA forecast is in!' and send the arima_forecast.png file.\n",
        "if st.button('Send Forecast to Discord'):# Replace the ... with the button element\n",
        "  webhook = SyncWebhook.from_url(webhook_url)\n",
        "  webhook.send(\"The latest ARIMA forecast is in!\")\n",
        "  webhook.send(file=File(\"arima_forecast.png\"))\n",
        "\n",
        "  #👇Output a string to the Dashboard that says 'Forecasts sent!', using a text element.\n",
        "  st.text('Forecast sent!')"
      ]
    },
    {
      "cell_type": "markdown",
      "metadata": {
        "id": "YpxKFF-5fCc0"
      },
      "source": [
        "Now, launch the Dashboard again! Test out the ARIMA interactivity and make sure you receive the ARIMA forecasts to Discord when the button is pressed!"
      ]
    },
    {
      "cell_type": "code",
      "source": [
        "!curl ipv4.icanhazip.com"
      ],
      "metadata": {
        "colab": {
          "base_uri": "https://localhost:8080/"
        },
        "id": "K8NUmApX8w59",
        "outputId": "9b8dd580-012c-4fe7-e08a-b4530aa1230a"
      },
      "execution_count": 53,
      "outputs": [
        {
          "output_type": "stream",
          "name": "stdout",
          "text": [
            "35.199.51.198\n"
          ]
        }
      ]
    },
    {
      "cell_type": "code",
      "execution_count": 57,
      "metadata": {
        "id": "A3V1TPD-fCc0",
        "colab": {
          "base_uri": "https://localhost:8080/"
        },
        "outputId": "a931f1e3-c031-4a71-bac7-54c16261f2e2"
      },
      "outputs": [
        {
          "output_type": "stream",
          "name": "stdout",
          "text": [
            "\u001b[K\u001b[?25hnpx: installed 22 in 5.008s\n",
            "your url is: https://clever-icons-look.loca.lt\n",
            "^C\n"
          ]
        }
      ],
      "source": [
        "#Run the Home.py and create a logs.txt file with logging\n",
        "!streamlit run /content/Home.py &>/content/logs.txt &\n",
        "#Expose the app on port 8501\n",
        "!npx localtunnel --port 8501\n",
        "#This will produce a URL that you can use to reach the Dashboard"
      ]
    },
    {
      "cell_type": "markdown",
      "metadata": {
        "id": "SbywqlnVuu3Q"
      },
      "source": [
        "Well done! You have now created an interactive Dashboard with filters, visualizations and a interactive ML model that communicates via Webhook with Discord!"
      ]
    }
  ],
  "metadata": {
    "colab": {
      "provenance": [],
      "collapsed_sections": [
        "LrMQKLQlfCcs"
      ],
      "toc_visible": true,
      "include_colab_link": true
    },
    "kernelspec": {
      "display_name": "Python 3",
      "name": "python3"
    },
    "language_info": {
      "name": "python"
    }
  },
  "nbformat": 4,
  "nbformat_minor": 0
}